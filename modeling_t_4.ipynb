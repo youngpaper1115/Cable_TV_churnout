{
  "cells": [
    {
      "cell_type": "markdown",
      "metadata": {
        "id": "view-in-github",
        "colab_type": "text"
      },
      "source": [
        "<a href=\"https://colab.research.google.com/github/youngpaper1115/Cable_TV_churnout/blob/main/modeling_t_4.ipynb\" target=\"_parent\"><img src=\"https://colab.research.google.com/assets/colab-badge.svg\" alt=\"Open In Colab\"/></a>"
      ]
    },
    {
      "cell_type": "code",
      "execution_count": null,
      "id": "c92b6fc2-319f-45d2-bfc7-1232cbf74963",
      "metadata": {
        "id": "c92b6fc2-319f-45d2-bfc7-1232cbf74963"
      },
      "outputs": [],
      "source": [
        "import pandas as pd\n",
        "import pandas as pd\n",
        "import numpy as np\n",
        "from sklearn.model_selection import train_test_split, KFold\n",
        "from sklearn.ensemble import AdaBoostClassifier\n",
        "from sklearn.metrics import classification_report\n",
        "from sklearn.metrics import average_precision_score\n",
        "from sklearn.metrics import precision_recall_curve\n",
        "from sklearn.metrics import confusion_matrix, classification_report\n",
        "from sklearn.utils import resample\n",
        "from imblearn.over_sampling import SMOTE\n",
        "import matplotlib as mpl\n",
        "import matplotlib.pyplot as plt\n",
        "import matplotlib.font_manager as fm\n",
        "import seaborn as sns\n",
        "%matplotlib inline\n",
        "\n",
        "from sklearn.preprocessing import MinMaxScaler\n",
        "from sklearn.model_selection import GridSearchCV\n",
        "from sklearn.metrics import roc_auc_score\n",
        "from sklearn.preprocessing import StandardScaler\n",
        "from sklearn.manifold import TSNE\n",
        "from sklearn.decomposition import PCA\n",
        "import warnings    # 경고문구 지우기"
      ]
    },
    {
      "cell_type": "code",
      "execution_count": null,
      "id": "b7601103-326e-4021-b27d-ec689d3169d2",
      "metadata": {
        "id": "b7601103-326e-4021-b27d-ec689d3169d2"
      },
      "outputs": [],
      "source": [
        "# 통계 및 기계학습 관련 라이브러리\n",
        "from scipy import stats    # 통계 관련 라이브러리\n",
        "from sklearn.model_selection import train_test_split, RandomizedSearchCV    # 데이터 셋 분류 라이브러리\n",
        "from sklearn.utils import resample    # 데이터 업샘플링&다운샘플링 라이브러리\n",
        "from imblearn.over_sampling import RandomOverSampler\n",
        "from imblearn.combine import SMOTEENN    # 복합샘플링 라이브러리\n",
        "from imblearn.under_sampling import RandomUnderSampler\n",
        "from sklearn.preprocessing import StandardScaler, MinMaxScaler, RobustScaler    # 데이터 스케일링 라이브러리\n",
        "from statsmodels.stats.outliers_influence import variance_inflation_factor    # 변수 간 다중공선성 확인(VIF) 라이브러리\n",
        "from sklearn.metrics import (accuracy_score, confusion_matrix, classification_report, roc_auc_score, roc_curve, auc, plot_confusion_matrix, plot_roc_curve)    # 모델 정확도 검증 라이브러리\n",
        "from sklearn.model_selection import cross_val_score    # validation  검증 라이브러리\n",
        "from sklearn.linear_model import LogisticRegression    # 로지스틱 회귀 라이브러리\n",
        "from sklearn.linear_model import Lasso    # 라쏘 라이브러리\n",
        "from sklearn.linear_model import Ridge    # 릿지 라이브러리\n",
        "import statsmodels.api as sm    # 통계분석 관련 라이브러리\n",
        "from xgboost import XGBClassifier    # XGBoost 라이브러리\n",
        "from sklearn.ensemble import RandomForestClassifier    # 랜덤포레스트 라이브러리\n",
        "import warnings    # 경고문구 지우기"
      ]
    },
    {
      "cell_type": "code",
      "execution_count": null,
      "id": "4f82922d-738a-4094-91b9-98c8d119abe7",
      "metadata": {
        "id": "4f82922d-738a-4094-91b9-98c8d119abe7"
      },
      "outputs": [],
      "source": [
        "## 한글폰트 적용"
      ]
    },
    {
      "cell_type": "markdown",
      "id": "d110ae46-28fa-4653-aba1-39970407bd2c",
      "metadata": {
        "id": "d110ae46-28fa-4653-aba1-39970407bd2c"
      },
      "source": [
        "## 데이터 불러오기"
      ]
    },
    {
      "cell_type": "code",
      "execution_count": null,
      "id": "47ae17c2-5fdb-4e7d-99dd-983d20ab6dc6",
      "metadata": {
        "id": "47ae17c2-5fdb-4e7d-99dd-983d20ab6dc6"
      },
      "outputs": [],
      "source": [
        "path = '/home/ljy1115/project/NanumGothic.ttf'\n",
        "fontprop = fm.FontProperties(fname=path, size=18)\n",
        "fe = fm.FontEntry(fname='/home/ljy1115/project/NanumGothic.ttf', name='NanumGothic')\n",
        "fm.fontManager.ttflist.insert(0, fe) # or append is fine\n",
        "mpl.rcParams['font.family'] = fe.name # = 'your custom ttf font name'\n",
        "sns.set_theme(font ='NanumGothic', rc = {'axes.unicode_minus' : False}, style ='whitegrid')"
      ]
    },
    {
      "cell_type": "code",
      "execution_count": null,
      "id": "0d4f2e9e-010d-426a-854b-5ccb5309e682",
      "metadata": {
        "id": "0d4f2e9e-010d-426a-854b-5ccb5309e682"
      },
      "outputs": [],
      "source": [
        "pd.set_option('display.max_rows', 500)\n",
        "pd.set_option('display.max_columns', 500)\n",
        "pd.options.display.float_format = '{:.5f}'.format"
      ]
    },
    {
      "cell_type": "code",
      "execution_count": null,
      "id": "05083447-b89a-4a8e-b4bd-7bdc29cd784f",
      "metadata": {
        "id": "05083447-b89a-4a8e-b4bd-7bdc29cd784f",
        "outputId": "48a5e71c-6224-43c0-b3ae-6881c5e9bb2a"
      },
      "outputs": [
        {
          "name": "stdout",
          "output_type": "stream",
          "text": [
            "/home/ljy1115/project\n"
          ]
        }
      ],
      "source": [
        "import os\n",
        "\n",
        "path = os.getcwd()\n",
        "print(path)"
      ]
    },
    {
      "cell_type": "code",
      "execution_count": null,
      "id": "600fdebd-1199-4dc7-8657-fffe2f4f3fde",
      "metadata": {
        "id": "600fdebd-1199-4dc7-8657-fffe2f4f3fde"
      },
      "outputs": [],
      "source": [
        "## 데이터 불러오기"
      ]
    },
    {
      "cell_type": "code",
      "execution_count": null,
      "id": "4febbd94-ce15-497f-bab1-a84d1aa5fa15",
      "metadata": {
        "id": "4febbd94-ce15-497f-bab1-a84d1aa5fa15"
      },
      "outputs": [],
      "source": [
        "df = pd.read_csv('/home/ljy1115/project/dataset.csv',sep=',')"
      ]
    },
    {
      "cell_type": "code",
      "execution_count": null,
      "id": "015bf06f-9c6c-4e1a-a028-b4354fc5c978",
      "metadata": {
        "id": "015bf06f-9c6c-4e1a-a028-b4354fc5c978",
        "outputId": "ff2cc5ab-af48-4e2c-ccb6-c202ddb6c400"
      },
      "outputs": [
        {
          "data": {
            "text/html": [
              "<div>\n",
              "<style scoped>\n",
              "    .dataframe tbody tr th:only-of-type {\n",
              "        vertical-align: middle;\n",
              "    }\n",
              "\n",
              "    .dataframe tbody tr th {\n",
              "        vertical-align: top;\n",
              "    }\n",
              "\n",
              "    .dataframe thead th {\n",
              "        text-align: right;\n",
              "    }\n",
              "</style>\n",
              "<table border=\"1\" class=\"dataframe\">\n",
              "  <thead>\n",
              "    <tr style=\"text-align: right;\">\n",
              "      <th></th>\n",
              "      <th>Unnamed: 0</th>\n",
              "      <th>survived</th>\n",
              "      <th>pclass</th>\n",
              "      <th>sex</th>\n",
              "      <th>age</th>\n",
              "      <th>sibsp</th>\n",
              "      <th>parch</th>\n",
              "      <th>fare</th>\n",
              "      <th>embarked</th>\n",
              "      <th>class</th>\n",
              "      <th>who</th>\n",
              "      <th>adult_male</th>\n",
              "      <th>deck</th>\n",
              "      <th>embark_town</th>\n",
              "      <th>alive</th>\n",
              "      <th>alone</th>\n",
              "    </tr>\n",
              "  </thead>\n",
              "  <tbody>\n",
              "    <tr>\n",
              "      <th>0</th>\n",
              "      <td>0</td>\n",
              "      <td>0</td>\n",
              "      <td>3</td>\n",
              "      <td>male</td>\n",
              "      <td>22.00000</td>\n",
              "      <td>1</td>\n",
              "      <td>0</td>\n",
              "      <td>7.25000</td>\n",
              "      <td>S</td>\n",
              "      <td>Third</td>\n",
              "      <td>man</td>\n",
              "      <td>True</td>\n",
              "      <td>NaN</td>\n",
              "      <td>Southampton</td>\n",
              "      <td>no</td>\n",
              "      <td>False</td>\n",
              "    </tr>\n",
              "    <tr>\n",
              "      <th>1</th>\n",
              "      <td>1</td>\n",
              "      <td>1</td>\n",
              "      <td>1</td>\n",
              "      <td>female</td>\n",
              "      <td>38.00000</td>\n",
              "      <td>1</td>\n",
              "      <td>0</td>\n",
              "      <td>71.28330</td>\n",
              "      <td>C</td>\n",
              "      <td>First</td>\n",
              "      <td>woman</td>\n",
              "      <td>False</td>\n",
              "      <td>C</td>\n",
              "      <td>Cherbourg</td>\n",
              "      <td>yes</td>\n",
              "      <td>False</td>\n",
              "    </tr>\n",
              "    <tr>\n",
              "      <th>2</th>\n",
              "      <td>2</td>\n",
              "      <td>1</td>\n",
              "      <td>3</td>\n",
              "      <td>female</td>\n",
              "      <td>26.00000</td>\n",
              "      <td>0</td>\n",
              "      <td>0</td>\n",
              "      <td>7.92500</td>\n",
              "      <td>S</td>\n",
              "      <td>Third</td>\n",
              "      <td>woman</td>\n",
              "      <td>False</td>\n",
              "      <td>NaN</td>\n",
              "      <td>Southampton</td>\n",
              "      <td>yes</td>\n",
              "      <td>True</td>\n",
              "    </tr>\n",
              "    <tr>\n",
              "      <th>3</th>\n",
              "      <td>3</td>\n",
              "      <td>1</td>\n",
              "      <td>1</td>\n",
              "      <td>female</td>\n",
              "      <td>35.00000</td>\n",
              "      <td>1</td>\n",
              "      <td>0</td>\n",
              "      <td>53.10000</td>\n",
              "      <td>S</td>\n",
              "      <td>First</td>\n",
              "      <td>woman</td>\n",
              "      <td>False</td>\n",
              "      <td>C</td>\n",
              "      <td>Southampton</td>\n",
              "      <td>yes</td>\n",
              "      <td>False</td>\n",
              "    </tr>\n",
              "    <tr>\n",
              "      <th>4</th>\n",
              "      <td>4</td>\n",
              "      <td>0</td>\n",
              "      <td>3</td>\n",
              "      <td>male</td>\n",
              "      <td>35.00000</td>\n",
              "      <td>0</td>\n",
              "      <td>0</td>\n",
              "      <td>8.05000</td>\n",
              "      <td>S</td>\n",
              "      <td>Third</td>\n",
              "      <td>man</td>\n",
              "      <td>True</td>\n",
              "      <td>NaN</td>\n",
              "      <td>Southampton</td>\n",
              "      <td>no</td>\n",
              "      <td>True</td>\n",
              "    </tr>\n",
              "    <tr>\n",
              "      <th>...</th>\n",
              "      <td>...</td>\n",
              "      <td>...</td>\n",
              "      <td>...</td>\n",
              "      <td>...</td>\n",
              "      <td>...</td>\n",
              "      <td>...</td>\n",
              "      <td>...</td>\n",
              "      <td>...</td>\n",
              "      <td>...</td>\n",
              "      <td>...</td>\n",
              "      <td>...</td>\n",
              "      <td>...</td>\n",
              "      <td>...</td>\n",
              "      <td>...</td>\n",
              "      <td>...</td>\n",
              "      <td>...</td>\n",
              "    </tr>\n",
              "    <tr>\n",
              "      <th>886</th>\n",
              "      <td>886</td>\n",
              "      <td>0</td>\n",
              "      <td>2</td>\n",
              "      <td>male</td>\n",
              "      <td>27.00000</td>\n",
              "      <td>0</td>\n",
              "      <td>0</td>\n",
              "      <td>13.00000</td>\n",
              "      <td>S</td>\n",
              "      <td>Second</td>\n",
              "      <td>man</td>\n",
              "      <td>True</td>\n",
              "      <td>NaN</td>\n",
              "      <td>Southampton</td>\n",
              "      <td>no</td>\n",
              "      <td>True</td>\n",
              "    </tr>\n",
              "    <tr>\n",
              "      <th>887</th>\n",
              "      <td>887</td>\n",
              "      <td>1</td>\n",
              "      <td>1</td>\n",
              "      <td>female</td>\n",
              "      <td>19.00000</td>\n",
              "      <td>0</td>\n",
              "      <td>0</td>\n",
              "      <td>30.00000</td>\n",
              "      <td>S</td>\n",
              "      <td>First</td>\n",
              "      <td>woman</td>\n",
              "      <td>False</td>\n",
              "      <td>B</td>\n",
              "      <td>Southampton</td>\n",
              "      <td>yes</td>\n",
              "      <td>True</td>\n",
              "    </tr>\n",
              "    <tr>\n",
              "      <th>888</th>\n",
              "      <td>888</td>\n",
              "      <td>0</td>\n",
              "      <td>3</td>\n",
              "      <td>female</td>\n",
              "      <td>NaN</td>\n",
              "      <td>1</td>\n",
              "      <td>2</td>\n",
              "      <td>23.45000</td>\n",
              "      <td>S</td>\n",
              "      <td>Third</td>\n",
              "      <td>woman</td>\n",
              "      <td>False</td>\n",
              "      <td>NaN</td>\n",
              "      <td>Southampton</td>\n",
              "      <td>no</td>\n",
              "      <td>False</td>\n",
              "    </tr>\n",
              "    <tr>\n",
              "      <th>889</th>\n",
              "      <td>889</td>\n",
              "      <td>1</td>\n",
              "      <td>1</td>\n",
              "      <td>male</td>\n",
              "      <td>26.00000</td>\n",
              "      <td>0</td>\n",
              "      <td>0</td>\n",
              "      <td>30.00000</td>\n",
              "      <td>C</td>\n",
              "      <td>First</td>\n",
              "      <td>man</td>\n",
              "      <td>True</td>\n",
              "      <td>C</td>\n",
              "      <td>Cherbourg</td>\n",
              "      <td>yes</td>\n",
              "      <td>True</td>\n",
              "    </tr>\n",
              "    <tr>\n",
              "      <th>890</th>\n",
              "      <td>890</td>\n",
              "      <td>0</td>\n",
              "      <td>3</td>\n",
              "      <td>male</td>\n",
              "      <td>32.00000</td>\n",
              "      <td>0</td>\n",
              "      <td>0</td>\n",
              "      <td>7.75000</td>\n",
              "      <td>Q</td>\n",
              "      <td>Third</td>\n",
              "      <td>man</td>\n",
              "      <td>True</td>\n",
              "      <td>NaN</td>\n",
              "      <td>Queenstown</td>\n",
              "      <td>no</td>\n",
              "      <td>True</td>\n",
              "    </tr>\n",
              "  </tbody>\n",
              "</table>\n",
              "<p>891 rows × 16 columns</p>\n",
              "</div>"
            ],
            "text/plain": [
              "     Unnamed: 0  survived  pclass     sex      age  sibsp  parch     fare  \\\n",
              "0             0         0       3    male 22.00000      1      0  7.25000   \n",
              "1             1         1       1  female 38.00000      1      0 71.28330   \n",
              "2             2         1       3  female 26.00000      0      0  7.92500   \n",
              "3             3         1       1  female 35.00000      1      0 53.10000   \n",
              "4             4         0       3    male 35.00000      0      0  8.05000   \n",
              "..          ...       ...     ...     ...      ...    ...    ...      ...   \n",
              "886         886         0       2    male 27.00000      0      0 13.00000   \n",
              "887         887         1       1  female 19.00000      0      0 30.00000   \n",
              "888         888         0       3  female      NaN      1      2 23.45000   \n",
              "889         889         1       1    male 26.00000      0      0 30.00000   \n",
              "890         890         0       3    male 32.00000      0      0  7.75000   \n",
              "\n",
              "    embarked   class    who  adult_male deck  embark_town alive  alone  \n",
              "0          S   Third    man        True  NaN  Southampton    no  False  \n",
              "1          C   First  woman       False    C    Cherbourg   yes  False  \n",
              "2          S   Third  woman       False  NaN  Southampton   yes   True  \n",
              "3          S   First  woman       False    C  Southampton   yes  False  \n",
              "4          S   Third    man        True  NaN  Southampton    no   True  \n",
              "..       ...     ...    ...         ...  ...          ...   ...    ...  \n",
              "886        S  Second    man        True  NaN  Southampton    no   True  \n",
              "887        S   First  woman       False    B  Southampton   yes   True  \n",
              "888        S   Third  woman       False  NaN  Southampton    no  False  \n",
              "889        C   First    man        True    C    Cherbourg   yes   True  \n",
              "890        Q   Third    man        True  NaN   Queenstown    no   True  \n",
              "\n",
              "[891 rows x 16 columns]"
            ]
          },
          "execution_count": 9,
          "metadata": {},
          "output_type": "execute_result"
        }
      ],
      "source": [
        "df"
      ]
    },
    {
      "cell_type": "markdown",
      "id": "58c35f4d-b643-46b3-8a74-9722d81da88f",
      "metadata": {
        "id": "58c35f4d-b643-46b3-8a74-9722d81da88f"
      },
      "source": [
        "## null 값 확인"
      ]
    },
    {
      "cell_type": "code",
      "execution_count": null,
      "id": "7123cc1a-2ec4-465e-affa-60be1581508c",
      "metadata": {
        "id": "7123cc1a-2ec4-465e-affa-60be1581508c",
        "outputId": "2893ec4e-4f3b-4a63-e4da-810de5edc0f2"
      },
      "outputs": [
        {
          "data": {
            "text/plain": [
              "Unnamed: 0       0\n",
              "survived         0\n",
              "pclass           0\n",
              "sex              0\n",
              "age            177\n",
              "sibsp            0\n",
              "parch            0\n",
              "fare             0\n",
              "embarked         2\n",
              "class            0\n",
              "who              0\n",
              "adult_male       0\n",
              "deck           688\n",
              "embark_town      2\n",
              "alive            0\n",
              "alone            0\n",
              "dtype: int64"
            ]
          },
          "execution_count": 10,
          "metadata": {},
          "output_type": "execute_result"
        }
      ],
      "source": [
        "df.isnull().sum()"
      ]
    },
    {
      "cell_type": "markdown",
      "id": "0b2b6043-efe8-4d8f-8fd9-7f149edac1e1",
      "metadata": {
        "id": "0b2b6043-efe8-4d8f-8fd9-7f149edac1e1"
      },
      "source": [
        "## unnamed 칼럼 삭제"
      ]
    },
    {
      "cell_type": "code",
      "execution_count": null,
      "id": "30aaa96c-8536-4e22-87fa-9c647c7cdbf2",
      "metadata": {
        "id": "30aaa96c-8536-4e22-87fa-9c647c7cdbf2"
      },
      "outputs": [],
      "source": [
        "df=df.drop('Unnamed: 0', axis=1)"
      ]
    },
    {
      "cell_type": "code",
      "execution_count": null,
      "id": "aea2e4df-afed-41eb-8472-8169ee6c17b6",
      "metadata": {
        "id": "aea2e4df-afed-41eb-8472-8169ee6c17b6",
        "outputId": "1be77131-cf6f-41a1-d875-e54dde6506ef"
      },
      "outputs": [
        {
          "data": {
            "text/html": [
              "<div>\n",
              "<style scoped>\n",
              "    .dataframe tbody tr th:only-of-type {\n",
              "        vertical-align: middle;\n",
              "    }\n",
              "\n",
              "    .dataframe tbody tr th {\n",
              "        vertical-align: top;\n",
              "    }\n",
              "\n",
              "    .dataframe thead th {\n",
              "        text-align: right;\n",
              "    }\n",
              "</style>\n",
              "<table border=\"1\" class=\"dataframe\">\n",
              "  <thead>\n",
              "    <tr style=\"text-align: right;\">\n",
              "      <th></th>\n",
              "      <th>survived</th>\n",
              "      <th>pclass</th>\n",
              "      <th>sex</th>\n",
              "      <th>age</th>\n",
              "      <th>sibsp</th>\n",
              "      <th>parch</th>\n",
              "      <th>fare</th>\n",
              "      <th>embarked</th>\n",
              "      <th>class</th>\n",
              "      <th>who</th>\n",
              "      <th>adult_male</th>\n",
              "      <th>deck</th>\n",
              "      <th>embark_town</th>\n",
              "      <th>alive</th>\n",
              "      <th>alone</th>\n",
              "    </tr>\n",
              "  </thead>\n",
              "  <tbody>\n",
              "    <tr>\n",
              "      <th>0</th>\n",
              "      <td>0</td>\n",
              "      <td>3</td>\n",
              "      <td>male</td>\n",
              "      <td>22.00000</td>\n",
              "      <td>1</td>\n",
              "      <td>0</td>\n",
              "      <td>7.25000</td>\n",
              "      <td>S</td>\n",
              "      <td>Third</td>\n",
              "      <td>man</td>\n",
              "      <td>True</td>\n",
              "      <td>NaN</td>\n",
              "      <td>Southampton</td>\n",
              "      <td>no</td>\n",
              "      <td>False</td>\n",
              "    </tr>\n",
              "    <tr>\n",
              "      <th>1</th>\n",
              "      <td>1</td>\n",
              "      <td>1</td>\n",
              "      <td>female</td>\n",
              "      <td>38.00000</td>\n",
              "      <td>1</td>\n",
              "      <td>0</td>\n",
              "      <td>71.28330</td>\n",
              "      <td>C</td>\n",
              "      <td>First</td>\n",
              "      <td>woman</td>\n",
              "      <td>False</td>\n",
              "      <td>C</td>\n",
              "      <td>Cherbourg</td>\n",
              "      <td>yes</td>\n",
              "      <td>False</td>\n",
              "    </tr>\n",
              "    <tr>\n",
              "      <th>2</th>\n",
              "      <td>1</td>\n",
              "      <td>3</td>\n",
              "      <td>female</td>\n",
              "      <td>26.00000</td>\n",
              "      <td>0</td>\n",
              "      <td>0</td>\n",
              "      <td>7.92500</td>\n",
              "      <td>S</td>\n",
              "      <td>Third</td>\n",
              "      <td>woman</td>\n",
              "      <td>False</td>\n",
              "      <td>NaN</td>\n",
              "      <td>Southampton</td>\n",
              "      <td>yes</td>\n",
              "      <td>True</td>\n",
              "    </tr>\n",
              "    <tr>\n",
              "      <th>3</th>\n",
              "      <td>1</td>\n",
              "      <td>1</td>\n",
              "      <td>female</td>\n",
              "      <td>35.00000</td>\n",
              "      <td>1</td>\n",
              "      <td>0</td>\n",
              "      <td>53.10000</td>\n",
              "      <td>S</td>\n",
              "      <td>First</td>\n",
              "      <td>woman</td>\n",
              "      <td>False</td>\n",
              "      <td>C</td>\n",
              "      <td>Southampton</td>\n",
              "      <td>yes</td>\n",
              "      <td>False</td>\n",
              "    </tr>\n",
              "    <tr>\n",
              "      <th>4</th>\n",
              "      <td>0</td>\n",
              "      <td>3</td>\n",
              "      <td>male</td>\n",
              "      <td>35.00000</td>\n",
              "      <td>0</td>\n",
              "      <td>0</td>\n",
              "      <td>8.05000</td>\n",
              "      <td>S</td>\n",
              "      <td>Third</td>\n",
              "      <td>man</td>\n",
              "      <td>True</td>\n",
              "      <td>NaN</td>\n",
              "      <td>Southampton</td>\n",
              "      <td>no</td>\n",
              "      <td>True</td>\n",
              "    </tr>\n",
              "    <tr>\n",
              "      <th>...</th>\n",
              "      <td>...</td>\n",
              "      <td>...</td>\n",
              "      <td>...</td>\n",
              "      <td>...</td>\n",
              "      <td>...</td>\n",
              "      <td>...</td>\n",
              "      <td>...</td>\n",
              "      <td>...</td>\n",
              "      <td>...</td>\n",
              "      <td>...</td>\n",
              "      <td>...</td>\n",
              "      <td>...</td>\n",
              "      <td>...</td>\n",
              "      <td>...</td>\n",
              "      <td>...</td>\n",
              "    </tr>\n",
              "    <tr>\n",
              "      <th>886</th>\n",
              "      <td>0</td>\n",
              "      <td>2</td>\n",
              "      <td>male</td>\n",
              "      <td>27.00000</td>\n",
              "      <td>0</td>\n",
              "      <td>0</td>\n",
              "      <td>13.00000</td>\n",
              "      <td>S</td>\n",
              "      <td>Second</td>\n",
              "      <td>man</td>\n",
              "      <td>True</td>\n",
              "      <td>NaN</td>\n",
              "      <td>Southampton</td>\n",
              "      <td>no</td>\n",
              "      <td>True</td>\n",
              "    </tr>\n",
              "    <tr>\n",
              "      <th>887</th>\n",
              "      <td>1</td>\n",
              "      <td>1</td>\n",
              "      <td>female</td>\n",
              "      <td>19.00000</td>\n",
              "      <td>0</td>\n",
              "      <td>0</td>\n",
              "      <td>30.00000</td>\n",
              "      <td>S</td>\n",
              "      <td>First</td>\n",
              "      <td>woman</td>\n",
              "      <td>False</td>\n",
              "      <td>B</td>\n",
              "      <td>Southampton</td>\n",
              "      <td>yes</td>\n",
              "      <td>True</td>\n",
              "    </tr>\n",
              "    <tr>\n",
              "      <th>888</th>\n",
              "      <td>0</td>\n",
              "      <td>3</td>\n",
              "      <td>female</td>\n",
              "      <td>NaN</td>\n",
              "      <td>1</td>\n",
              "      <td>2</td>\n",
              "      <td>23.45000</td>\n",
              "      <td>S</td>\n",
              "      <td>Third</td>\n",
              "      <td>woman</td>\n",
              "      <td>False</td>\n",
              "      <td>NaN</td>\n",
              "      <td>Southampton</td>\n",
              "      <td>no</td>\n",
              "      <td>False</td>\n",
              "    </tr>\n",
              "    <tr>\n",
              "      <th>889</th>\n",
              "      <td>1</td>\n",
              "      <td>1</td>\n",
              "      <td>male</td>\n",
              "      <td>26.00000</td>\n",
              "      <td>0</td>\n",
              "      <td>0</td>\n",
              "      <td>30.00000</td>\n",
              "      <td>C</td>\n",
              "      <td>First</td>\n",
              "      <td>man</td>\n",
              "      <td>True</td>\n",
              "      <td>C</td>\n",
              "      <td>Cherbourg</td>\n",
              "      <td>yes</td>\n",
              "      <td>True</td>\n",
              "    </tr>\n",
              "    <tr>\n",
              "      <th>890</th>\n",
              "      <td>0</td>\n",
              "      <td>3</td>\n",
              "      <td>male</td>\n",
              "      <td>32.00000</td>\n",
              "      <td>0</td>\n",
              "      <td>0</td>\n",
              "      <td>7.75000</td>\n",
              "      <td>Q</td>\n",
              "      <td>Third</td>\n",
              "      <td>man</td>\n",
              "      <td>True</td>\n",
              "      <td>NaN</td>\n",
              "      <td>Queenstown</td>\n",
              "      <td>no</td>\n",
              "      <td>True</td>\n",
              "    </tr>\n",
              "  </tbody>\n",
              "</table>\n",
              "<p>891 rows × 15 columns</p>\n",
              "</div>"
            ],
            "text/plain": [
              "     survived  pclass     sex      age  sibsp  parch     fare embarked  \\\n",
              "0           0       3    male 22.00000      1      0  7.25000        S   \n",
              "1           1       1  female 38.00000      1      0 71.28330        C   \n",
              "2           1       3  female 26.00000      0      0  7.92500        S   \n",
              "3           1       1  female 35.00000      1      0 53.10000        S   \n",
              "4           0       3    male 35.00000      0      0  8.05000        S   \n",
              "..        ...     ...     ...      ...    ...    ...      ...      ...   \n",
              "886         0       2    male 27.00000      0      0 13.00000        S   \n",
              "887         1       1  female 19.00000      0      0 30.00000        S   \n",
              "888         0       3  female      NaN      1      2 23.45000        S   \n",
              "889         1       1    male 26.00000      0      0 30.00000        C   \n",
              "890         0       3    male 32.00000      0      0  7.75000        Q   \n",
              "\n",
              "      class    who  adult_male deck  embark_town alive  alone  \n",
              "0     Third    man        True  NaN  Southampton    no  False  \n",
              "1     First  woman       False    C    Cherbourg   yes  False  \n",
              "2     Third  woman       False  NaN  Southampton   yes   True  \n",
              "3     First  woman       False    C  Southampton   yes  False  \n",
              "4     Third    man        True  NaN  Southampton    no   True  \n",
              "..      ...    ...         ...  ...          ...   ...    ...  \n",
              "886  Second    man        True  NaN  Southampton    no   True  \n",
              "887   First  woman       False    B  Southampton   yes   True  \n",
              "888   Third  woman       False  NaN  Southampton    no  False  \n",
              "889   First    man        True    C    Cherbourg   yes   True  \n",
              "890   Third    man        True  NaN   Queenstown    no   True  \n",
              "\n",
              "[891 rows x 15 columns]"
            ]
          },
          "execution_count": 12,
          "metadata": {},
          "output_type": "execute_result"
        }
      ],
      "source": [
        "df"
      ]
    },
    {
      "cell_type": "markdown",
      "id": "54d66bae-c3bc-4907-8108-7edb84951f80",
      "metadata": {
        "id": "54d66bae-c3bc-4907-8108-7edb84951f80"
      },
      "source": [
        "## cat / num 구분"
      ]
    },
    {
      "cell_type": "code",
      "execution_count": null,
      "id": "4104eac1-f3c5-4219-98cb-9ef486d887cc",
      "metadata": {
        "id": "4104eac1-f3c5-4219-98cb-9ef486d887cc"
      },
      "outputs": [],
      "source": [
        "# 숫자변수 확인\n",
        "num = df.select_dtypes(include='number')\n",
        "# 범주변수 확인\n",
        "cat = df.select_dtypes(exclude='number')"
      ]
    },
    {
      "cell_type": "code",
      "execution_count": null,
      "id": "e259c3bd-a0af-4c80-9640-b7ea499105c7",
      "metadata": {
        "id": "e259c3bd-a0af-4c80-9640-b7ea499105c7",
        "outputId": "42ab3e0f-b25b-42d9-8a48-af58b51ac40b"
      },
      "outputs": [
        {
          "data": {
            "text/html": [
              "<div>\n",
              "<style scoped>\n",
              "    .dataframe tbody tr th:only-of-type {\n",
              "        vertical-align: middle;\n",
              "    }\n",
              "\n",
              "    .dataframe tbody tr th {\n",
              "        vertical-align: top;\n",
              "    }\n",
              "\n",
              "    .dataframe thead th {\n",
              "        text-align: right;\n",
              "    }\n",
              "</style>\n",
              "<table border=\"1\" class=\"dataframe\">\n",
              "  <thead>\n",
              "    <tr style=\"text-align: right;\">\n",
              "      <th></th>\n",
              "      <th>survived</th>\n",
              "      <th>pclass</th>\n",
              "      <th>age</th>\n",
              "      <th>sibsp</th>\n",
              "      <th>parch</th>\n",
              "      <th>fare</th>\n",
              "    </tr>\n",
              "  </thead>\n",
              "  <tbody>\n",
              "    <tr>\n",
              "      <th>0</th>\n",
              "      <td>0</td>\n",
              "      <td>3</td>\n",
              "      <td>22.00000</td>\n",
              "      <td>1</td>\n",
              "      <td>0</td>\n",
              "      <td>7.25000</td>\n",
              "    </tr>\n",
              "    <tr>\n",
              "      <th>1</th>\n",
              "      <td>1</td>\n",
              "      <td>1</td>\n",
              "      <td>38.00000</td>\n",
              "      <td>1</td>\n",
              "      <td>0</td>\n",
              "      <td>71.28330</td>\n",
              "    </tr>\n",
              "    <tr>\n",
              "      <th>2</th>\n",
              "      <td>1</td>\n",
              "      <td>3</td>\n",
              "      <td>26.00000</td>\n",
              "      <td>0</td>\n",
              "      <td>0</td>\n",
              "      <td>7.92500</td>\n",
              "    </tr>\n",
              "    <tr>\n",
              "      <th>3</th>\n",
              "      <td>1</td>\n",
              "      <td>1</td>\n",
              "      <td>35.00000</td>\n",
              "      <td>1</td>\n",
              "      <td>0</td>\n",
              "      <td>53.10000</td>\n",
              "    </tr>\n",
              "    <tr>\n",
              "      <th>4</th>\n",
              "      <td>0</td>\n",
              "      <td>3</td>\n",
              "      <td>35.00000</td>\n",
              "      <td>0</td>\n",
              "      <td>0</td>\n",
              "      <td>8.05000</td>\n",
              "    </tr>\n",
              "    <tr>\n",
              "      <th>...</th>\n",
              "      <td>...</td>\n",
              "      <td>...</td>\n",
              "      <td>...</td>\n",
              "      <td>...</td>\n",
              "      <td>...</td>\n",
              "      <td>...</td>\n",
              "    </tr>\n",
              "    <tr>\n",
              "      <th>886</th>\n",
              "      <td>0</td>\n",
              "      <td>2</td>\n",
              "      <td>27.00000</td>\n",
              "      <td>0</td>\n",
              "      <td>0</td>\n",
              "      <td>13.00000</td>\n",
              "    </tr>\n",
              "    <tr>\n",
              "      <th>887</th>\n",
              "      <td>1</td>\n",
              "      <td>1</td>\n",
              "      <td>19.00000</td>\n",
              "      <td>0</td>\n",
              "      <td>0</td>\n",
              "      <td>30.00000</td>\n",
              "    </tr>\n",
              "    <tr>\n",
              "      <th>888</th>\n",
              "      <td>0</td>\n",
              "      <td>3</td>\n",
              "      <td>NaN</td>\n",
              "      <td>1</td>\n",
              "      <td>2</td>\n",
              "      <td>23.45000</td>\n",
              "    </tr>\n",
              "    <tr>\n",
              "      <th>889</th>\n",
              "      <td>1</td>\n",
              "      <td>1</td>\n",
              "      <td>26.00000</td>\n",
              "      <td>0</td>\n",
              "      <td>0</td>\n",
              "      <td>30.00000</td>\n",
              "    </tr>\n",
              "    <tr>\n",
              "      <th>890</th>\n",
              "      <td>0</td>\n",
              "      <td>3</td>\n",
              "      <td>32.00000</td>\n",
              "      <td>0</td>\n",
              "      <td>0</td>\n",
              "      <td>7.75000</td>\n",
              "    </tr>\n",
              "  </tbody>\n",
              "</table>\n",
              "<p>891 rows × 6 columns</p>\n",
              "</div>"
            ],
            "text/plain": [
              "     survived  pclass      age  sibsp  parch     fare\n",
              "0           0       3 22.00000      1      0  7.25000\n",
              "1           1       1 38.00000      1      0 71.28330\n",
              "2           1       3 26.00000      0      0  7.92500\n",
              "3           1       1 35.00000      1      0 53.10000\n",
              "4           0       3 35.00000      0      0  8.05000\n",
              "..        ...     ...      ...    ...    ...      ...\n",
              "886         0       2 27.00000      0      0 13.00000\n",
              "887         1       1 19.00000      0      0 30.00000\n",
              "888         0       3      NaN      1      2 23.45000\n",
              "889         1       1 26.00000      0      0 30.00000\n",
              "890         0       3 32.00000      0      0  7.75000\n",
              "\n",
              "[891 rows x 6 columns]"
            ]
          },
          "execution_count": 14,
          "metadata": {},
          "output_type": "execute_result"
        }
      ],
      "source": [
        "num"
      ]
    },
    {
      "cell_type": "code",
      "execution_count": null,
      "id": "84489810-562d-4d9b-88c7-173cd935fd6c",
      "metadata": {
        "id": "84489810-562d-4d9b-88c7-173cd935fd6c",
        "outputId": "a8f1da28-9de8-4bb9-929d-398ab0dda301"
      },
      "outputs": [
        {
          "data": {
            "text/html": [
              "<div>\n",
              "<style scoped>\n",
              "    .dataframe tbody tr th:only-of-type {\n",
              "        vertical-align: middle;\n",
              "    }\n",
              "\n",
              "    .dataframe tbody tr th {\n",
              "        vertical-align: top;\n",
              "    }\n",
              "\n",
              "    .dataframe thead th {\n",
              "        text-align: right;\n",
              "    }\n",
              "</style>\n",
              "<table border=\"1\" class=\"dataframe\">\n",
              "  <thead>\n",
              "    <tr style=\"text-align: right;\">\n",
              "      <th></th>\n",
              "      <th>sex</th>\n",
              "      <th>embarked</th>\n",
              "      <th>class</th>\n",
              "      <th>who</th>\n",
              "      <th>adult_male</th>\n",
              "      <th>deck</th>\n",
              "      <th>embark_town</th>\n",
              "      <th>alive</th>\n",
              "      <th>alone</th>\n",
              "    </tr>\n",
              "  </thead>\n",
              "  <tbody>\n",
              "    <tr>\n",
              "      <th>0</th>\n",
              "      <td>male</td>\n",
              "      <td>S</td>\n",
              "      <td>Third</td>\n",
              "      <td>man</td>\n",
              "      <td>True</td>\n",
              "      <td>NaN</td>\n",
              "      <td>Southampton</td>\n",
              "      <td>no</td>\n",
              "      <td>False</td>\n",
              "    </tr>\n",
              "    <tr>\n",
              "      <th>1</th>\n",
              "      <td>female</td>\n",
              "      <td>C</td>\n",
              "      <td>First</td>\n",
              "      <td>woman</td>\n",
              "      <td>False</td>\n",
              "      <td>C</td>\n",
              "      <td>Cherbourg</td>\n",
              "      <td>yes</td>\n",
              "      <td>False</td>\n",
              "    </tr>\n",
              "    <tr>\n",
              "      <th>2</th>\n",
              "      <td>female</td>\n",
              "      <td>S</td>\n",
              "      <td>Third</td>\n",
              "      <td>woman</td>\n",
              "      <td>False</td>\n",
              "      <td>NaN</td>\n",
              "      <td>Southampton</td>\n",
              "      <td>yes</td>\n",
              "      <td>True</td>\n",
              "    </tr>\n",
              "    <tr>\n",
              "      <th>3</th>\n",
              "      <td>female</td>\n",
              "      <td>S</td>\n",
              "      <td>First</td>\n",
              "      <td>woman</td>\n",
              "      <td>False</td>\n",
              "      <td>C</td>\n",
              "      <td>Southampton</td>\n",
              "      <td>yes</td>\n",
              "      <td>False</td>\n",
              "    </tr>\n",
              "    <tr>\n",
              "      <th>4</th>\n",
              "      <td>male</td>\n",
              "      <td>S</td>\n",
              "      <td>Third</td>\n",
              "      <td>man</td>\n",
              "      <td>True</td>\n",
              "      <td>NaN</td>\n",
              "      <td>Southampton</td>\n",
              "      <td>no</td>\n",
              "      <td>True</td>\n",
              "    </tr>\n",
              "    <tr>\n",
              "      <th>...</th>\n",
              "      <td>...</td>\n",
              "      <td>...</td>\n",
              "      <td>...</td>\n",
              "      <td>...</td>\n",
              "      <td>...</td>\n",
              "      <td>...</td>\n",
              "      <td>...</td>\n",
              "      <td>...</td>\n",
              "      <td>...</td>\n",
              "    </tr>\n",
              "    <tr>\n",
              "      <th>886</th>\n",
              "      <td>male</td>\n",
              "      <td>S</td>\n",
              "      <td>Second</td>\n",
              "      <td>man</td>\n",
              "      <td>True</td>\n",
              "      <td>NaN</td>\n",
              "      <td>Southampton</td>\n",
              "      <td>no</td>\n",
              "      <td>True</td>\n",
              "    </tr>\n",
              "    <tr>\n",
              "      <th>887</th>\n",
              "      <td>female</td>\n",
              "      <td>S</td>\n",
              "      <td>First</td>\n",
              "      <td>woman</td>\n",
              "      <td>False</td>\n",
              "      <td>B</td>\n",
              "      <td>Southampton</td>\n",
              "      <td>yes</td>\n",
              "      <td>True</td>\n",
              "    </tr>\n",
              "    <tr>\n",
              "      <th>888</th>\n",
              "      <td>female</td>\n",
              "      <td>S</td>\n",
              "      <td>Third</td>\n",
              "      <td>woman</td>\n",
              "      <td>False</td>\n",
              "      <td>NaN</td>\n",
              "      <td>Southampton</td>\n",
              "      <td>no</td>\n",
              "      <td>False</td>\n",
              "    </tr>\n",
              "    <tr>\n",
              "      <th>889</th>\n",
              "      <td>male</td>\n",
              "      <td>C</td>\n",
              "      <td>First</td>\n",
              "      <td>man</td>\n",
              "      <td>True</td>\n",
              "      <td>C</td>\n",
              "      <td>Cherbourg</td>\n",
              "      <td>yes</td>\n",
              "      <td>True</td>\n",
              "    </tr>\n",
              "    <tr>\n",
              "      <th>890</th>\n",
              "      <td>male</td>\n",
              "      <td>Q</td>\n",
              "      <td>Third</td>\n",
              "      <td>man</td>\n",
              "      <td>True</td>\n",
              "      <td>NaN</td>\n",
              "      <td>Queenstown</td>\n",
              "      <td>no</td>\n",
              "      <td>True</td>\n",
              "    </tr>\n",
              "  </tbody>\n",
              "</table>\n",
              "<p>891 rows × 9 columns</p>\n",
              "</div>"
            ],
            "text/plain": [
              "        sex embarked   class    who  adult_male deck  embark_town alive  alone\n",
              "0      male        S   Third    man        True  NaN  Southampton    no  False\n",
              "1    female        C   First  woman       False    C    Cherbourg   yes  False\n",
              "2    female        S   Third  woman       False  NaN  Southampton   yes   True\n",
              "3    female        S   First  woman       False    C  Southampton   yes  False\n",
              "4      male        S   Third    man        True  NaN  Southampton    no   True\n",
              "..      ...      ...     ...    ...         ...  ...          ...   ...    ...\n",
              "886    male        S  Second    man        True  NaN  Southampton    no   True\n",
              "887  female        S   First  woman       False    B  Southampton   yes   True\n",
              "888  female        S   Third  woman       False  NaN  Southampton    no  False\n",
              "889    male        C   First    man        True    C    Cherbourg   yes   True\n",
              "890    male        Q   Third    man        True  NaN   Queenstown    no   True\n",
              "\n",
              "[891 rows x 9 columns]"
            ]
          },
          "execution_count": 15,
          "metadata": {},
          "output_type": "execute_result"
        }
      ],
      "source": [
        "cat"
      ]
    },
    {
      "cell_type": "code",
      "execution_count": null,
      "id": "7f2c0738-db09-4e4a-bef1-15b24e059bbe",
      "metadata": {
        "id": "7f2c0738-db09-4e4a-bef1-15b24e059bbe",
        "outputId": "1bd326b8-4b15-4c00-e9ce-2db455d24854"
      },
      "outputs": [
        {
          "data": {
            "text/html": [
              "<div>\n",
              "<style scoped>\n",
              "    .dataframe tbody tr th:only-of-type {\n",
              "        vertical-align: middle;\n",
              "    }\n",
              "\n",
              "    .dataframe tbody tr th {\n",
              "        vertical-align: top;\n",
              "    }\n",
              "\n",
              "    .dataframe thead th {\n",
              "        text-align: right;\n",
              "    }\n",
              "</style>\n",
              "<table border=\"1\" class=\"dataframe\">\n",
              "  <thead>\n",
              "    <tr style=\"text-align: right;\">\n",
              "      <th></th>\n",
              "      <th>survived</th>\n",
              "      <th>pclass</th>\n",
              "      <th>sex</th>\n",
              "      <th>age</th>\n",
              "      <th>sibsp</th>\n",
              "      <th>parch</th>\n",
              "      <th>fare</th>\n",
              "      <th>embarked</th>\n",
              "      <th>class</th>\n",
              "      <th>who</th>\n",
              "      <th>adult_male</th>\n",
              "      <th>deck</th>\n",
              "      <th>embark_town</th>\n",
              "      <th>alive</th>\n",
              "      <th>alone</th>\n",
              "    </tr>\n",
              "  </thead>\n",
              "  <tbody>\n",
              "    <tr>\n",
              "      <th>1</th>\n",
              "      <td>1</td>\n",
              "      <td>1</td>\n",
              "      <td>female</td>\n",
              "      <td>38.00000</td>\n",
              "      <td>1</td>\n",
              "      <td>0</td>\n",
              "      <td>71.28330</td>\n",
              "      <td>C</td>\n",
              "      <td>First</td>\n",
              "      <td>woman</td>\n",
              "      <td>False</td>\n",
              "      <td>C</td>\n",
              "      <td>Cherbourg</td>\n",
              "      <td>yes</td>\n",
              "      <td>False</td>\n",
              "    </tr>\n",
              "    <tr>\n",
              "      <th>2</th>\n",
              "      <td>1</td>\n",
              "      <td>3</td>\n",
              "      <td>female</td>\n",
              "      <td>26.00000</td>\n",
              "      <td>0</td>\n",
              "      <td>0</td>\n",
              "      <td>7.92500</td>\n",
              "      <td>S</td>\n",
              "      <td>Third</td>\n",
              "      <td>woman</td>\n",
              "      <td>False</td>\n",
              "      <td>NaN</td>\n",
              "      <td>Southampton</td>\n",
              "      <td>yes</td>\n",
              "      <td>True</td>\n",
              "    </tr>\n",
              "    <tr>\n",
              "      <th>3</th>\n",
              "      <td>1</td>\n",
              "      <td>1</td>\n",
              "      <td>female</td>\n",
              "      <td>35.00000</td>\n",
              "      <td>1</td>\n",
              "      <td>0</td>\n",
              "      <td>53.10000</td>\n",
              "      <td>S</td>\n",
              "      <td>First</td>\n",
              "      <td>woman</td>\n",
              "      <td>False</td>\n",
              "      <td>C</td>\n",
              "      <td>Southampton</td>\n",
              "      <td>yes</td>\n",
              "      <td>False</td>\n",
              "    </tr>\n",
              "    <tr>\n",
              "      <th>8</th>\n",
              "      <td>1</td>\n",
              "      <td>3</td>\n",
              "      <td>female</td>\n",
              "      <td>27.00000</td>\n",
              "      <td>0</td>\n",
              "      <td>2</td>\n",
              "      <td>11.13330</td>\n",
              "      <td>S</td>\n",
              "      <td>Third</td>\n",
              "      <td>woman</td>\n",
              "      <td>False</td>\n",
              "      <td>NaN</td>\n",
              "      <td>Southampton</td>\n",
              "      <td>yes</td>\n",
              "      <td>False</td>\n",
              "    </tr>\n",
              "    <tr>\n",
              "      <th>9</th>\n",
              "      <td>1</td>\n",
              "      <td>2</td>\n",
              "      <td>female</td>\n",
              "      <td>14.00000</td>\n",
              "      <td>1</td>\n",
              "      <td>0</td>\n",
              "      <td>30.07080</td>\n",
              "      <td>C</td>\n",
              "      <td>Second</td>\n",
              "      <td>child</td>\n",
              "      <td>False</td>\n",
              "      <td>NaN</td>\n",
              "      <td>Cherbourg</td>\n",
              "      <td>yes</td>\n",
              "      <td>False</td>\n",
              "    </tr>\n",
              "  </tbody>\n",
              "</table>\n",
              "</div>"
            ],
            "text/plain": [
              "   survived  pclass     sex      age  sibsp  parch     fare embarked   class  \\\n",
              "1         1       1  female 38.00000      1      0 71.28330        C   First   \n",
              "2         1       3  female 26.00000      0      0  7.92500        S   Third   \n",
              "3         1       1  female 35.00000      1      0 53.10000        S   First   \n",
              "8         1       3  female 27.00000      0      2 11.13330        S   Third   \n",
              "9         1       2  female 14.00000      1      0 30.07080        C  Second   \n",
              "\n",
              "     who  adult_male deck  embark_town alive  alone  \n",
              "1  woman       False    C    Cherbourg   yes  False  \n",
              "2  woman       False  NaN  Southampton   yes   True  \n",
              "3  woman       False    C  Southampton   yes  False  \n",
              "8  woman       False  NaN  Southampton   yes  False  \n",
              "9  child       False  NaN    Cherbourg   yes  False  "
            ]
          },
          "execution_count": 16,
          "metadata": {},
          "output_type": "execute_result"
        }
      ],
      "source": [
        "df1 = df[df['survived']==1]\n",
        "df1.head()"
      ]
    },
    {
      "cell_type": "code",
      "execution_count": null,
      "id": "2d84e84b-eb69-4d91-abea-f2b8d2d3c381",
      "metadata": {
        "id": "2d84e84b-eb69-4d91-abea-f2b8d2d3c381",
        "outputId": "63218a6d-172c-4229-e2c3-b2fb0e8894de"
      },
      "outputs": [
        {
          "data": {
            "text/html": [
              "<div>\n",
              "<style scoped>\n",
              "    .dataframe tbody tr th:only-of-type {\n",
              "        vertical-align: middle;\n",
              "    }\n",
              "\n",
              "    .dataframe tbody tr th {\n",
              "        vertical-align: top;\n",
              "    }\n",
              "\n",
              "    .dataframe thead th {\n",
              "        text-align: right;\n",
              "    }\n",
              "</style>\n",
              "<table border=\"1\" class=\"dataframe\">\n",
              "  <thead>\n",
              "    <tr style=\"text-align: right;\">\n",
              "      <th></th>\n",
              "      <th>survived</th>\n",
              "      <th>pclass</th>\n",
              "      <th>sex</th>\n",
              "      <th>age</th>\n",
              "      <th>sibsp</th>\n",
              "      <th>parch</th>\n",
              "      <th>fare</th>\n",
              "      <th>embarked</th>\n",
              "      <th>class</th>\n",
              "      <th>who</th>\n",
              "      <th>adult_male</th>\n",
              "      <th>deck</th>\n",
              "      <th>embark_town</th>\n",
              "      <th>alive</th>\n",
              "      <th>alone</th>\n",
              "    </tr>\n",
              "  </thead>\n",
              "  <tbody>\n",
              "    <tr>\n",
              "      <th>0</th>\n",
              "      <td>0</td>\n",
              "      <td>3</td>\n",
              "      <td>male</td>\n",
              "      <td>22.00000</td>\n",
              "      <td>1</td>\n",
              "      <td>0</td>\n",
              "      <td>7.25000</td>\n",
              "      <td>S</td>\n",
              "      <td>Third</td>\n",
              "      <td>man</td>\n",
              "      <td>True</td>\n",
              "      <td>NaN</td>\n",
              "      <td>Southampton</td>\n",
              "      <td>no</td>\n",
              "      <td>False</td>\n",
              "    </tr>\n",
              "    <tr>\n",
              "      <th>4</th>\n",
              "      <td>0</td>\n",
              "      <td>3</td>\n",
              "      <td>male</td>\n",
              "      <td>35.00000</td>\n",
              "      <td>0</td>\n",
              "      <td>0</td>\n",
              "      <td>8.05000</td>\n",
              "      <td>S</td>\n",
              "      <td>Third</td>\n",
              "      <td>man</td>\n",
              "      <td>True</td>\n",
              "      <td>NaN</td>\n",
              "      <td>Southampton</td>\n",
              "      <td>no</td>\n",
              "      <td>True</td>\n",
              "    </tr>\n",
              "    <tr>\n",
              "      <th>5</th>\n",
              "      <td>0</td>\n",
              "      <td>3</td>\n",
              "      <td>male</td>\n",
              "      <td>NaN</td>\n",
              "      <td>0</td>\n",
              "      <td>0</td>\n",
              "      <td>8.45830</td>\n",
              "      <td>Q</td>\n",
              "      <td>Third</td>\n",
              "      <td>man</td>\n",
              "      <td>True</td>\n",
              "      <td>NaN</td>\n",
              "      <td>Queenstown</td>\n",
              "      <td>no</td>\n",
              "      <td>True</td>\n",
              "    </tr>\n",
              "    <tr>\n",
              "      <th>6</th>\n",
              "      <td>0</td>\n",
              "      <td>1</td>\n",
              "      <td>male</td>\n",
              "      <td>54.00000</td>\n",
              "      <td>0</td>\n",
              "      <td>0</td>\n",
              "      <td>51.86250</td>\n",
              "      <td>S</td>\n",
              "      <td>First</td>\n",
              "      <td>man</td>\n",
              "      <td>True</td>\n",
              "      <td>E</td>\n",
              "      <td>Southampton</td>\n",
              "      <td>no</td>\n",
              "      <td>True</td>\n",
              "    </tr>\n",
              "    <tr>\n",
              "      <th>7</th>\n",
              "      <td>0</td>\n",
              "      <td>3</td>\n",
              "      <td>male</td>\n",
              "      <td>2.00000</td>\n",
              "      <td>3</td>\n",
              "      <td>1</td>\n",
              "      <td>21.07500</td>\n",
              "      <td>S</td>\n",
              "      <td>Third</td>\n",
              "      <td>child</td>\n",
              "      <td>False</td>\n",
              "      <td>NaN</td>\n",
              "      <td>Southampton</td>\n",
              "      <td>no</td>\n",
              "      <td>False</td>\n",
              "    </tr>\n",
              "  </tbody>\n",
              "</table>\n",
              "</div>"
            ],
            "text/plain": [
              "   survived  pclass   sex      age  sibsp  parch     fare embarked  class  \\\n",
              "0         0       3  male 22.00000      1      0  7.25000        S  Third   \n",
              "4         0       3  male 35.00000      0      0  8.05000        S  Third   \n",
              "5         0       3  male      NaN      0      0  8.45830        Q  Third   \n",
              "6         0       1  male 54.00000      0      0 51.86250        S  First   \n",
              "7         0       3  male  2.00000      3      1 21.07500        S  Third   \n",
              "\n",
              "     who  adult_male deck  embark_town alive  alone  \n",
              "0    man        True  NaN  Southampton    no  False  \n",
              "4    man        True  NaN  Southampton    no   True  \n",
              "5    man        True  NaN   Queenstown    no   True  \n",
              "6    man        True    E  Southampton    no   True  \n",
              "7  child       False  NaN  Southampton    no  False  "
            ]
          },
          "execution_count": 17,
          "metadata": {},
          "output_type": "execute_result"
        }
      ],
      "source": [
        "df0 = df[df['survived']==0]\n",
        "df0.head()"
      ]
    },
    {
      "cell_type": "markdown",
      "id": "3213f979-f9f7-44b0-b7c8-e437cbaa9f30",
      "metadata": {
        "id": "3213f979-f9f7-44b0-b7c8-e437cbaa9f30"
      },
      "source": [
        "## 박스플랏"
      ]
    },
    {
      "cell_type": "code",
      "execution_count": null,
      "id": "c6b2d60b-c5ee-4618-958e-d5540d9d3509",
      "metadata": {
        "id": "c6b2d60b-c5ee-4618-958e-d5540d9d3509",
        "outputId": "3d570fa0-63a0-403a-cdb9-e2f190b4fe05"
      },
      "outputs": [
        {
          "data": {
            "image/png": "[encoded data removed]",
            "text/plain": [
              "<Figure size 720x432 with 1 Axes>"
            ]
          },
          "metadata": {},
          "output_type": "display_data"
        },
        {
          "data": {
            "image/png": "[encoded data removed]",
            "text/plain": [
              "<Figure size 720x432 with 1 Axes>"
            ]
          },
          "metadata": {},
          "output_type": "display_data"
        },
        {
          "data": {
            "image/png": "[encoded data removed]",
            "text/plain": [
              "<Figure size 720x432 with 1 Axes>"
            ]
          },
          "metadata": {},
          "output_type": "display_data"
        },
        {
          "data": {
            "image/png": "[encoded data removed]",
            "text/plain": [
              "<Figure size 720x432 with 1 Axes>"
            ]
          },
          "metadata": {},
          "output_type": "display_data"
        },
        {
          "data": {
            "image/png": "[encoded data removed]",
            "text/plain": [
              "<Figure size 720x432 with 1 Axes>"
            ]
          },
          "metadata": {},
          "output_type": "display_data"
        },
        {
          "data": {
            "image/png": "[encoded data removed]",
            "text/plain": [
              "<Figure size 720x432 with 1 Axes>"
            ]
          },
          "metadata": {},
          "output_type": "display_data"
        }
      ],
      "source": [
        "# survived가 1인 데이터의 박스플랏\n",
        "for i in num.columns:\n",
        "    plt.figure(figsize=(10,6))\n",
        "    sns.boxplot(data=df1, x=df1[i])\n",
        "    plt.title(i)\n",
        "    plt.xlabel('')\n",
        "    plt.show"
      ]
    },
    {
      "cell_type": "code",
      "execution_count": null,
      "id": "e442ac56-4ac2-4a67-aabd-e693df07d0f1",
      "metadata": {
        "id": "e442ac56-4ac2-4a67-aabd-e693df07d0f1",
        "outputId": "9f71fd89-9061-4948-d6b9-656e1dfa48ae"
      },
      "outputs": [
        {
          "data": {
            "image/png": "[encoded data removed]",
            "text/plain": [
              "<Figure size 720x432 with 1 Axes>"
            ]
          },
          "metadata": {},
          "output_type": "display_data"
        },
        {
          "data": {
            "image/png": "[encoded data removed]",
            "text/plain": [
              "<Figure size 720x432 with 1 Axes>"
            ]
          },
          "metadata": {},
          "output_type": "display_data"
        },
        {
          "data": {
            "image/png": "[encoded data removed]",
            "text/plain": [
              "<Figure size 720x432 with 1 Axes>"
            ]
          },
          "metadata": {},
          "output_type": "display_data"
        },
        {
          "data": {
            "image/png": "[encoded data removed]",
            "text/plain": [
              "<Figure size 720x432 with 1 Axes>"
            ]
          },
          "metadata": {},
          "output_type": "display_data"
        },
        {
          "data": {
            "image/png": "[encoded data removed]",
            "text/plain": [
              "<Figure size 720x432 with 1 Axes>"
            ]
          },
          "metadata": {},
          "output_type": "display_data"
        },
        {
          "data": {
            "image/png": "[encoded data removed]",
            "text/plain": [
              "<Figure size 720x432 with 1 Axes>"
            ]
          },
          "metadata": {},
          "output_type": "display_data"
        }
      ],
      "source": [
        "# survived가 0인 데이터의 박스플랏\n",
        "for i in num.columns:\n",
        "    plt.figure(figsize=(10,6))\n",
        "    sns.boxplot(data=df0, x=df0[i])\n",
        "    plt.title(i)\n",
        "    plt.xlabel('')\n",
        "    plt.show"
      ]
    },
    {
      "cell_type": "markdown",
      "id": "9f437c2a-0554-4280-a36a-50b56d217610",
      "metadata": {
        "id": "9f437c2a-0554-4280-a36a-50b56d217610"
      },
      "source": [
        "## 종속변수 파이플랏"
      ]
    },
    {
      "cell_type": "code",
      "execution_count": null,
      "id": "45385f4c-9609-48a5-92cc-70265e87aedf",
      "metadata": {
        "id": "45385f4c-9609-48a5-92cc-70265e87aedf",
        "outputId": "a85f0881-d33e-4ecf-c3f9-49e909de517a"
      },
      "outputs": [
        {
          "name": "stdout",
          "output_type": "stream",
          "text": [
            "0    549\n",
            "1    342\n",
            "Name: survived, dtype: int64\n"
          ]
        },
        {
          "data": {
            "text/plain": [
              "<AxesSubplot:ylabel='Type'>"
            ]
          },
          "execution_count": 20,
          "metadata": {},
          "output_type": "execute_result"
        },
        {
          "data": {
            "image/png": "[encoded data removed]",
            "text/plain": [
              "<Figure size 432x288 with 1 Axes>"
            ]
          },
          "metadata": {},
          "output_type": "display_data"
        }
      ],
      "source": [
        "print(df['survived'].value_counts())\n",
        "df.groupby('survived').size().plot(kind='pie', y = 'survived', label = \"Type\", autopct='%1.1f%%')"
      ]
    },
    {
      "cell_type": "code",
      "execution_count": null,
      "id": "7d27a0ea-2318-4a21-91c4-73429fbb811c",
      "metadata": {
        "id": "7d27a0ea-2318-4a21-91c4-73429fbb811c"
      },
      "outputs": [],
      "source": [
        "df['age']=df['age'].fillna(df['age'].mean())"
      ]
    },
    {
      "cell_type": "code",
      "execution_count": null,
      "id": "82c15aa7-1d4a-411c-823b-9204d74cff95",
      "metadata": {
        "id": "82c15aa7-1d4a-411c-823b-9204d74cff95",
        "outputId": "774c0c32-35c3-4a15-bb82-7fb9f2921832"
      },
      "outputs": [
        {
          "data": {
            "text/plain": [
              "survived         0\n",
              "pclass           0\n",
              "sex              0\n",
              "age              0\n",
              "sibsp            0\n",
              "parch            0\n",
              "fare             0\n",
              "embarked         2\n",
              "class            0\n",
              "who              0\n",
              "adult_male       0\n",
              "deck           688\n",
              "embark_town      2\n",
              "alive            0\n",
              "alone            0\n",
              "dtype: int64"
            ]
          },
          "execution_count": 22,
          "metadata": {},
          "output_type": "execute_result"
        }
      ],
      "source": [
        "df.isnull().sum()"
      ]
    },
    {
      "cell_type": "code",
      "execution_count": null,
      "id": "137ad6dd-8de4-43e3-9b65-3d4368c9633b",
      "metadata": {
        "id": "137ad6dd-8de4-43e3-9b65-3d4368c9633b"
      },
      "outputs": [],
      "source": [
        "df=df.drop(\"embark_town\", axis=1)"
      ]
    },
    {
      "cell_type": "code",
      "execution_count": null,
      "id": "d8b7cce3-d0aa-47f2-81d9-360b05b02d23",
      "metadata": {
        "id": "d8b7cce3-d0aa-47f2-81d9-360b05b02d23",
        "outputId": "a8cc830b-7313-4c92-d1f6-b1435afcd59d"
      },
      "outputs": [
        {
          "data": {
            "text/plain": [
              "survived        0\n",
              "pclass          0\n",
              "sex             0\n",
              "age             0\n",
              "sibsp           0\n",
              "parch           0\n",
              "fare            0\n",
              "embarked        2\n",
              "class           0\n",
              "who             0\n",
              "adult_male      0\n",
              "deck          688\n",
              "alive           0\n",
              "alone           0\n",
              "dtype: int64"
            ]
          },
          "execution_count": 24,
          "metadata": {},
          "output_type": "execute_result"
        }
      ],
      "source": [
        "df.isnull().sum()"
      ]
    },
    {
      "cell_type": "code",
      "execution_count": null,
      "id": "5678d4bb-35aa-44f9-8fe6-fa9d8c07350a",
      "metadata": {
        "id": "5678d4bb-35aa-44f9-8fe6-fa9d8c07350a",
        "outputId": "e7a1e4af-c7bf-4cd7-f3d4-8fc5efaabc67"
      },
      "outputs": [
        {
          "data": {
            "text/plain": [
              "array([nan, 'C', 'E', 'G', 'D', 'A', 'B', 'F'], dtype=object)"
            ]
          },
          "execution_count": 25,
          "metadata": {},
          "output_type": "execute_result"
        }
      ],
      "source": [
        "df['deck'].unique()"
      ]
    },
    {
      "cell_type": "code",
      "execution_count": null,
      "id": "73b5e326-45f6-4de3-adee-a9f6eb859a29",
      "metadata": {
        "id": "73b5e326-45f6-4de3-adee-a9f6eb859a29",
        "outputId": "2c63eacb-a73f-4d2c-ecdf-796958dd0939"
      },
      "outputs": [
        {
          "data": {
            "text/plain": [
              "C    59\n",
              "B    47\n",
              "D    33\n",
              "E    32\n",
              "A    15\n",
              "F    13\n",
              "G     4\n",
              "Name: deck, dtype: int64"
            ]
          },
          "execution_count": 26,
          "metadata": {},
          "output_type": "execute_result"
        }
      ],
      "source": [
        "df['deck'].value_counts()"
      ]
    },
    {
      "cell_type": "code",
      "execution_count": null,
      "id": "dcd6a1cf-1fb9-43b3-af16-39c603248bb2",
      "metadata": {
        "id": "dcd6a1cf-1fb9-43b3-af16-39c603248bb2"
      },
      "outputs": [],
      "source": [
        "df['deck'] = df['deck'].replace({np.nan: 'C'})"
      ]
    },
    {
      "cell_type": "code",
      "execution_count": null,
      "id": "01db06a3-48ae-4da6-a0ad-3cc84d00e35e",
      "metadata": {
        "id": "01db06a3-48ae-4da6-a0ad-3cc84d00e35e",
        "outputId": "2cf3d1db-d637-49a1-b402-88a0417c317b"
      },
      "outputs": [
        {
          "data": {
            "text/plain": [
              "C    747\n",
              "B     47\n",
              "D     33\n",
              "E     32\n",
              "A     15\n",
              "F     13\n",
              "G      4\n",
              "Name: deck, dtype: int64"
            ]
          },
          "execution_count": 28,
          "metadata": {},
          "output_type": "execute_result"
        }
      ],
      "source": [
        "df['deck'].value_counts()"
      ]
    },
    {
      "cell_type": "code",
      "execution_count": null,
      "id": "5fa54aaa-3775-4778-a158-84f5d0bc7c09",
      "metadata": {
        "id": "5fa54aaa-3775-4778-a158-84f5d0bc7c09",
        "outputId": "5c58ba2b-0a68-43b8-9988-5a00f90bebc3"
      },
      "outputs": [
        {
          "name": "stdout",
          "output_type": "stream",
          "text": [
            "<class 'pandas.core.frame.DataFrame'>\n",
            "RangeIndex: 891 entries, 0 to 890\n",
            "Data columns (total 14 columns):\n",
            " #   Column      Non-Null Count  Dtype  \n",
            "---  ------      --------------  -----  \n",
            " 0   survived    891 non-null    int64  \n",
            " 1   pclass      891 non-null    int64  \n",
            " 2   sex         891 non-null    object \n",
            " 3   age         891 non-null    float64\n",
            " 4   sibsp       891 non-null    int64  \n",
            " 5   parch       891 non-null    int64  \n",
            " 6   fare        891 non-null    float64\n",
            " 7   embarked    889 non-null    object \n",
            " 8   class       891 non-null    object \n",
            " 9   who         891 non-null    object \n",
            " 10  adult_male  891 non-null    bool   \n",
            " 11  deck        891 non-null    object \n",
            " 12  alive       891 non-null    object \n",
            " 13  alone       891 non-null    bool   \n",
            "dtypes: bool(2), float64(2), int64(4), object(6)\n",
            "memory usage: 85.4+ KB\n"
          ]
        }
      ],
      "source": [
        "df.info()"
      ]
    },
    {
      "cell_type": "code",
      "execution_count": null,
      "id": "25966076-e927-4f74-ad98-5778130482ec",
      "metadata": {
        "id": "25966076-e927-4f74-ad98-5778130482ec",
        "outputId": "89ce08ce-8ff7-4e2f-9857-b697d75c8218"
      },
      "outputs": [
        {
          "data": {
            "text/plain": [
              "(891, 14)"
            ]
          },
          "execution_count": 30,
          "metadata": {},
          "output_type": "execute_result"
        }
      ],
      "source": [
        "df.shape"
      ]
    },
    {
      "cell_type": "code",
      "execution_count": null,
      "id": "f85f0684-b41b-4722-afc2-f76d52e8df22",
      "metadata": {
        "id": "f85f0684-b41b-4722-afc2-f76d52e8df22"
      },
      "outputs": [],
      "source": [
        "# 숫자변수 확인\n",
        "num = df.select_dtypes(include='number')\n",
        "# 범주변수 확인\n",
        "cat = df.select_dtypes(exclude='number')"
      ]
    },
    {
      "cell_type": "code",
      "execution_count": null,
      "id": "ce7d6e09-8cb7-4990-9d88-09138498df39",
      "metadata": {
        "id": "ce7d6e09-8cb7-4990-9d88-09138498df39"
      },
      "outputs": [],
      "source": [
        "# drop_first = True\n",
        "categorical = cat.columns\n",
        "df = pd.get_dummies(df, columns = categorical, prefix = categorical, drop_first = True)"
      ]
    },
    {
      "cell_type": "code",
      "execution_count": null,
      "id": "6fd43f38-f3b9-48df-92ea-a4ad5d42e59d",
      "metadata": {
        "id": "6fd43f38-f3b9-48df-92ea-a4ad5d42e59d",
        "outputId": "f4030722-f0b9-4c13-a1a2-0925c2c43391"
      },
      "outputs": [
        {
          "name": "stdout",
          "output_type": "stream",
          "text": [
            "<class 'pandas.core.frame.DataFrame'>\n",
            "RangeIndex: 891 entries, 0 to 890\n",
            "Data columns (total 22 columns):\n",
            " #   Column           Non-Null Count  Dtype  \n",
            "---  ------           --------------  -----  \n",
            " 0   survived         891 non-null    int64  \n",
            " 1   pclass           891 non-null    int64  \n",
            " 2   age              891 non-null    float64\n",
            " 3   sibsp            891 non-null    int64  \n",
            " 4   parch            891 non-null    int64  \n",
            " 5   fare             891 non-null    float64\n",
            " 6   sex_male         891 non-null    uint8  \n",
            " 7   embarked_Q       891 non-null    uint8  \n",
            " 8   embarked_S       891 non-null    uint8  \n",
            " 9   class_Second     891 non-null    uint8  \n",
            " 10  class_Third      891 non-null    uint8  \n",
            " 11  who_man          891 non-null    uint8  \n",
            " 12  who_woman        891 non-null    uint8  \n",
            " 13  adult_male_True  891 non-null    uint8  \n",
            " 14  deck_B           891 non-null    uint8  \n",
            " 15  deck_C           891 non-null    uint8  \n",
            " 16  deck_D           891 non-null    uint8  \n",
            " 17  deck_E           891 non-null    uint8  \n",
            " 18  deck_F           891 non-null    uint8  \n",
            " 19  deck_G           891 non-null    uint8  \n",
            " 20  alive_yes        891 non-null    uint8  \n",
            " 21  alone_True       891 non-null    uint8  \n",
            "dtypes: float64(2), int64(4), uint8(16)\n",
            "memory usage: 55.8 KB\n"
          ]
        }
      ],
      "source": [
        "df.info()"
      ]
    },
    {
      "cell_type": "code",
      "execution_count": null,
      "id": "ed57c8de-4a64-4f50-8069-139661ac9621",
      "metadata": {
        "id": "ed57c8de-4a64-4f50-8069-139661ac9621"
      },
      "outputs": [],
      "source": [
        "df = df.drop('alive_yes', axis=1)"
      ]
    },
    {
      "cell_type": "markdown",
      "id": "88131e76-0304-45e4-b3f6-405355803243",
      "metadata": {
        "id": "88131e76-0304-45e4-b3f6-405355803243"
      },
      "source": [
        "## train / test split"
      ]
    },
    {
      "cell_type": "code",
      "execution_count": null,
      "id": "169c22e1-d82d-47a2-8e9c-1d3d9ce888aa",
      "metadata": {
        "id": "169c22e1-d82d-47a2-8e9c-1d3d9ce888aa",
        "outputId": "e0fd7690-8218-4f3c-f315-14fe287bceb8"
      },
      "outputs": [
        {
          "name": "stdout",
          "output_type": "stream",
          "text": [
            "(712, 20) (179, 20) (712,) (179,)\n"
          ]
        }
      ],
      "source": [
        "# train / test split\n",
        "feature_columns = list(df.columns.difference(['survived']))\n",
        "X = df[feature_columns]    # 변인변수들의 데이터 Set\n",
        "y = df['survived']    # 종속변수 데이터를\n",
        "\n",
        "train_X, test_X, train_y, test_y = train_test_split(X, y, test_size = 0.2, random_state = 55)    # Test Set을 0.2의 비율로 생성\n",
        "\n",
        "print(train_X.shape, test_X.shape, train_y.shape, test_y.shape)"
      ]
    },
    {
      "cell_type": "code",
      "execution_count": null,
      "id": "02e81591-ba6b-4315-915b-84935aa1bba8",
      "metadata": {
        "id": "02e81591-ba6b-4315-915b-84935aa1bba8",
        "outputId": "4f8339de-aba8-457a-8dc8-9c0783d1c874"
      },
      "outputs": [
        {
          "data": {
            "text/plain": [
              "['adult_male_True',\n",
              " 'age',\n",
              " 'alone_True',\n",
              " 'class_Second',\n",
              " 'class_Third',\n",
              " 'deck_B',\n",
              " 'deck_C',\n",
              " 'deck_D',\n",
              " 'deck_E',\n",
              " 'deck_F',\n",
              " 'deck_G',\n",
              " 'embarked_Q',\n",
              " 'embarked_S',\n",
              " 'fare',\n",
              " 'parch',\n",
              " 'pclass',\n",
              " 'sex_male',\n",
              " 'sibsp',\n",
              " 'who_man',\n",
              " 'who_woman']"
            ]
          },
          "execution_count": 36,
          "metadata": {},
          "output_type": "execute_result"
        }
      ],
      "source": [
        "## 종속변수 컬럼 지워야 함\n",
        "col_list = X.columns.to_list()\n",
        "col_list"
      ]
    },
    {
      "cell_type": "markdown",
      "id": "a808189a-7d87-47db-b9a1-37efed5779e4",
      "metadata": {
        "id": "a808189a-7d87-47db-b9a1-37efed5779e4"
      },
      "source": [
        "## 스케일링(minmax)"
      ]
    },
    {
      "cell_type": "code",
      "execution_count": null,
      "id": "1d2159c4-6429-4374-a06b-9ac2722c4a3a",
      "metadata": {
        "id": "1d2159c4-6429-4374-a06b-9ac2722c4a3a",
        "outputId": "21dfc90a-9190-4bb3-9c2f-3763753afc91"
      },
      "outputs": [
        {
          "data": {
            "text/plain": [
              "['pclass',\n",
              " 'age',\n",
              " 'sibsp',\n",
              " 'parch',\n",
              " 'fare',\n",
              " 'sex_male',\n",
              " 'embarked_Q',\n",
              " 'embarked_S',\n",
              " 'class_Second',\n",
              " 'class_Third',\n",
              " 'who_man',\n",
              " 'who_woman',\n",
              " 'adult_male_True',\n",
              " 'deck_B',\n",
              " 'deck_C',\n",
              " 'deck_D',\n",
              " 'deck_E',\n",
              " 'deck_F',\n",
              " 'deck_G',\n",
              " 'alone_True']"
            ]
          },
          "execution_count": 37,
          "metadata": {},
          "output_type": "execute_result"
        }
      ],
      "source": [
        "minmax_list = df.columns.tolist()\n",
        "minmax_list.remove('survived')\n",
        "minmax_list"
      ]
    },
    {
      "cell_type": "code",
      "execution_count": null,
      "id": "dd263e20-355d-4494-aa18-6123ac9cadfb",
      "metadata": {
        "id": "dd263e20-355d-4494-aa18-6123ac9cadfb"
      },
      "outputs": [],
      "source": [
        "# 스케일링 적용 변수별 데이터 추출\n",
        "\n",
        "# train_X1 = train_X[standard_list]\n",
        "# test_X1 = test_X[standard_list]\n",
        "train_X2 = train_X[minmax_list]\n",
        "test_X2 = test_X[minmax_list]"
      ]
    },
    {
      "cell_type": "code",
      "execution_count": null,
      "id": "9c05f0e5-bcb8-41ae-9441-c96530834d8b",
      "metadata": {
        "id": "9c05f0e5-bcb8-41ae-9441-c96530834d8b"
      },
      "outputs": [],
      "source": [
        "# 데이터 스케일링 진행\n",
        "\n",
        "# scaler1 = StandardScaler()\n",
        "# train_X1 = scaler1.fit_transform(train_X1)\n",
        "# test_X1 = scaler1.transform(test_X1)\n",
        "\n",
        "scaler2 = MinMaxScaler()\n",
        "train_X2 = scaler2.fit_transform(train_X2)\n",
        "test_X2 = scaler2.fit_transform(test_X2)"
      ]
    },
    {
      "cell_type": "code",
      "execution_count": null,
      "id": "04403138-77ce-435d-9ebe-9a294b3b2265",
      "metadata": {
        "id": "04403138-77ce-435d-9ebe-9a294b3b2265"
      },
      "outputs": [],
      "source": [
        "# 스케일링 값으로 대체\n",
        "\n",
        "# train_X[standard_list] = train_X1\n",
        "# test_X[standard_list] = test_X1\n",
        "train_X[minmax_list] = train_X2\n",
        "test_X[minmax_list] = test_X2"
      ]
    },
    {
      "cell_type": "markdown",
      "id": "68a9f39b-f13f-49dc-b2a0-0f7f041e6967",
      "metadata": {
        "id": "68a9f39b-f13f-49dc-b2a0-0f7f041e6967"
      },
      "source": [
        "## 샘플링(오버,언더)"
      ]
    },
    {
      "cell_type": "code",
      "execution_count": null,
      "id": "304a20a1-fec2-40bf-98bd-253edd62f27b",
      "metadata": {
        "id": "304a20a1-fec2-40bf-98bd-253edd62f27b"
      },
      "outputs": [],
      "source": [
        "# 오버샘플링 진행\n",
        "oversample = RandomOverSampler(sampling_strategy='minority') # sampling_strategy=0.4 -> 소수집단데이터수/다수집단데이터수 = 0.4\n",
        "train_X_os, train_y_os = oversample.fit_resample(train_X, train_y)"
      ]
    },
    {
      "cell_type": "code",
      "execution_count": null,
      "id": "7eac73aa-3228-4d70-a249-b29f20e5b369",
      "metadata": {
        "id": "7eac73aa-3228-4d70-a249-b29f20e5b369"
      },
      "outputs": [],
      "source": [
        "# 언더샘플링 진행\n",
        "train_X_us, train_y_us = RandomUnderSampler(random_state = 55).fit_resample(train_X, train_y)"
      ]
    },
    {
      "cell_type": "markdown",
      "id": "7716c49a-e52a-4b7d-96a0-5ff7c751da8c",
      "metadata": {
        "id": "7716c49a-e52a-4b7d-96a0-5ff7c751da8c"
      },
      "source": [
        "## 로지스틱 모델링 및 스코어링"
      ]
    },
    {
      "cell_type": "code",
      "execution_count": null,
      "id": "1a05ea15-3976-471f-a2e2-9eefa8531e0d",
      "metadata": {
        "id": "1a05ea15-3976-471f-a2e2-9eefa8531e0d"
      },
      "outputs": [],
      "source": [
        "# 모델\n",
        "from sklearn.linear_model import LogisticRegression\n",
        "lr_clf1 = LogisticRegression()\n",
        "lr_clf1.fit(train_X_os, train_y_os)\n",
        "coef = lr_clf1.coef_.reshape(-1)\n",
        "lr_pred = lr_clf1.predict(test_X)\n",
        "lr_pred_proba = lr_clf1.predict_proba(test_X)[:,1]"
      ]
    },
    {
      "cell_type": "code",
      "execution_count": null,
      "id": "b98d8b85-7483-4b0d-9179-5938a0a34c9b",
      "metadata": {
        "id": "b98d8b85-7483-4b0d-9179-5938a0a34c9b",
        "outputId": "f94b4a7b-4eb0-46a0-c7cf-3f1e6517ec8f"
      },
      "outputs": [
        {
          "name": "stdout",
          "output_type": "stream",
          "text": [
            "              precision    recall  f1-score   support\n",
            "\n",
            "           0       0.85      0.88      0.87       110\n",
            "           1       0.80      0.75      0.78        69\n",
            "\n",
            "    accuracy                           0.83       179\n",
            "   macro avg       0.83      0.82      0.82       179\n",
            "weighted avg       0.83      0.83      0.83       179\n",
            "\n"
          ]
        }
      ],
      "source": [
        "from sklearn.metrics import *\n",
        "print(classification_report(test_y, lr_pred))"
      ]
    },
    {
      "cell_type": "code",
      "execution_count": null,
      "id": "2b719154-2334-45bc-8534-ece04d509b4e",
      "metadata": {
        "id": "2b719154-2334-45bc-8534-ece04d509b4e"
      },
      "outputs": [],
      "source": [
        "y_test2 = test_y.reset_index(drop = True)\n",
        "cross = pd.concat([y_test2, pd.DataFrame(lr_pred)],axis =1)\n",
        "cross.columns = ['true','pred']"
      ]
    },
    {
      "cell_type": "code",
      "execution_count": null,
      "id": "1e03e2cf-71c8-4f93-bdb3-24f77b07bc59",
      "metadata": {
        "id": "1e03e2cf-71c8-4f93-bdb3-24f77b07bc59"
      },
      "outputs": [],
      "source": [
        "cross['cm'] = np.where((cross['true']== 1) & (cross['pred']==1), 'TP', np.where((cross['true']== 1) & (cross['pred']==0),'FN', np.where((cross['true']== 0) & (cross['pred']==1), 'FP',np.where((cross['true']== 0) & (cross['pred']==0), 'TN',0))))\n",
        "conf_mat = dict(cross['cm'].value_counts())"
      ]
    },
    {
      "cell_type": "code",
      "execution_count": null,
      "id": "4b9d7d07-55cc-4560-b171-3cea50b3ec8c",
      "metadata": {
        "id": "4b9d7d07-55cc-4560-b171-3cea50b3ec8c",
        "outputId": "0c4042cd-fae1-46f4-f324-9142b215c977"
      },
      "outputs": [
        {
          "data": {
            "text/plain": [
              "{'TN': 97, 'TP': 52, 'FN': 17, 'FP': 13}"
            ]
          },
          "execution_count": 48,
          "metadata": {},
          "output_type": "execute_result"
        }
      ],
      "source": [
        "conf_mat"
      ]
    },
    {
      "cell_type": "code",
      "execution_count": null,
      "id": "65a5af90-6ef8-4664-b206-8b278ddea399",
      "metadata": {
        "id": "65a5af90-6ef8-4664-b206-8b278ddea399",
        "outputId": "7098a7f9-fa54-4d1c-be6f-56dbe97bc3d6"
      },
      "outputs": [
        {
          "name": "stdout",
          "output_type": "stream",
          "text": [
            "accuracy :  0.8324022346368715\n",
            "precision :  0.8\n",
            "recall :  0.7536231884057971\n",
            "f1_score :  0.7761194029850746\n"
          ]
        }
      ],
      "source": [
        "accuracy = ( conf_mat['TN'] + conf_mat['TP'] ) / ( conf_mat['TN']+conf_mat['TP'] + conf_mat['FN']+conf_mat['FP'] )\n",
        "precision = conf_mat['TP'] / (conf_mat['TP'] + conf_mat['FP'])\n",
        "recall = conf_mat['TP'] / (conf_mat['TP'] + conf_mat['FN'])\n",
        "f1_score = 2*recall*precision / (recall+precision)\n",
        "\n",
        "print('accuracy : ', accuracy)\n",
        "print('precision : ', precision)\n",
        "print('recall : ', recall)\n",
        "print('f1_score : ', f1_score)"
      ]
    },
    {
      "cell_type": "code",
      "execution_count": null,
      "id": "8b8f16fe-be84-4eaf-8ec9-47faa2bd32e3",
      "metadata": {
        "id": "8b8f16fe-be84-4eaf-8ec9-47faa2bd32e3",
        "outputId": "b1ada208-a3ea-4c36-9a06-8b9922bc2304"
      },
      "outputs": [
        {
          "name": "stderr",
          "output_type": "stream",
          "text": [
            "/home/ljy1115/.local/lib/python3.8/site-packages/sklearn/utils/deprecation.py:87: FutureWarning: Function plot_confusion_matrix is deprecated; Function `plot_confusion_matrix` is deprecated in 1.0 and will be removed in 1.2. Use one of the class methods: ConfusionMatrixDisplay.from_predictions or ConfusionMatrixDisplay.from_estimator.\n",
            "  warnings.warn(msg, category=FutureWarning)\n",
            "/home/ljy1115/.local/lib/python3.8/site-packages/sklearn/utils/deprecation.py:87: FutureWarning: Function plot_roc_curve is deprecated; Function :func:`plot_roc_curve` is deprecated in 1.0 and will be removed in 1.2. Use one of the class methods: :meth:`sklearn.metric.RocCurveDisplay.from_predictions` or :meth:`sklearn.metric.RocCurveDisplay.from_estimator`.\n",
            "  warnings.warn(msg, category=FutureWarning)\n"
          ]
        },
        {
          "data": {
            "image/png": "[encoded data removed]",
            "text/plain": [
              "<Figure size 432x288 with 2 Axes>"
            ]
          },
          "metadata": {},
          "output_type": "display_data"
        },
        {
          "data": {
            "image/png": "[encoded data removed]",
            "text/plain": [
              "<Figure size 432x288 with 1 Axes>"
            ]
          },
          "metadata": {},
          "output_type": "display_data"
        }
      ],
      "source": [
        "# confusion matrix, AUC-ROC 커브 생성\n",
        "# AUC 0.8이상이면 good\n",
        "\n",
        "disp = plot_confusion_matrix(lr_clf1, test_X, test_y, cmap='Blues', values_format='d', display_labels=['Good', 'Bad'])\n",
        "disp = plot_roc_curve(lr_clf1, test_X, test_y)"
      ]
    },
    {
      "cell_type": "markdown",
      "id": "b16549fc-4037-469e-8b36-e1e17bcc9e51",
      "metadata": {
        "id": "b16549fc-4037-469e-8b36-e1e17bcc9e51"
      },
      "source": [
        "## 변수 중요도"
      ]
    },
    {
      "cell_type": "code",
      "execution_count": null,
      "id": "9abad1b8-edf2-4a10-8549-a6a1a1b0565d",
      "metadata": {
        "id": "9abad1b8-edf2-4a10-8549-a6a1a1b0565d"
      },
      "outputs": [],
      "source": [
        "#feature_weights\n",
        "df_features = pd.DataFrame(columns=['col','weight'])\n",
        "for idx, w in sorted(enumerate(coef), key=lambda x:-x[1])[:100]:\n",
        "    df_features = df_features.append(pd.DataFrame([[train_X.columns[idx],w]],columns=['col','weight']),ignore_index=True)\n",
        "df_features=df_features.sort_values(by=['weight'],ascending=False).reset_index(drop=True)\n",
        "df_features['log_value'] = np.exp(df_features.weight)"
      ]
    },
    {
      "cell_type": "code",
      "execution_count": null,
      "id": "03d366da-04dd-4754-9af5-9739132a78bf",
      "metadata": {
        "id": "03d366da-04dd-4754-9af5-9739132a78bf",
        "outputId": "a2ee4535-af46-42b1-d508-0167ba0597ca"
      },
      "outputs": [
        {
          "data": {
            "text/plain": [
              "<AxesSubplot:xlabel='weight', ylabel='col'>"
            ]
          },
          "execution_count": 53,
          "metadata": {},
          "output_type": "execute_result"
        },
        {
          "data": {
            "image/png": "[encoded data removed]",
            "text/plain": [
              "<Figure size 720x1440 with 1 Axes>"
            ]
          },
          "metadata": {},
          "output_type": "display_data"
        }
      ],
      "source": [
        "#plot\n",
        "plt.figure(figsize=(10,20))\n",
        "sns.barplot(data=df_features,x='weight',y='col')\n",
        "# plt.show()"
      ]
    },
    {
      "cell_type": "code",
      "execution_count": null,
      "id": "80b865fd-462a-4dc5-a6aa-ad7d452562d6",
      "metadata": {
        "id": "80b865fd-462a-4dc5-a6aa-ad7d452562d6"
      },
      "outputs": [],
      "source": [
        "# 모델 정확도 확인 함수 정의\n",
        "\n",
        "def print_score(true, pred, train = True):\n",
        "    if train:\n",
        "        clf_report = pd.DataFrame(classification_report(true, pred, output_dict = True))\n",
        "        print(\"Train Result:\\n================================================\")\n",
        "        print(f\"Accuracy Score: {accuracy_score(true, pred) * 100:.2f}%\")\n",
        "        print(\"_______________________________________________\")\n",
        "        print(f\"CLASSIFICATION REPORT:\\n{clf_report}\")\n",
        "        print(\"_______________________________________________\")\n",
        "        print(f\"Confusion Matrix: \\n {confusion_matrix(true, pred)}\\n\")\n",
        "        \n",
        "    elif train==False:\n",
        "        clf_report = pd.DataFrame(classification_report(true, pred, output_dict = True))\n",
        "        print(\"Test Result:\\n================================================\")        \n",
        "        print(f\"Accuracy Score: {accuracy_score(true, pred) * 100:.2f}%\")\n",
        "        print(\"_______________________________________________\")\n",
        "        print(f\"CLASSIFICATION REPORT:\\n{clf_report}\")\n",
        "        print(\"_______________________________________________\")\n",
        "        print(f\"Confusion Matrix: \\n {confusion_matrix(true, pred)}\\n\")"
      ]
    },
    {
      "cell_type": "code",
      "execution_count": null,
      "id": "71cd6d0a-e3ce-4d13-9a6f-7b798db012ed",
      "metadata": {
        "id": "71cd6d0a-e3ce-4d13-9a6f-7b798db012ed",
        "outputId": "c7e27f4a-e26b-4658-fcf0-15a645d67143"
      },
      "outputs": [
        {
          "data": {
            "text/html": [
              "<style>#sk-container-id-1 {color: black;background-color: white;}#sk-container-id-1 pre{padding: 0;}#sk-container-id-1 div.sk-toggleable {background-color: white;}#sk-container-id-1 label.sk-toggleable__label {cursor: pointer;display: block;width: 100%;margin-bottom: 0;padding: 0.3em;box-sizing: border-box;text-align: center;}#sk-container-id-1 label.sk-toggleable__label-arrow:before {content: \"▸\";float: left;margin-right: 0.25em;color: #696969;}#sk-container-id-1 label.sk-toggleable__label-arrow:hover:before {color: black;}#sk-container-id-1 div.sk-estimator:hover label.sk-toggleable__label-arrow:before {color: black;}#sk-container-id-1 div.sk-toggleable__content {max-height: 0;max-width: 0;overflow: hidden;text-align: left;background-color: #f0f8ff;}#sk-container-id-1 div.sk-toggleable__content pre {margin: 0.2em;color: black;border-radius: 0.25em;background-color: #f0f8ff;}#sk-container-id-1 input.sk-toggleable__control:checked~div.sk-toggleable__content {max-height: 200px;max-width: 100%;overflow: auto;}#sk-container-id-1 input.sk-toggleable__control:checked~label.sk-toggleable__label-arrow:before {content: \"▾\";}#sk-container-id-1 div.sk-estimator input.sk-toggleable__control:checked~label.sk-toggleable__label {background-color: #d4ebff;}#sk-container-id-1 div.sk-label input.sk-toggleable__control:checked~label.sk-toggleable__label {background-color: #d4ebff;}#sk-container-id-1 input.sk-hidden--visually {border: 0;clip: rect(1px 1px 1px 1px);clip: rect(1px, 1px, 1px, 1px);height: 1px;margin: -1px;overflow: hidden;padding: 0;position: absolute;width: 1px;}#sk-container-id-1 div.sk-estimator {font-family: monospace;background-color: #f0f8ff;border: 1px dotted black;border-radius: 0.25em;box-sizing: border-box;margin-bottom: 0.5em;}#sk-container-id-1 div.sk-estimator:hover {background-color: #d4ebff;}#sk-container-id-1 div.sk-parallel-item::after {content: \"\";width: 100%;border-bottom: 1px solid gray;flex-grow: 1;}#sk-container-id-1 div.sk-label:hover label.sk-toggleable__label {background-color: #d4ebff;}#sk-container-id-1 div.sk-serial::before {content: \"\";position: absolute;border-left: 1px solid gray;box-sizing: border-box;top: 0;bottom: 0;left: 50%;z-index: 0;}#sk-container-id-1 div.sk-serial {display: flex;flex-direction: column;align-items: center;background-color: white;padding-right: 0.2em;padding-left: 0.2em;position: relative;}#sk-container-id-1 div.sk-item {position: relative;z-index: 1;}#sk-container-id-1 div.sk-parallel {display: flex;align-items: stretch;justify-content: center;background-color: white;position: relative;}#sk-container-id-1 div.sk-item::before, #sk-container-id-1 div.sk-parallel-item::before {content: \"\";position: absolute;border-left: 1px solid gray;box-sizing: border-box;top: 0;bottom: 0;left: 50%;z-index: -1;}#sk-container-id-1 div.sk-parallel-item {display: flex;flex-direction: column;z-index: 1;position: relative;background-color: white;}#sk-container-id-1 div.sk-parallel-item:first-child::after {align-self: flex-end;width: 50%;}#sk-container-id-1 div.sk-parallel-item:last-child::after {align-self: flex-start;width: 50%;}#sk-container-id-1 div.sk-parallel-item:only-child::after {width: 0;}#sk-container-id-1 div.sk-dashed-wrapped {border: 1px dashed gray;margin: 0 0.4em 0.5em 0.4em;box-sizing: border-box;padding-bottom: 0.4em;background-color: white;}#sk-container-id-1 div.sk-label label {font-family: monospace;font-weight: bold;display: inline-block;line-height: 1.2em;}#sk-container-id-1 div.sk-label-container {text-align: center;}#sk-container-id-1 div.sk-container {/* jupyter's `normalize.less` sets `[hidden] { display: none; }` but bootstrap.min.css set `[hidden] { display: none !important; }` so we also need the `!important` here to be able to override the default hidden behavior on the sphinx rendered scikit-learn.org. See: https://github.com/scikit-learn/scikit-learn/issues/21755 */display: inline-block !important;position: relative;}#sk-container-id-1 div.sk-text-repr-fallback {display: none;}</style><div id=\"sk-container-id-1\" class=\"sk-top-container\"><div class=\"sk-text-repr-fallback\"><pre>LogisticRegression()</pre><b>In a Jupyter environment, please rerun this cell to show the HTML representation or trust the notebook. <br />On GitHub, the HTML representation is unable to render, please try loading this page with nbviewer.org.</b></div><div class=\"sk-container\" hidden><div class=\"sk-item\"><div class=\"sk-estimator sk-toggleable\"><input class=\"sk-toggleable__control sk-hidden--visually\" id=\"sk-estimator-id-1\" type=\"checkbox\" checked><label for=\"sk-estimator-id-1\" class=\"sk-toggleable__label sk-toggleable__label-arrow\">LogisticRegression</label><div class=\"sk-toggleable__content\"><pre>LogisticRegression()</pre></div></div></div></div></div>"
            ],
            "text/plain": [
              "LogisticRegression()"
            ]
          },
          "execution_count": 44,
          "metadata": {},
          "output_type": "execute_result"
        }
      ],
      "source": [
        "# 로지스틱 진행\n",
        "# 로지스틱 회귀분석 모델 생성\n",
        "lr_clf = LogisticRegression() \n",
        "\n",
        "# 모델 학습 진행(오버샘플링 데이터)\n",
        "lr_clf.fit(train_X_os, train_y_os)"
      ]
    },
    {
      "cell_type": "code",
      "execution_count": null,
      "id": "a049c0d7-a0fa-4ae0-9d48-1f72a735b919",
      "metadata": {
        "id": "a049c0d7-a0fa-4ae0-9d48-1f72a735b919",
        "outputId": "066e05e0-2220-4abf-e983-d829d421c1ea"
      },
      "outputs": [
        {
          "name": "stdout",
          "output_type": "stream",
          "text": [
            "Train Result:\n",
            "================================================\n",
            "Accuracy Score: 80.07%\n",
            "_______________________________________________\n",
            "CLASSIFICATION REPORT:\n",
            "                  0         1  accuracy  macro avg  weighted avg\n",
            "precision   0.79075   0.81132   0.80068    0.80103       0.80103\n",
            "recall      0.81777   0.78360   0.80068    0.80068       0.80068\n",
            "f1-score    0.80403   0.79722   0.80068    0.80063       0.80063\n",
            "support   439.00000 439.00000   0.80068  878.00000     878.00000\n",
            "_______________________________________________\n",
            "Confusion Matrix: \n",
            " [[359  80]\n",
            " [ 95 344]]\n",
            "\n",
            "Test Result:\n",
            "================================================\n",
            "Accuracy Score: 79.33%\n",
            "_______________________________________________\n",
            "CLASSIFICATION REPORT:\n",
            "                  0        1  accuracy  macro avg  weighted avg\n",
            "precision   0.82883  0.73529   0.79330    0.78206       0.79277\n",
            "recall      0.83636  0.72464   0.79330    0.78050       0.79330\n",
            "f1-score    0.83258  0.72993   0.79330    0.78125       0.79301\n",
            "support   110.00000 69.00000   0.79330  179.00000     179.00000\n",
            "_______________________________________________\n",
            "Confusion Matrix: \n",
            " [[92 18]\n",
            " [19 50]]\n",
            "\n"
          ]
        }
      ],
      "source": [
        "# 모델 정확도 확인\n",
        "train_y_pred = lr_clf.predict(train_X_os)\n",
        "test_y_pred = lr_clf.predict(test_X)\n",
        "\n",
        "print_score(train_y_os, train_y_pred, train = True)\n",
        "print_score(test_y, test_y_pred, train = False)"
      ]
    },
    {
      "cell_type": "markdown",
      "id": "a5f5bb38-a995-4c13-9606-913ae8f3d528",
      "metadata": {
        "id": "a5f5bb38-a995-4c13-9606-913ae8f3d528"
      },
      "source": [
        "# 연습문제2"
      ]
    },
    {
      "cell_type": "code",
      "execution_count": null,
      "id": "dba36c2f-014c-4acd-906b-7687a4c75755",
      "metadata": {
        "id": "dba36c2f-014c-4acd-906b-7687a4c75755",
        "outputId": "41f45f92-933a-41da-ef7e-32c0f0e26783"
      },
      "outputs": [
        {
          "name": "stdout",
          "output_type": "stream",
          "text": [
            "/home/ljy1115/project\n"
          ]
        }
      ],
      "source": [
        "import os\n",
        "print(os.getcwd())"
      ]
    },
    {
      "cell_type": "code",
      "execution_count": null,
      "id": "7bf64a28-3824-4144-bdfe-bb7d1c2a5f48",
      "metadata": {
        "id": "7bf64a28-3824-4144-bdfe-bb7d1c2a5f48"
      },
      "outputs": [],
      "source": [
        "# qsec 컬럼 min-max로 변환 > 0.5\n",
        "import pandas as pd\n",
        "\n",
        "df = pd.read_csv(\"/home/ljy1115/project/mtcars.csv\", sep=',')"
      ]
    },
    {
      "cell_type": "code",
      "execution_count": null,
      "id": "1b08f323-a26f-45fb-b870-cdcc1c6c747a",
      "metadata": {
        "id": "1b08f323-a26f-45fb-b870-cdcc1c6c747a",
        "outputId": "319838b0-21fd-4d99-8722-d06cf5685787"
      },
      "outputs": [
        {
          "data": {
            "text/html": [
              "<div>\n",
              "<style scoped>\n",
              "    .dataframe tbody tr th:only-of-type {\n",
              "        vertical-align: middle;\n",
              "    }\n",
              "\n",
              "    .dataframe tbody tr th {\n",
              "        vertical-align: top;\n",
              "    }\n",
              "\n",
              "    .dataframe thead th {\n",
              "        text-align: right;\n",
              "    }\n",
              "</style>\n",
              "<table border=\"1\" class=\"dataframe\">\n",
              "  <thead>\n",
              "    <tr style=\"text-align: right;\">\n",
              "      <th></th>\n",
              "      <th>Unnamed: 0</th>\n",
              "      <th>mpg</th>\n",
              "      <th>cyl</th>\n",
              "      <th>disp</th>\n",
              "      <th>hp</th>\n",
              "      <th>drat</th>\n",
              "      <th>wt</th>\n",
              "      <th>qsec</th>\n",
              "      <th>vs</th>\n",
              "      <th>am</th>\n",
              "      <th>gear</th>\n",
              "      <th>carb</th>\n",
              "    </tr>\n",
              "  </thead>\n",
              "  <tbody>\n",
              "    <tr>\n",
              "      <th>0</th>\n",
              "      <td>Mazda RX4</td>\n",
              "      <td>21.0</td>\n",
              "      <td>6</td>\n",
              "      <td>160.0</td>\n",
              "      <td>110</td>\n",
              "      <td>3.90</td>\n",
              "      <td>2.620</td>\n",
              "      <td>16.46</td>\n",
              "      <td>0</td>\n",
              "      <td>1</td>\n",
              "      <td>4</td>\n",
              "      <td>4</td>\n",
              "    </tr>\n",
              "    <tr>\n",
              "      <th>1</th>\n",
              "      <td>Mazda RX4 Wag</td>\n",
              "      <td>21.0</td>\n",
              "      <td>6</td>\n",
              "      <td>160.0</td>\n",
              "      <td>110</td>\n",
              "      <td>3.90</td>\n",
              "      <td>2.875</td>\n",
              "      <td>17.02</td>\n",
              "      <td>0</td>\n",
              "      <td>1</td>\n",
              "      <td>4</td>\n",
              "      <td>4</td>\n",
              "    </tr>\n",
              "    <tr>\n",
              "      <th>2</th>\n",
              "      <td>Datsun 710</td>\n",
              "      <td>22.8</td>\n",
              "      <td>4</td>\n",
              "      <td>108.0</td>\n",
              "      <td>93</td>\n",
              "      <td>3.85</td>\n",
              "      <td>2.320</td>\n",
              "      <td>18.61</td>\n",
              "      <td>1</td>\n",
              "      <td>1</td>\n",
              "      <td>4</td>\n",
              "      <td>1</td>\n",
              "    </tr>\n",
              "    <tr>\n",
              "      <th>3</th>\n",
              "      <td>Hornet 4 Drive</td>\n",
              "      <td>21.4</td>\n",
              "      <td>6</td>\n",
              "      <td>258.0</td>\n",
              "      <td>110</td>\n",
              "      <td>3.08</td>\n",
              "      <td>3.215</td>\n",
              "      <td>19.44</td>\n",
              "      <td>1</td>\n",
              "      <td>0</td>\n",
              "      <td>3</td>\n",
              "      <td>1</td>\n",
              "    </tr>\n",
              "    <tr>\n",
              "      <th>4</th>\n",
              "      <td>Hornet Sportabout</td>\n",
              "      <td>18.7</td>\n",
              "      <td>8</td>\n",
              "      <td>360.0</td>\n",
              "      <td>175</td>\n",
              "      <td>3.15</td>\n",
              "      <td>3.440</td>\n",
              "      <td>17.02</td>\n",
              "      <td>0</td>\n",
              "      <td>0</td>\n",
              "      <td>3</td>\n",
              "      <td>2</td>\n",
              "    </tr>\n",
              "  </tbody>\n",
              "</table>\n",
              "</div>"
            ],
            "text/plain": [
              "          Unnamed: 0   mpg  cyl   disp   hp  drat     wt   qsec  vs  am  gear  \\\n",
              "0          Mazda RX4  21.0    6  160.0  110  3.90  2.620  16.46   0   1     4   \n",
              "1      Mazda RX4 Wag  21.0    6  160.0  110  3.90  2.875  17.02   0   1     4   \n",
              "2         Datsun 710  22.8    4  108.0   93  3.85  2.320  18.61   1   1     4   \n",
              "3     Hornet 4 Drive  21.4    6  258.0  110  3.08  3.215  19.44   1   0     3   \n",
              "4  Hornet Sportabout  18.7    8  360.0  175  3.15  3.440  17.02   0   0     3   \n",
              "\n",
              "   carb  \n",
              "0     4  \n",
              "1     4  \n",
              "2     1  \n",
              "3     1  \n",
              "4     2  "
            ]
          },
          "execution_count": 3,
          "metadata": {},
          "output_type": "execute_result"
        }
      ],
      "source": [
        "df.head()"
      ]
    },
    {
      "cell_type": "code",
      "execution_count": null,
      "id": "dadb82a2-e649-4037-9940-10ef3a99261a",
      "metadata": {
        "id": "dadb82a2-e649-4037-9940-10ef3a99261a",
        "outputId": "8ddeebbe-2541-4974-89c8-bea15c20a666"
      },
      "outputs": [
        {
          "name": "stdout",
          "output_type": "stream",
          "text": [
            "<class 'pandas.core.frame.DataFrame'>\n",
            "RangeIndex: 32 entries, 0 to 31\n",
            "Data columns (total 12 columns):\n",
            " #   Column      Non-Null Count  Dtype  \n",
            "---  ------      --------------  -----  \n",
            " 0   Unnamed: 0  32 non-null     object \n",
            " 1   mpg         32 non-null     float64\n",
            " 2   cyl         32 non-null     int64  \n",
            " 3   disp        32 non-null     float64\n",
            " 4   hp          32 non-null     int64  \n",
            " 5   drat        32 non-null     float64\n",
            " 6   wt          32 non-null     float64\n",
            " 7   qsec        32 non-null     float64\n",
            " 8   vs          32 non-null     int64  \n",
            " 9   am          32 non-null     int64  \n",
            " 10  gear        32 non-null     int64  \n",
            " 11  carb        32 non-null     int64  \n",
            "dtypes: float64(5), int64(6), object(1)\n",
            "memory usage: 3.1+ KB\n"
          ]
        }
      ],
      "source": [
        "df.info()"
      ]
    },
    {
      "cell_type": "code",
      "execution_count": null,
      "id": "00be8583-ffe3-4a75-9294-856714905774",
      "metadata": {
        "id": "00be8583-ffe3-4a75-9294-856714905774",
        "outputId": "5b93d990-93b0-433b-d2e6-3e7dd117965a"
      },
      "outputs": [
        {
          "data": {
            "text/plain": [
              "(32, 12)"
            ]
          },
          "execution_count": 5,
          "metadata": {},
          "output_type": "execute_result"
        }
      ],
      "source": [
        "df.shape"
      ]
    },
    {
      "cell_type": "code",
      "execution_count": null,
      "id": "7897126a-7aed-4300-9bdf-7f9fe63631f1",
      "metadata": {
        "id": "7897126a-7aed-4300-9bdf-7f9fe63631f1",
        "outputId": "4e0cf162-a8cc-4ed2-de64-d8c42abc49e9"
      },
      "outputs": [
        {
          "data": {
            "text/plain": [
              "0    16.46\n",
              "1    17.02\n",
              "2    18.61\n",
              "3    19.44\n",
              "4    17.02\n",
              "Name: qsec, dtype: float64"
            ]
          },
          "execution_count": 7,
          "metadata": {},
          "output_type": "execute_result"
        }
      ],
      "source": [
        "df['qsec'].head()"
      ]
    },
    {
      "cell_type": "code",
      "execution_count": null,
      "id": "4424f732-ba28-4158-9df7-f6e4d6668d42",
      "metadata": {
        "id": "4424f732-ba28-4158-9df7-f6e4d6668d42"
      },
      "outputs": [],
      "source": [
        "scaler_qsec = MinMaxScaler()\n",
        "df[['qsec_minmax']] = scaler_qsec.fit_transform(df[['qsec']])"
      ]
    },
    {
      "cell_type": "code",
      "execution_count": null,
      "id": "96c9e03c-f31e-4e4f-a5c3-d0087625221e",
      "metadata": {
        "id": "96c9e03c-f31e-4e4f-a5c3-d0087625221e",
        "outputId": "e491aa5b-6cd9-4dc8-8999-8a1b208b4544"
      },
      "outputs": [
        {
          "data": {
            "text/html": [
              "<div>\n",
              "<style scoped>\n",
              "    .dataframe tbody tr th:only-of-type {\n",
              "        vertical-align: middle;\n",
              "    }\n",
              "\n",
              "    .dataframe tbody tr th {\n",
              "        vertical-align: top;\n",
              "    }\n",
              "\n",
              "    .dataframe thead th {\n",
              "        text-align: right;\n",
              "    }\n",
              "</style>\n",
              "<table border=\"1\" class=\"dataframe\">\n",
              "  <thead>\n",
              "    <tr style=\"text-align: right;\">\n",
              "      <th></th>\n",
              "      <th>Unnamed: 0</th>\n",
              "      <th>mpg</th>\n",
              "      <th>cyl</th>\n",
              "      <th>disp</th>\n",
              "      <th>hp</th>\n",
              "      <th>drat</th>\n",
              "      <th>wt</th>\n",
              "      <th>qsec</th>\n",
              "      <th>vs</th>\n",
              "      <th>am</th>\n",
              "      <th>gear</th>\n",
              "      <th>carb</th>\n",
              "      <th>qsec_minmax</th>\n",
              "    </tr>\n",
              "  </thead>\n",
              "  <tbody>\n",
              "    <tr>\n",
              "      <th>0</th>\n",
              "      <td>Mazda RX4</td>\n",
              "      <td>21.00000</td>\n",
              "      <td>6</td>\n",
              "      <td>160.00000</td>\n",
              "      <td>110</td>\n",
              "      <td>3.90000</td>\n",
              "      <td>2.62000</td>\n",
              "      <td>16.46000</td>\n",
              "      <td>0</td>\n",
              "      <td>1</td>\n",
              "      <td>4</td>\n",
              "      <td>4</td>\n",
              "      <td>0.23333</td>\n",
              "    </tr>\n",
              "    <tr>\n",
              "      <th>1</th>\n",
              "      <td>Mazda RX4 Wag</td>\n",
              "      <td>21.00000</td>\n",
              "      <td>6</td>\n",
              "      <td>160.00000</td>\n",
              "      <td>110</td>\n",
              "      <td>3.90000</td>\n",
              "      <td>2.87500</td>\n",
              "      <td>17.02000</td>\n",
              "      <td>0</td>\n",
              "      <td>1</td>\n",
              "      <td>4</td>\n",
              "      <td>4</td>\n",
              "      <td>0.30000</td>\n",
              "    </tr>\n",
              "    <tr>\n",
              "      <th>2</th>\n",
              "      <td>Datsun 710</td>\n",
              "      <td>22.80000</td>\n",
              "      <td>4</td>\n",
              "      <td>108.00000</td>\n",
              "      <td>93</td>\n",
              "      <td>3.85000</td>\n",
              "      <td>2.32000</td>\n",
              "      <td>18.61000</td>\n",
              "      <td>1</td>\n",
              "      <td>1</td>\n",
              "      <td>4</td>\n",
              "      <td>1</td>\n",
              "      <td>0.48929</td>\n",
              "    </tr>\n",
              "    <tr>\n",
              "      <th>3</th>\n",
              "      <td>Hornet 4 Drive</td>\n",
              "      <td>21.40000</td>\n",
              "      <td>6</td>\n",
              "      <td>258.00000</td>\n",
              "      <td>110</td>\n",
              "      <td>3.08000</td>\n",
              "      <td>3.21500</td>\n",
              "      <td>19.44000</td>\n",
              "      <td>1</td>\n",
              "      <td>0</td>\n",
              "      <td>3</td>\n",
              "      <td>1</td>\n",
              "      <td>0.58810</td>\n",
              "    </tr>\n",
              "    <tr>\n",
              "      <th>4</th>\n",
              "      <td>Hornet Sportabout</td>\n",
              "      <td>18.70000</td>\n",
              "      <td>8</td>\n",
              "      <td>360.00000</td>\n",
              "      <td>175</td>\n",
              "      <td>3.15000</td>\n",
              "      <td>3.44000</td>\n",
              "      <td>17.02000</td>\n",
              "      <td>0</td>\n",
              "      <td>0</td>\n",
              "      <td>3</td>\n",
              "      <td>2</td>\n",
              "      <td>0.30000</td>\n",
              "    </tr>\n",
              "  </tbody>\n",
              "</table>\n",
              "</div>"
            ],
            "text/plain": [
              "          Unnamed: 0      mpg  cyl      disp   hp    drat      wt     qsec  \\\n",
              "0          Mazda RX4 21.00000    6 160.00000  110 3.90000 2.62000 16.46000   \n",
              "1      Mazda RX4 Wag 21.00000    6 160.00000  110 3.90000 2.87500 17.02000   \n",
              "2         Datsun 710 22.80000    4 108.00000   93 3.85000 2.32000 18.61000   \n",
              "3     Hornet 4 Drive 21.40000    6 258.00000  110 3.08000 3.21500 19.44000   \n",
              "4  Hornet Sportabout 18.70000    8 360.00000  175 3.15000 3.44000 17.02000   \n",
              "\n",
              "   vs  am  gear  carb  qsec_minmax  \n",
              "0   0   1     4     4      0.23333  \n",
              "1   0   1     4     4      0.30000  \n",
              "2   1   1     4     1      0.48929  \n",
              "3   1   0     3     1      0.58810  \n",
              "4   0   0     3     2      0.30000  "
            ]
          },
          "execution_count": 20,
          "metadata": {},
          "output_type": "execute_result"
        }
      ],
      "source": [
        "df.head()"
      ]
    },
    {
      "cell_type": "code",
      "execution_count": null,
      "id": "a6501a3c-befc-4d2a-b3a9-a77597d3c0d1",
      "metadata": {
        "id": "a6501a3c-befc-4d2a-b3a9-a77597d3c0d1",
        "outputId": "cdf407a8-0816-4e8d-fd44-552037386722"
      },
      "outputs": [
        {
          "data": {
            "text/plain": [
              "(9, 13)"
            ]
          },
          "execution_count": 23,
          "metadata": {},
          "output_type": "execute_result"
        }
      ],
      "source": [
        "# qsec을 minmax 스케일링한 값이 0.5가 넘는 row\n",
        "df[df['qsec_minmax'] > 0.5].shape"
      ]
    },
    {
      "cell_type": "markdown",
      "id": "d198f8d5-482e-4e19-b0bc-f7c199b808f4",
      "metadata": {
        "id": "d198f8d5-482e-4e19-b0bc-f7c199b808f4"
      },
      "source": [
        "# 보스턴 데이터 연습"
      ]
    },
    {
      "cell_type": "code",
      "execution_count": null,
      "id": "53ae408e-bc31-4cd7-badc-2f05b422e7b4",
      "metadata": {
        "id": "53ae408e-bc31-4cd7-badc-2f05b422e7b4",
        "outputId": "cc8afd6f-9987-4962-ba8d-9b5951738ea0"
      },
      "outputs": [
        {
          "name": "stderr",
          "output_type": "stream",
          "text": [
            "/home/ljy1115/.local/lib/python3.8/site-packages/sklearn/utils/deprecation.py:87: FutureWarning: Function load_boston is deprecated; `load_boston` is deprecated in 1.0 and will be removed in 1.2.\n",
            "\n",
            "    The Boston housing prices dataset has an ethical problem. You can refer to\n",
            "    the documentation of this function for further details.\n",
            "\n",
            "    The scikit-learn maintainers therefore strongly discourage the use of this\n",
            "    dataset unless the purpose of the code is to study and educate about\n",
            "    ethical issues in data science and machine learning.\n",
            "\n",
            "    In this special case, you can fetch the dataset from the original\n",
            "    source::\n",
            "\n",
            "        import pandas as pd\n",
            "        import numpy as np\n",
            "\n",
            "        data_url = \"http://lib.stat.cmu.edu/datasets/boston\"\n",
            "        raw_df = pd.read_csv(data_url, sep=\"\\s+\", skiprows=22, header=None)\n",
            "        data = np.hstack([raw_df.values[::2, :], raw_df.values[1::2, :2]])\n",
            "        target = raw_df.values[1::2, 2]\n",
            "\n",
            "    Alternative datasets include the California housing dataset (i.e.\n",
            "    :func:`~sklearn.datasets.fetch_california_housing`) and the Ames housing\n",
            "    dataset. You can load the datasets as follows::\n",
            "\n",
            "        from sklearn.datasets import fetch_california_housing\n",
            "        housing = fetch_california_housing()\n",
            "\n",
            "    for the California housing dataset and::\n",
            "\n",
            "        from sklearn.datasets import fetch_openml\n",
            "        housing = fetch_openml(name=\"house_prices\", as_frame=True)\n",
            "\n",
            "    for the Ames housing dataset.\n",
            "  warnings.warn(msg, category=FutureWarning)\n"
          ]
        }
      ],
      "source": [
        "from sklearn.datasets import load_boston\n",
        "import pandas as pd\n",
        "boston = load_boston()"
      ]
    },
    {
      "cell_type": "code",
      "execution_count": null,
      "id": "1d41764b-267f-41bc-ab5e-89dc3c7f8b23",
      "metadata": {
        "id": "1d41764b-267f-41bc-ab5e-89dc3c7f8b23"
      },
      "outputs": [],
      "source": [
        "df = pd.DataFrame(boston.data, columns = boston.feature_names)"
      ]
    },
    {
      "cell_type": "code",
      "execution_count": null,
      "id": "d5196070-8cb4-43c7-a6b7-0cbf1abd23ab",
      "metadata": {
        "id": "d5196070-8cb4-43c7-a6b7-0cbf1abd23ab",
        "outputId": "1411fde6-3156-495b-9f7c-ab8146af3e97"
      },
      "outputs": [
        {
          "data": {
            "text/html": [
              "<div>\n",
              "<style scoped>\n",
              "    .dataframe tbody tr th:only-of-type {\n",
              "        vertical-align: middle;\n",
              "    }\n",
              "\n",
              "    .dataframe tbody tr th {\n",
              "        vertical-align: top;\n",
              "    }\n",
              "\n",
              "    .dataframe thead th {\n",
              "        text-align: right;\n",
              "    }\n",
              "</style>\n",
              "<table border=\"1\" class=\"dataframe\">\n",
              "  <thead>\n",
              "    <tr style=\"text-align: right;\">\n",
              "      <th></th>\n",
              "      <th>CRIM</th>\n",
              "      <th>ZN</th>\n",
              "      <th>INDUS</th>\n",
              "      <th>CHAS</th>\n",
              "      <th>NOX</th>\n",
              "      <th>RM</th>\n",
              "      <th>AGE</th>\n",
              "      <th>DIS</th>\n",
              "      <th>RAD</th>\n",
              "      <th>TAX</th>\n",
              "      <th>PTRATIO</th>\n",
              "      <th>B</th>\n",
              "      <th>LSTAT</th>\n",
              "    </tr>\n",
              "  </thead>\n",
              "  <tbody>\n",
              "    <tr>\n",
              "      <th>0</th>\n",
              "      <td>0.00632</td>\n",
              "      <td>18.00000</td>\n",
              "      <td>2.31000</td>\n",
              "      <td>0.00000</td>\n",
              "      <td>0.53800</td>\n",
              "      <td>6.57500</td>\n",
              "      <td>65.20000</td>\n",
              "      <td>4.09000</td>\n",
              "      <td>1.00000</td>\n",
              "      <td>296.00000</td>\n",
              "      <td>15.30000</td>\n",
              "      <td>396.90000</td>\n",
              "      <td>4.98000</td>\n",
              "    </tr>\n",
              "    <tr>\n",
              "      <th>1</th>\n",
              "      <td>0.02731</td>\n",
              "      <td>0.00000</td>\n",
              "      <td>7.07000</td>\n",
              "      <td>0.00000</td>\n",
              "      <td>0.46900</td>\n",
              "      <td>6.42100</td>\n",
              "      <td>78.90000</td>\n",
              "      <td>4.96710</td>\n",
              "      <td>2.00000</td>\n",
              "      <td>242.00000</td>\n",
              "      <td>17.80000</td>\n",
              "      <td>396.90000</td>\n",
              "      <td>9.14000</td>\n",
              "    </tr>\n",
              "    <tr>\n",
              "      <th>2</th>\n",
              "      <td>0.02729</td>\n",
              "      <td>0.00000</td>\n",
              "      <td>7.07000</td>\n",
              "      <td>0.00000</td>\n",
              "      <td>0.46900</td>\n",
              "      <td>7.18500</td>\n",
              "      <td>61.10000</td>\n",
              "      <td>4.96710</td>\n",
              "      <td>2.00000</td>\n",
              "      <td>242.00000</td>\n",
              "      <td>17.80000</td>\n",
              "      <td>392.83000</td>\n",
              "      <td>4.03000</td>\n",
              "    </tr>\n",
              "    <tr>\n",
              "      <th>3</th>\n",
              "      <td>0.03237</td>\n",
              "      <td>0.00000</td>\n",
              "      <td>2.18000</td>\n",
              "      <td>0.00000</td>\n",
              "      <td>0.45800</td>\n",
              "      <td>6.99800</td>\n",
              "      <td>45.80000</td>\n",
              "      <td>6.06220</td>\n",
              "      <td>3.00000</td>\n",
              "      <td>222.00000</td>\n",
              "      <td>18.70000</td>\n",
              "      <td>394.63000</td>\n",
              "      <td>2.94000</td>\n",
              "    </tr>\n",
              "    <tr>\n",
              "      <th>4</th>\n",
              "      <td>0.06905</td>\n",
              "      <td>0.00000</td>\n",
              "      <td>2.18000</td>\n",
              "      <td>0.00000</td>\n",
              "      <td>0.45800</td>\n",
              "      <td>7.14700</td>\n",
              "      <td>54.20000</td>\n",
              "      <td>6.06220</td>\n",
              "      <td>3.00000</td>\n",
              "      <td>222.00000</td>\n",
              "      <td>18.70000</td>\n",
              "      <td>396.90000</td>\n",
              "      <td>5.33000</td>\n",
              "    </tr>\n",
              "  </tbody>\n",
              "</table>\n",
              "</div>"
            ],
            "text/plain": [
              "     CRIM       ZN   INDUS    CHAS     NOX      RM      AGE     DIS     RAD  \\\n",
              "0 0.00632 18.00000 2.31000 0.00000 0.53800 6.57500 65.20000 4.09000 1.00000   \n",
              "1 0.02731  0.00000 7.07000 0.00000 0.46900 6.42100 78.90000 4.96710 2.00000   \n",
              "2 0.02729  0.00000 7.07000 0.00000 0.46900 7.18500 61.10000 4.96710 2.00000   \n",
              "3 0.03237  0.00000 2.18000 0.00000 0.45800 6.99800 45.80000 6.06220 3.00000   \n",
              "4 0.06905  0.00000 2.18000 0.00000 0.45800 7.14700 54.20000 6.06220 3.00000   \n",
              "\n",
              "        TAX  PTRATIO         B   LSTAT  \n",
              "0 296.00000 15.30000 396.90000 4.98000  \n",
              "1 242.00000 17.80000 396.90000 9.14000  \n",
              "2 242.00000 17.80000 392.83000 4.03000  \n",
              "3 222.00000 18.70000 394.63000 2.94000  \n",
              "4 222.00000 18.70000 396.90000 5.33000  "
            ]
          },
          "execution_count": 27,
          "metadata": {},
          "output_type": "execute_result"
        }
      ],
      "source": [
        "df.head()"
      ]
    },
    {
      "cell_type": "code",
      "execution_count": null,
      "id": "24fc65dd-584f-4641-b4e1-43a033e7f006",
      "metadata": {
        "id": "24fc65dd-584f-4641-b4e1-43a033e7f006"
      },
      "outputs": [],
      "source": [
        "df_top10 = df.sort_values(by='CRIM', ascending=False)"
      ]
    },
    {
      "cell_type": "code",
      "execution_count": null,
      "id": "05c92cb5-f0a1-4e28-9219-287c37f64c86",
      "metadata": {
        "id": "05c92cb5-f0a1-4e28-9219-287c37f64c86",
        "outputId": "caf45d3b-f257-4532-a1f2-88847c6c51f0"
      },
      "outputs": [
        {
          "data": {
            "text/html": [
              "<div>\n",
              "<style scoped>\n",
              "    .dataframe tbody tr th:only-of-type {\n",
              "        vertical-align: middle;\n",
              "    }\n",
              "\n",
              "    .dataframe tbody tr th {\n",
              "        vertical-align: top;\n",
              "    }\n",
              "\n",
              "    .dataframe thead th {\n",
              "        text-align: right;\n",
              "    }\n",
              "</style>\n",
              "<table border=\"1\" class=\"dataframe\">\n",
              "  <thead>\n",
              "    <tr style=\"text-align: right;\">\n",
              "      <th></th>\n",
              "      <th>CRIM</th>\n",
              "      <th>ZN</th>\n",
              "      <th>INDUS</th>\n",
              "      <th>CHAS</th>\n",
              "      <th>NOX</th>\n",
              "      <th>RM</th>\n",
              "      <th>AGE</th>\n",
              "      <th>DIS</th>\n",
              "      <th>RAD</th>\n",
              "      <th>TAX</th>\n",
              "      <th>PTRATIO</th>\n",
              "      <th>B</th>\n",
              "      <th>LSTAT</th>\n",
              "    </tr>\n",
              "  </thead>\n",
              "  <tbody>\n",
              "    <tr>\n",
              "      <th>380</th>\n",
              "      <td>88.97620</td>\n",
              "      <td>0.00000</td>\n",
              "      <td>18.10000</td>\n",
              "      <td>0.00000</td>\n",
              "      <td>0.67100</td>\n",
              "      <td>6.96800</td>\n",
              "      <td>91.90000</td>\n",
              "      <td>1.41650</td>\n",
              "      <td>24.00000</td>\n",
              "      <td>666.00000</td>\n",
              "      <td>20.20000</td>\n",
              "      <td>396.90000</td>\n",
              "      <td>17.21000</td>\n",
              "    </tr>\n",
              "    <tr>\n",
              "      <th>418</th>\n",
              "      <td>73.53410</td>\n",
              "      <td>0.00000</td>\n",
              "      <td>18.10000</td>\n",
              "      <td>0.00000</td>\n",
              "      <td>0.67900</td>\n",
              "      <td>5.95700</td>\n",
              "      <td>100.00000</td>\n",
              "      <td>1.80260</td>\n",
              "      <td>24.00000</td>\n",
              "      <td>666.00000</td>\n",
              "      <td>20.20000</td>\n",
              "      <td>16.45000</td>\n",
              "      <td>20.62000</td>\n",
              "    </tr>\n",
              "    <tr>\n",
              "      <th>405</th>\n",
              "      <td>67.92080</td>\n",
              "      <td>0.00000</td>\n",
              "      <td>18.10000</td>\n",
              "      <td>0.00000</td>\n",
              "      <td>0.69300</td>\n",
              "      <td>5.68300</td>\n",
              "      <td>100.00000</td>\n",
              "      <td>1.42540</td>\n",
              "      <td>24.00000</td>\n",
              "      <td>666.00000</td>\n",
              "      <td>20.20000</td>\n",
              "      <td>384.97000</td>\n",
              "      <td>22.98000</td>\n",
              "    </tr>\n",
              "    <tr>\n",
              "      <th>410</th>\n",
              "      <td>51.13580</td>\n",
              "      <td>0.00000</td>\n",
              "      <td>18.10000</td>\n",
              "      <td>0.00000</td>\n",
              "      <td>0.59700</td>\n",
              "      <td>5.75700</td>\n",
              "      <td>100.00000</td>\n",
              "      <td>1.41300</td>\n",
              "      <td>24.00000</td>\n",
              "      <td>666.00000</td>\n",
              "      <td>20.20000</td>\n",
              "      <td>2.60000</td>\n",
              "      <td>10.11000</td>\n",
              "    </tr>\n",
              "    <tr>\n",
              "      <th>414</th>\n",
              "      <td>45.74610</td>\n",
              "      <td>0.00000</td>\n",
              "      <td>18.10000</td>\n",
              "      <td>0.00000</td>\n",
              "      <td>0.69300</td>\n",
              "      <td>4.51900</td>\n",
              "      <td>100.00000</td>\n",
              "      <td>1.65820</td>\n",
              "      <td>24.00000</td>\n",
              "      <td>666.00000</td>\n",
              "      <td>20.20000</td>\n",
              "      <td>88.27000</td>\n",
              "      <td>36.98000</td>\n",
              "    </tr>\n",
              "    <tr>\n",
              "      <th>404</th>\n",
              "      <td>41.52920</td>\n",
              "      <td>0.00000</td>\n",
              "      <td>18.10000</td>\n",
              "      <td>0.00000</td>\n",
              "      <td>0.69300</td>\n",
              "      <td>5.53100</td>\n",
              "      <td>85.40000</td>\n",
              "      <td>1.60740</td>\n",
              "      <td>24.00000</td>\n",
              "      <td>666.00000</td>\n",
              "      <td>20.20000</td>\n",
              "      <td>329.46000</td>\n",
              "      <td>27.38000</td>\n",
              "    </tr>\n",
              "    <tr>\n",
              "      <th>398</th>\n",
              "      <td>38.35180</td>\n",
              "      <td>0.00000</td>\n",
              "      <td>18.10000</td>\n",
              "      <td>0.00000</td>\n",
              "      <td>0.69300</td>\n",
              "      <td>5.45300</td>\n",
              "      <td>100.00000</td>\n",
              "      <td>1.48960</td>\n",
              "      <td>24.00000</td>\n",
              "      <td>666.00000</td>\n",
              "      <td>20.20000</td>\n",
              "      <td>396.90000</td>\n",
              "      <td>30.59000</td>\n",
              "    </tr>\n",
              "    <tr>\n",
              "      <th>427</th>\n",
              "      <td>37.66190</td>\n",
              "      <td>0.00000</td>\n",
              "      <td>18.10000</td>\n",
              "      <td>0.00000</td>\n",
              "      <td>0.67900</td>\n",
              "      <td>6.20200</td>\n",
              "      <td>78.70000</td>\n",
              "      <td>1.86290</td>\n",
              "      <td>24.00000</td>\n",
              "      <td>666.00000</td>\n",
              "      <td>20.20000</td>\n",
              "      <td>18.82000</td>\n",
              "      <td>14.52000</td>\n",
              "    </tr>\n",
              "    <tr>\n",
              "      <th>413</th>\n",
              "      <td>28.65580</td>\n",
              "      <td>0.00000</td>\n",
              "      <td>18.10000</td>\n",
              "      <td>0.00000</td>\n",
              "      <td>0.59700</td>\n",
              "      <td>5.15500</td>\n",
              "      <td>100.00000</td>\n",
              "      <td>1.58940</td>\n",
              "      <td>24.00000</td>\n",
              "      <td>666.00000</td>\n",
              "      <td>20.20000</td>\n",
              "      <td>210.97000</td>\n",
              "      <td>20.08000</td>\n",
              "    </tr>\n",
              "    <tr>\n",
              "      <th>417</th>\n",
              "      <td>25.94060</td>\n",
              "      <td>0.00000</td>\n",
              "      <td>18.10000</td>\n",
              "      <td>0.00000</td>\n",
              "      <td>0.67900</td>\n",
              "      <td>5.30400</td>\n",
              "      <td>89.10000</td>\n",
              "      <td>1.64750</td>\n",
              "      <td>24.00000</td>\n",
              "      <td>666.00000</td>\n",
              "      <td>20.20000</td>\n",
              "      <td>127.36000</td>\n",
              "      <td>26.64000</td>\n",
              "    </tr>\n",
              "  </tbody>\n",
              "</table>\n",
              "</div>"
            ],
            "text/plain": [
              "        CRIM      ZN    INDUS    CHAS     NOX      RM       AGE     DIS  \\\n",
              "380 88.97620 0.00000 18.10000 0.00000 0.67100 6.96800  91.90000 1.41650   \n",
              "418 73.53410 0.00000 18.10000 0.00000 0.67900 5.95700 100.00000 1.80260   \n",
              "405 67.92080 0.00000 18.10000 0.00000 0.69300 5.68300 100.00000 1.42540   \n",
              "410 51.13580 0.00000 18.10000 0.00000 0.59700 5.75700 100.00000 1.41300   \n",
              "414 45.74610 0.00000 18.10000 0.00000 0.69300 4.51900 100.00000 1.65820   \n",
              "404 41.52920 0.00000 18.10000 0.00000 0.69300 5.53100  85.40000 1.60740   \n",
              "398 38.35180 0.00000 18.10000 0.00000 0.69300 5.45300 100.00000 1.48960   \n",
              "427 37.66190 0.00000 18.10000 0.00000 0.67900 6.20200  78.70000 1.86290   \n",
              "413 28.65580 0.00000 18.10000 0.00000 0.59700 5.15500 100.00000 1.58940   \n",
              "417 25.94060 0.00000 18.10000 0.00000 0.67900 5.30400  89.10000 1.64750   \n",
              "\n",
              "         RAD       TAX  PTRATIO         B    LSTAT  \n",
              "380 24.00000 666.00000 20.20000 396.90000 17.21000  \n",
              "418 24.00000 666.00000 20.20000  16.45000 20.62000  \n",
              "405 24.00000 666.00000 20.20000 384.97000 22.98000  \n",
              "410 24.00000 666.00000 20.20000   2.60000 10.11000  \n",
              "414 24.00000 666.00000 20.20000  88.27000 36.98000  \n",
              "404 24.00000 666.00000 20.20000 329.46000 27.38000  \n",
              "398 24.00000 666.00000 20.20000 396.90000 30.59000  \n",
              "427 24.00000 666.00000 20.20000  18.82000 14.52000  \n",
              "413 24.00000 666.00000 20.20000 210.97000 20.08000  \n",
              "417 24.00000 666.00000 20.20000 127.36000 26.64000  "
            ]
          },
          "execution_count": 33,
          "metadata": {},
          "output_type": "execute_result"
        }
      ],
      "source": [
        "df_top10 = df_top10.iloc[0:10,:]\n",
        "df_top10"
      ]
    },
    {
      "cell_type": "code",
      "execution_count": null,
      "id": "dad0db68-626b-4c2b-8c3b-8e664d3ce9c2",
      "metadata": {
        "id": "dad0db68-626b-4c2b-8c3b-8e664d3ce9c2"
      },
      "outputs": [],
      "source": [
        "# 10번째로 큰 값으로 변경\n",
        "df['CRIM'][df['CRIM'] >= 25.94060] = 25.94060"
      ]
    },
    {
      "cell_type": "code",
      "execution_count": null,
      "id": "d81c8f50-1f63-41e3-b744-4d48235d7780",
      "metadata": {
        "id": "d81c8f50-1f63-41e3-b744-4d48235d7780",
        "outputId": "e8f87317-08fb-4081-cc06-73a4ee020ffe"
      },
      "outputs": [
        {
          "data": {
            "text/html": [
              "<div>\n",
              "<style scoped>\n",
              "    .dataframe tbody tr th:only-of-type {\n",
              "        vertical-align: middle;\n",
              "    }\n",
              "\n",
              "    .dataframe tbody tr th {\n",
              "        vertical-align: top;\n",
              "    }\n",
              "\n",
              "    .dataframe thead th {\n",
              "        text-align: right;\n",
              "    }\n",
              "</style>\n",
              "<table border=\"1\" class=\"dataframe\">\n",
              "  <thead>\n",
              "    <tr style=\"text-align: right;\">\n",
              "      <th></th>\n",
              "      <th>CRIM</th>\n",
              "      <th>ZN</th>\n",
              "      <th>INDUS</th>\n",
              "      <th>CHAS</th>\n",
              "      <th>NOX</th>\n",
              "      <th>RM</th>\n",
              "      <th>AGE</th>\n",
              "      <th>DIS</th>\n",
              "      <th>RAD</th>\n",
              "      <th>TAX</th>\n",
              "      <th>PTRATIO</th>\n",
              "      <th>B</th>\n",
              "      <th>LSTAT</th>\n",
              "    </tr>\n",
              "  </thead>\n",
              "  <tbody>\n",
              "    <tr>\n",
              "      <th>380</th>\n",
              "      <td>25.94060</td>\n",
              "      <td>0.00000</td>\n",
              "      <td>18.10000</td>\n",
              "      <td>0.00000</td>\n",
              "      <td>0.67100</td>\n",
              "      <td>6.96800</td>\n",
              "      <td>91.90000</td>\n",
              "      <td>1.41650</td>\n",
              "      <td>24.00000</td>\n",
              "      <td>666.00000</td>\n",
              "      <td>20.20000</td>\n",
              "      <td>396.90000</td>\n",
              "      <td>17.21000</td>\n",
              "    </tr>\n",
              "    <tr>\n",
              "      <th>398</th>\n",
              "      <td>25.94060</td>\n",
              "      <td>0.00000</td>\n",
              "      <td>18.10000</td>\n",
              "      <td>0.00000</td>\n",
              "      <td>0.69300</td>\n",
              "      <td>5.45300</td>\n",
              "      <td>100.00000</td>\n",
              "      <td>1.48960</td>\n",
              "      <td>24.00000</td>\n",
              "      <td>666.00000</td>\n",
              "      <td>20.20000</td>\n",
              "      <td>396.90000</td>\n",
              "      <td>30.59000</td>\n",
              "    </tr>\n",
              "    <tr>\n",
              "      <th>404</th>\n",
              "      <td>25.94060</td>\n",
              "      <td>0.00000</td>\n",
              "      <td>18.10000</td>\n",
              "      <td>0.00000</td>\n",
              "      <td>0.69300</td>\n",
              "      <td>5.53100</td>\n",
              "      <td>85.40000</td>\n",
              "      <td>1.60740</td>\n",
              "      <td>24.00000</td>\n",
              "      <td>666.00000</td>\n",
              "      <td>20.20000</td>\n",
              "      <td>329.46000</td>\n",
              "      <td>27.38000</td>\n",
              "    </tr>\n",
              "    <tr>\n",
              "      <th>405</th>\n",
              "      <td>25.94060</td>\n",
              "      <td>0.00000</td>\n",
              "      <td>18.10000</td>\n",
              "      <td>0.00000</td>\n",
              "      <td>0.69300</td>\n",
              "      <td>5.68300</td>\n",
              "      <td>100.00000</td>\n",
              "      <td>1.42540</td>\n",
              "      <td>24.00000</td>\n",
              "      <td>666.00000</td>\n",
              "      <td>20.20000</td>\n",
              "      <td>384.97000</td>\n",
              "      <td>22.98000</td>\n",
              "    </tr>\n",
              "    <tr>\n",
              "      <th>410</th>\n",
              "      <td>25.94060</td>\n",
              "      <td>0.00000</td>\n",
              "      <td>18.10000</td>\n",
              "      <td>0.00000</td>\n",
              "      <td>0.59700</td>\n",
              "      <td>5.75700</td>\n",
              "      <td>100.00000</td>\n",
              "      <td>1.41300</td>\n",
              "      <td>24.00000</td>\n",
              "      <td>666.00000</td>\n",
              "      <td>20.20000</td>\n",
              "      <td>2.60000</td>\n",
              "      <td>10.11000</td>\n",
              "    </tr>\n",
              "    <tr>\n",
              "      <th>413</th>\n",
              "      <td>25.94060</td>\n",
              "      <td>0.00000</td>\n",
              "      <td>18.10000</td>\n",
              "      <td>0.00000</td>\n",
              "      <td>0.59700</td>\n",
              "      <td>5.15500</td>\n",
              "      <td>100.00000</td>\n",
              "      <td>1.58940</td>\n",
              "      <td>24.00000</td>\n",
              "      <td>666.00000</td>\n",
              "      <td>20.20000</td>\n",
              "      <td>210.97000</td>\n",
              "      <td>20.08000</td>\n",
              "    </tr>\n",
              "    <tr>\n",
              "      <th>414</th>\n",
              "      <td>25.94060</td>\n",
              "      <td>0.00000</td>\n",
              "      <td>18.10000</td>\n",
              "      <td>0.00000</td>\n",
              "      <td>0.69300</td>\n",
              "      <td>4.51900</td>\n",
              "      <td>100.00000</td>\n",
              "      <td>1.65820</td>\n",
              "      <td>24.00000</td>\n",
              "      <td>666.00000</td>\n",
              "      <td>20.20000</td>\n",
              "      <td>88.27000</td>\n",
              "      <td>36.98000</td>\n",
              "    </tr>\n",
              "    <tr>\n",
              "      <th>417</th>\n",
              "      <td>25.94060</td>\n",
              "      <td>0.00000</td>\n",
              "      <td>18.10000</td>\n",
              "      <td>0.00000</td>\n",
              "      <td>0.67900</td>\n",
              "      <td>5.30400</td>\n",
              "      <td>89.10000</td>\n",
              "      <td>1.64750</td>\n",
              "      <td>24.00000</td>\n",
              "      <td>666.00000</td>\n",
              "      <td>20.20000</td>\n",
              "      <td>127.36000</td>\n",
              "      <td>26.64000</td>\n",
              "    </tr>\n",
              "    <tr>\n",
              "      <th>418</th>\n",
              "      <td>25.94060</td>\n",
              "      <td>0.00000</td>\n",
              "      <td>18.10000</td>\n",
              "      <td>0.00000</td>\n",
              "      <td>0.67900</td>\n",
              "      <td>5.95700</td>\n",
              "      <td>100.00000</td>\n",
              "      <td>1.80260</td>\n",
              "      <td>24.00000</td>\n",
              "      <td>666.00000</td>\n",
              "      <td>20.20000</td>\n",
              "      <td>16.45000</td>\n",
              "      <td>20.62000</td>\n",
              "    </tr>\n",
              "    <tr>\n",
              "      <th>427</th>\n",
              "      <td>25.94060</td>\n",
              "      <td>0.00000</td>\n",
              "      <td>18.10000</td>\n",
              "      <td>0.00000</td>\n",
              "      <td>0.67900</td>\n",
              "      <td>6.20200</td>\n",
              "      <td>78.70000</td>\n",
              "      <td>1.86290</td>\n",
              "      <td>24.00000</td>\n",
              "      <td>666.00000</td>\n",
              "      <td>20.20000</td>\n",
              "      <td>18.82000</td>\n",
              "      <td>14.52000</td>\n",
              "    </tr>\n",
              "  </tbody>\n",
              "</table>\n",
              "</div>"
            ],
            "text/plain": [
              "        CRIM      ZN    INDUS    CHAS     NOX      RM       AGE     DIS  \\\n",
              "380 25.94060 0.00000 18.10000 0.00000 0.67100 6.96800  91.90000 1.41650   \n",
              "398 25.94060 0.00000 18.10000 0.00000 0.69300 5.45300 100.00000 1.48960   \n",
              "404 25.94060 0.00000 18.10000 0.00000 0.69300 5.53100  85.40000 1.60740   \n",
              "405 25.94060 0.00000 18.10000 0.00000 0.69300 5.68300 100.00000 1.42540   \n",
              "410 25.94060 0.00000 18.10000 0.00000 0.59700 5.75700 100.00000 1.41300   \n",
              "413 25.94060 0.00000 18.10000 0.00000 0.59700 5.15500 100.00000 1.58940   \n",
              "414 25.94060 0.00000 18.10000 0.00000 0.69300 4.51900 100.00000 1.65820   \n",
              "417 25.94060 0.00000 18.10000 0.00000 0.67900 5.30400  89.10000 1.64750   \n",
              "418 25.94060 0.00000 18.10000 0.00000 0.67900 5.95700 100.00000 1.80260   \n",
              "427 25.94060 0.00000 18.10000 0.00000 0.67900 6.20200  78.70000 1.86290   \n",
              "\n",
              "         RAD       TAX  PTRATIO         B    LSTAT  \n",
              "380 24.00000 666.00000 20.20000 396.90000 17.21000  \n",
              "398 24.00000 666.00000 20.20000 396.90000 30.59000  \n",
              "404 24.00000 666.00000 20.20000 329.46000 27.38000  \n",
              "405 24.00000 666.00000 20.20000 384.97000 22.98000  \n",
              "410 24.00000 666.00000 20.20000   2.60000 10.11000  \n",
              "413 24.00000 666.00000 20.20000 210.97000 20.08000  \n",
              "414 24.00000 666.00000 20.20000  88.27000 36.98000  \n",
              "417 24.00000 666.00000 20.20000 127.36000 26.64000  \n",
              "418 24.00000 666.00000 20.20000  16.45000 20.62000  \n",
              "427 24.00000 666.00000 20.20000  18.82000 14.52000  "
            ]
          },
          "execution_count": 40,
          "metadata": {},
          "output_type": "execute_result"
        }
      ],
      "source": [
        "# 확인\n",
        "df[df['CRIM'] >= 25.94060]"
      ]
    },
    {
      "cell_type": "code",
      "execution_count": null,
      "id": "461ce4d0-4921-4710-8b5e-0c8fa8b17f78",
      "metadata": {
        "id": "461ce4d0-4921-4710-8b5e-0c8fa8b17f78",
        "outputId": "e47f34e5-ddaf-4cbb-eae4-fe37be918e91"
      },
      "outputs": [
        {
          "data": {
            "text/html": [
              "<div>\n",
              "<style scoped>\n",
              "    .dataframe tbody tr th:only-of-type {\n",
              "        vertical-align: middle;\n",
              "    }\n",
              "\n",
              "    .dataframe tbody tr th {\n",
              "        vertical-align: top;\n",
              "    }\n",
              "\n",
              "    .dataframe thead th {\n",
              "        text-align: right;\n",
              "    }\n",
              "</style>\n",
              "<table border=\"1\" class=\"dataframe\">\n",
              "  <thead>\n",
              "    <tr style=\"text-align: right;\">\n",
              "      <th></th>\n",
              "      <th>CRIM</th>\n",
              "      <th>ZN</th>\n",
              "      <th>INDUS</th>\n",
              "      <th>CHAS</th>\n",
              "      <th>NOX</th>\n",
              "      <th>RM</th>\n",
              "      <th>AGE</th>\n",
              "      <th>DIS</th>\n",
              "      <th>RAD</th>\n",
              "      <th>TAX</th>\n",
              "      <th>PTRATIO</th>\n",
              "      <th>B</th>\n",
              "      <th>LSTAT</th>\n",
              "    </tr>\n",
              "  </thead>\n",
              "  <tbody>\n",
              "    <tr>\n",
              "      <th>417</th>\n",
              "      <td>25.94060</td>\n",
              "      <td>0.00000</td>\n",
              "      <td>18.10000</td>\n",
              "      <td>0.00000</td>\n",
              "      <td>0.67900</td>\n",
              "      <td>5.30400</td>\n",
              "      <td>89.10000</td>\n",
              "      <td>1.64750</td>\n",
              "      <td>24.00000</td>\n",
              "      <td>666.00000</td>\n",
              "      <td>20.20000</td>\n",
              "      <td>127.36000</td>\n",
              "      <td>26.64000</td>\n",
              "    </tr>\n",
              "    <tr>\n",
              "      <th>380</th>\n",
              "      <td>25.94060</td>\n",
              "      <td>0.00000</td>\n",
              "      <td>18.10000</td>\n",
              "      <td>0.00000</td>\n",
              "      <td>0.67100</td>\n",
              "      <td>6.96800</td>\n",
              "      <td>91.90000</td>\n",
              "      <td>1.41650</td>\n",
              "      <td>24.00000</td>\n",
              "      <td>666.00000</td>\n",
              "      <td>20.20000</td>\n",
              "      <td>396.90000</td>\n",
              "      <td>17.21000</td>\n",
              "    </tr>\n",
              "    <tr>\n",
              "      <th>414</th>\n",
              "      <td>25.94060</td>\n",
              "      <td>0.00000</td>\n",
              "      <td>18.10000</td>\n",
              "      <td>0.00000</td>\n",
              "      <td>0.69300</td>\n",
              "      <td>4.51900</td>\n",
              "      <td>100.00000</td>\n",
              "      <td>1.65820</td>\n",
              "      <td>24.00000</td>\n",
              "      <td>666.00000</td>\n",
              "      <td>20.20000</td>\n",
              "      <td>88.27000</td>\n",
              "      <td>36.98000</td>\n",
              "    </tr>\n",
              "    <tr>\n",
              "      <th>413</th>\n",
              "      <td>25.94060</td>\n",
              "      <td>0.00000</td>\n",
              "      <td>18.10000</td>\n",
              "      <td>0.00000</td>\n",
              "      <td>0.59700</td>\n",
              "      <td>5.15500</td>\n",
              "      <td>100.00000</td>\n",
              "      <td>1.58940</td>\n",
              "      <td>24.00000</td>\n",
              "      <td>666.00000</td>\n",
              "      <td>20.20000</td>\n",
              "      <td>210.97000</td>\n",
              "      <td>20.08000</td>\n",
              "    </tr>\n",
              "    <tr>\n",
              "      <th>410</th>\n",
              "      <td>25.94060</td>\n",
              "      <td>0.00000</td>\n",
              "      <td>18.10000</td>\n",
              "      <td>0.00000</td>\n",
              "      <td>0.59700</td>\n",
              "      <td>5.75700</td>\n",
              "      <td>100.00000</td>\n",
              "      <td>1.41300</td>\n",
              "      <td>24.00000</td>\n",
              "      <td>666.00000</td>\n",
              "      <td>20.20000</td>\n",
              "      <td>2.60000</td>\n",
              "      <td>10.11000</td>\n",
              "    </tr>\n",
              "    <tr>\n",
              "      <th>405</th>\n",
              "      <td>25.94060</td>\n",
              "      <td>0.00000</td>\n",
              "      <td>18.10000</td>\n",
              "      <td>0.00000</td>\n",
              "      <td>0.69300</td>\n",
              "      <td>5.68300</td>\n",
              "      <td>100.00000</td>\n",
              "      <td>1.42540</td>\n",
              "      <td>24.00000</td>\n",
              "      <td>666.00000</td>\n",
              "      <td>20.20000</td>\n",
              "      <td>384.97000</td>\n",
              "      <td>22.98000</td>\n",
              "    </tr>\n",
              "    <tr>\n",
              "      <th>404</th>\n",
              "      <td>25.94060</td>\n",
              "      <td>0.00000</td>\n",
              "      <td>18.10000</td>\n",
              "      <td>0.00000</td>\n",
              "      <td>0.69300</td>\n",
              "      <td>5.53100</td>\n",
              "      <td>85.40000</td>\n",
              "      <td>1.60740</td>\n",
              "      <td>24.00000</td>\n",
              "      <td>666.00000</td>\n",
              "      <td>20.20000</td>\n",
              "      <td>329.46000</td>\n",
              "      <td>27.38000</td>\n",
              "    </tr>\n",
              "    <tr>\n",
              "      <th>427</th>\n",
              "      <td>25.94060</td>\n",
              "      <td>0.00000</td>\n",
              "      <td>18.10000</td>\n",
              "      <td>0.00000</td>\n",
              "      <td>0.67900</td>\n",
              "      <td>6.20200</td>\n",
              "      <td>78.70000</td>\n",
              "      <td>1.86290</td>\n",
              "      <td>24.00000</td>\n",
              "      <td>666.00000</td>\n",
              "      <td>20.20000</td>\n",
              "      <td>18.82000</td>\n",
              "      <td>14.52000</td>\n",
              "    </tr>\n",
              "    <tr>\n",
              "      <th>398</th>\n",
              "      <td>25.94060</td>\n",
              "      <td>0.00000</td>\n",
              "      <td>18.10000</td>\n",
              "      <td>0.00000</td>\n",
              "      <td>0.69300</td>\n",
              "      <td>5.45300</td>\n",
              "      <td>100.00000</td>\n",
              "      <td>1.48960</td>\n",
              "      <td>24.00000</td>\n",
              "      <td>666.00000</td>\n",
              "      <td>20.20000</td>\n",
              "      <td>396.90000</td>\n",
              "      <td>30.59000</td>\n",
              "    </tr>\n",
              "    <tr>\n",
              "      <th>418</th>\n",
              "      <td>25.94060</td>\n",
              "      <td>0.00000</td>\n",
              "      <td>18.10000</td>\n",
              "      <td>0.00000</td>\n",
              "      <td>0.67900</td>\n",
              "      <td>5.95700</td>\n",
              "      <td>100.00000</td>\n",
              "      <td>1.80260</td>\n",
              "      <td>24.00000</td>\n",
              "      <td>666.00000</td>\n",
              "      <td>20.20000</td>\n",
              "      <td>16.45000</td>\n",
              "      <td>20.62000</td>\n",
              "    </tr>\n",
              "  </tbody>\n",
              "</table>\n",
              "</div>"
            ],
            "text/plain": [
              "        CRIM      ZN    INDUS    CHAS     NOX      RM       AGE     DIS  \\\n",
              "417 25.94060 0.00000 18.10000 0.00000 0.67900 5.30400  89.10000 1.64750   \n",
              "380 25.94060 0.00000 18.10000 0.00000 0.67100 6.96800  91.90000 1.41650   \n",
              "414 25.94060 0.00000 18.10000 0.00000 0.69300 4.51900 100.00000 1.65820   \n",
              "413 25.94060 0.00000 18.10000 0.00000 0.59700 5.15500 100.00000 1.58940   \n",
              "410 25.94060 0.00000 18.10000 0.00000 0.59700 5.75700 100.00000 1.41300   \n",
              "405 25.94060 0.00000 18.10000 0.00000 0.69300 5.68300 100.00000 1.42540   \n",
              "404 25.94060 0.00000 18.10000 0.00000 0.69300 5.53100  85.40000 1.60740   \n",
              "427 25.94060 0.00000 18.10000 0.00000 0.67900 6.20200  78.70000 1.86290   \n",
              "398 25.94060 0.00000 18.10000 0.00000 0.69300 5.45300 100.00000 1.48960   \n",
              "418 25.94060 0.00000 18.10000 0.00000 0.67900 5.95700 100.00000 1.80260   \n",
              "\n",
              "         RAD       TAX  PTRATIO         B    LSTAT  \n",
              "417 24.00000 666.00000 20.20000 127.36000 26.64000  \n",
              "380 24.00000 666.00000 20.20000 396.90000 17.21000  \n",
              "414 24.00000 666.00000 20.20000  88.27000 36.98000  \n",
              "413 24.00000 666.00000 20.20000 210.97000 20.08000  \n",
              "410 24.00000 666.00000 20.20000   2.60000 10.11000  \n",
              "405 24.00000 666.00000 20.20000 384.97000 22.98000  \n",
              "404 24.00000 666.00000 20.20000 329.46000 27.38000  \n",
              "427 24.00000 666.00000 20.20000  18.82000 14.52000  \n",
              "398 24.00000 666.00000 20.20000 396.90000 30.59000  \n",
              "418 24.00000 666.00000 20.20000  16.45000 20.62000  "
            ]
          },
          "execution_count": 42,
          "metadata": {},
          "output_type": "execute_result"
        }
      ],
      "source": [
        "df.sort_values(by='CRIM', ascending=False).head(10)"
      ]
    },
    {
      "cell_type": "code",
      "execution_count": null,
      "id": "4ac9dc82-657a-4c13-b8f1-5f8438fb0c84",
      "metadata": {
        "id": "4ac9dc82-657a-4c13-b8f1-5f8438fb0c84",
        "outputId": "d22d219c-a67e-4184-a598-f9b730bd4e0a"
      },
      "outputs": [
        {
          "data": {
            "text/plain": [
              "5.759386625"
            ]
          },
          "execution_count": 46,
          "metadata": {},
          "output_type": "execute_result"
        }
      ],
      "source": [
        "df_age80 = df[df['AGE'] >= 80]\n",
        "df_age80['CRIM'].mean()"
      ]
    },
    {
      "cell_type": "markdown",
      "id": "3e6ff2c0-e60d-4fd9-8d62-388b3cb9e322",
      "metadata": {
        "id": "3e6ff2c0-e60d-4fd9-8d62-388b3cb9e322"
      },
      "source": [
        "# 하우징 데이터"
      ]
    },
    {
      "cell_type": "code",
      "execution_count": null,
      "id": "98a1b8eb-ba98-4538-9838-f5b4d134b53d",
      "metadata": {
        "id": "98a1b8eb-ba98-4538-9838-f5b4d134b53d",
        "outputId": "2787ba59-feb3-4c2f-b1b1-327b0401d571"
      },
      "outputs": [
        {
          "name": "stdout",
          "output_type": "stream",
          "text": [
            "/home/ljy1115/project\n"
          ]
        }
      ],
      "source": [
        "import os\n",
        "print(os.getcwd())"
      ]
    },
    {
      "cell_type": "code",
      "execution_count": null,
      "id": "f06a30ad-0729-4384-ba17-395eb9bce07b",
      "metadata": {
        "id": "f06a30ad-0729-4384-ba17-395eb9bce07b"
      },
      "outputs": [],
      "source": [
        "df = pd.read_csv(\"/home/ljy1115/project/housing.csv\", sep = ',')"
      ]
    },
    {
      "cell_type": "code",
      "execution_count": null,
      "id": "b174987d-87c7-419f-83e8-58581da18fef",
      "metadata": {
        "id": "b174987d-87c7-419f-83e8-58581da18fef",
        "outputId": "5c984097-9b50-48db-dda1-fbbb694a63c9"
      },
      "outputs": [
        {
          "data": {
            "text/html": [
              "<div>\n",
              "<style scoped>\n",
              "    .dataframe tbody tr th:only-of-type {\n",
              "        vertical-align: middle;\n",
              "    }\n",
              "\n",
              "    .dataframe tbody tr th {\n",
              "        vertical-align: top;\n",
              "    }\n",
              "\n",
              "    .dataframe thead th {\n",
              "        text-align: right;\n",
              "    }\n",
              "</style>\n",
              "<table border=\"1\" class=\"dataframe\">\n",
              "  <thead>\n",
              "    <tr style=\"text-align: right;\">\n",
              "      <th></th>\n",
              "      <th>longitude</th>\n",
              "      <th>latitude</th>\n",
              "      <th>housing_median_age</th>\n",
              "      <th>total_rooms</th>\n",
              "      <th>total_bedrooms</th>\n",
              "      <th>population</th>\n",
              "      <th>households</th>\n",
              "      <th>median_income</th>\n",
              "      <th>median_house_value</th>\n",
              "      <th>ocean_proximity</th>\n",
              "    </tr>\n",
              "  </thead>\n",
              "  <tbody>\n",
              "    <tr>\n",
              "      <th>0</th>\n",
              "      <td>-122.23000</td>\n",
              "      <td>37.88000</td>\n",
              "      <td>41.00000</td>\n",
              "      <td>880.00000</td>\n",
              "      <td>129.00000</td>\n",
              "      <td>322.00000</td>\n",
              "      <td>126.00000</td>\n",
              "      <td>8.32520</td>\n",
              "      <td>452600.00000</td>\n",
              "      <td>NEAR BAY</td>\n",
              "    </tr>\n",
              "    <tr>\n",
              "      <th>1</th>\n",
              "      <td>-122.22000</td>\n",
              "      <td>37.86000</td>\n",
              "      <td>21.00000</td>\n",
              "      <td>7099.00000</td>\n",
              "      <td>1106.00000</td>\n",
              "      <td>2401.00000</td>\n",
              "      <td>1138.00000</td>\n",
              "      <td>8.30140</td>\n",
              "      <td>358500.00000</td>\n",
              "      <td>NEAR BAY</td>\n",
              "    </tr>\n",
              "    <tr>\n",
              "      <th>2</th>\n",
              "      <td>-122.24000</td>\n",
              "      <td>37.85000</td>\n",
              "      <td>52.00000</td>\n",
              "      <td>1467.00000</td>\n",
              "      <td>190.00000</td>\n",
              "      <td>496.00000</td>\n",
              "      <td>177.00000</td>\n",
              "      <td>7.25740</td>\n",
              "      <td>352100.00000</td>\n",
              "      <td>NEAR BAY</td>\n",
              "    </tr>\n",
              "    <tr>\n",
              "      <th>3</th>\n",
              "      <td>-122.25000</td>\n",
              "      <td>37.85000</td>\n",
              "      <td>52.00000</td>\n",
              "      <td>1274.00000</td>\n",
              "      <td>235.00000</td>\n",
              "      <td>558.00000</td>\n",
              "      <td>219.00000</td>\n",
              "      <td>5.64310</td>\n",
              "      <td>341300.00000</td>\n",
              "      <td>NEAR BAY</td>\n",
              "    </tr>\n",
              "    <tr>\n",
              "      <th>4</th>\n",
              "      <td>-122.25000</td>\n",
              "      <td>37.85000</td>\n",
              "      <td>52.00000</td>\n",
              "      <td>1627.00000</td>\n",
              "      <td>280.00000</td>\n",
              "      <td>565.00000</td>\n",
              "      <td>259.00000</td>\n",
              "      <td>3.84620</td>\n",
              "      <td>342200.00000</td>\n",
              "      <td>NEAR BAY</td>\n",
              "    </tr>\n",
              "  </tbody>\n",
              "</table>\n",
              "</div>"
            ],
            "text/plain": [
              "   longitude  latitude  housing_median_age  total_rooms  total_bedrooms  \\\n",
              "0 -122.23000  37.88000            41.00000    880.00000       129.00000   \n",
              "1 -122.22000  37.86000            21.00000   7099.00000      1106.00000   \n",
              "2 -122.24000  37.85000            52.00000   1467.00000       190.00000   \n",
              "3 -122.25000  37.85000            52.00000   1274.00000       235.00000   \n",
              "4 -122.25000  37.85000            52.00000   1627.00000       280.00000   \n",
              "\n",
              "   population  households  median_income  median_house_value ocean_proximity  \n",
              "0   322.00000   126.00000        8.32520        452600.00000        NEAR BAY  \n",
              "1  2401.00000  1138.00000        8.30140        358500.00000        NEAR BAY  \n",
              "2   496.00000   177.00000        7.25740        352100.00000        NEAR BAY  \n",
              "3   558.00000   219.00000        5.64310        341300.00000        NEAR BAY  \n",
              "4   565.00000   259.00000        3.84620        342200.00000        NEAR BAY  "
            ]
          },
          "execution_count": 8,
          "metadata": {},
          "output_type": "execute_result"
        }
      ],
      "source": [
        "df.head()"
      ]
    },
    {
      "cell_type": "code",
      "execution_count": null,
      "id": "294fe9bd-718b-478d-8e94-b1eef5a1dec1",
      "metadata": {
        "id": "294fe9bd-718b-478d-8e94-b1eef5a1dec1",
        "outputId": "81bc2740-054e-4a2b-fb52-2e1a0b1b34ba"
      },
      "outputs": [
        {
          "name": "stdout",
          "output_type": "stream",
          "text": [
            "<class 'pandas.core.frame.DataFrame'>\n",
            "RangeIndex: 20640 entries, 0 to 20639\n",
            "Data columns (total 10 columns):\n",
            " #   Column              Non-Null Count  Dtype  \n",
            "---  ------              --------------  -----  \n",
            " 0   longitude           20640 non-null  float64\n",
            " 1   latitude            20640 non-null  float64\n",
            " 2   housing_median_age  20640 non-null  float64\n",
            " 3   total_rooms         20640 non-null  float64\n",
            " 4   total_bedrooms      20433 non-null  float64\n",
            " 5   population          20640 non-null  float64\n",
            " 6   households          20640 non-null  float64\n",
            " 7   median_income       20640 non-null  float64\n",
            " 8   median_house_value  20640 non-null  float64\n",
            " 9   ocean_proximity     20640 non-null  object \n",
            "dtypes: float64(9), object(1)\n",
            "memory usage: 1.6+ MB\n"
          ]
        }
      ],
      "source": [
        "df.info()"
      ]
    },
    {
      "cell_type": "code",
      "execution_count": null,
      "id": "f6930c11-c8f3-4c23-a8bc-b87825ea8926",
      "metadata": {
        "id": "f6930c11-c8f3-4c23-a8bc-b87825ea8926",
        "outputId": "a691bdc4-f883-4b50-996f-9ab748317fce"
      },
      "outputs": [
        {
          "data": {
            "text/plain": [
              "(20640, 10)"
            ]
          },
          "execution_count": 10,
          "metadata": {},
          "output_type": "execute_result"
        }
      ],
      "source": [
        "df.shape"
      ]
    },
    {
      "cell_type": "code",
      "execution_count": null,
      "id": "3d9d8359-851b-4aae-9353-5eb6ad3bb205",
      "metadata": {
        "id": "3d9d8359-851b-4aae-9353-5eb6ad3bb205",
        "outputId": "915c287d-5796-4ae0-d042-c7caab7461e0"
      },
      "outputs": [
        {
          "data": {
            "text/plain": [
              "16512.0"
            ]
          },
          "execution_count": 11,
          "metadata": {},
          "output_type": "execute_result"
        }
      ],
      "source": [
        "20640 * 0.8"
      ]
    },
    {
      "cell_type": "code",
      "execution_count": null,
      "id": "be3f9309-3e9c-489e-9723-b78aeed4ba2d",
      "metadata": {
        "id": "be3f9309-3e9c-489e-9723-b78aeed4ba2d"
      },
      "outputs": [],
      "source": [
        "df = df.iloc[0:16512,:]"
      ]
    },
    {
      "cell_type": "code",
      "execution_count": null,
      "id": "4802c795-eecc-4c85-ad24-934eca973f19",
      "metadata": {
        "id": "4802c795-eecc-4c85-ad24-934eca973f19",
        "outputId": "e3d747dc-91b7-4da8-836a-90ca94c59f4f"
      },
      "outputs": [
        {
          "data": {
            "text/plain": [
              "(16512, 10)"
            ]
          },
          "execution_count": 13,
          "metadata": {},
          "output_type": "execute_result"
        }
      ],
      "source": [
        "df.shape"
      ]
    },
    {
      "cell_type": "code",
      "execution_count": null,
      "id": "3632b0f4-9e04-408d-b5e9-a38159317445",
      "metadata": {
        "id": "3632b0f4-9e04-408d-b5e9-a38159317445",
        "outputId": "908b55c4-90aa-4bea-9049-2cf0c55ab208"
      },
      "outputs": [
        {
          "data": {
            "text/plain": [
              "435.90057705252616"
            ]
          },
          "execution_count": 14,
          "metadata": {},
          "output_type": "execute_result"
        }
      ],
      "source": [
        "df['total_bedrooms'].std()"
      ]
    },
    {
      "cell_type": "code",
      "execution_count": null,
      "id": "1c334d04-a9ae-42c7-aa1c-304920e7a2cc",
      "metadata": {
        "id": "1c334d04-a9ae-42c7-aa1c-304920e7a2cc",
        "outputId": "607490e8-416e-4b98-b5ef-81ab6db69f2a"
      },
      "outputs": [
        {
          "data": {
            "text/plain": [
              "longitude               0\n",
              "latitude                0\n",
              "housing_median_age      0\n",
              "total_rooms             0\n",
              "total_bedrooms        159\n",
              "population              0\n",
              "households              0\n",
              "median_income           0\n",
              "median_house_value      0\n",
              "ocean_proximity         0\n",
              "dtype: int64"
            ]
          },
          "execution_count": 15,
          "metadata": {},
          "output_type": "execute_result"
        }
      ],
      "source": [
        "df.isnull().sum()"
      ]
    },
    {
      "cell_type": "code",
      "execution_count": null,
      "id": "adc506f7-6e3d-44d0-a7a1-a0732a8c8728",
      "metadata": {
        "id": "adc506f7-6e3d-44d0-a7a1-a0732a8c8728"
      },
      "outputs": [],
      "source": [
        "# 결측치 평균값으로 대체\n",
        "df['total_bedrooms'] = df['total_bedrooms'].fillna(df['total_bedrooms'].median())"
      ]
    },
    {
      "cell_type": "code",
      "execution_count": null,
      "id": "e270ebb1-ea6a-4a5f-b9b0-e415ecdc3c5b",
      "metadata": {
        "id": "e270ebb1-ea6a-4a5f-b9b0-e415ecdc3c5b",
        "outputId": "9ee886fe-06db-4e96-a47c-2feb47497388"
      },
      "outputs": [
        {
          "data": {
            "text/plain": [
              "longitude             0\n",
              "latitude              0\n",
              "housing_median_age    0\n",
              "total_rooms           0\n",
              "total_bedrooms        0\n",
              "population            0\n",
              "households            0\n",
              "median_income         0\n",
              "median_house_value    0\n",
              "ocean_proximity       0\n",
              "dtype: int64"
            ]
          },
          "execution_count": 17,
          "metadata": {},
          "output_type": "execute_result"
        }
      ],
      "source": [
        "df.isnull().sum()"
      ]
    },
    {
      "cell_type": "code",
      "execution_count": null,
      "id": "9632d61d-da23-40dd-b271-320999a65969",
      "metadata": {
        "id": "9632d61d-da23-40dd-b271-320999a65969",
        "outputId": "71d4fefb-7b07-4f48-e37c-7c40fd9ef617"
      },
      "outputs": [
        {
          "data": {
            "text/plain": [
              "433.9254297608805"
            ]
          },
          "execution_count": 18,
          "metadata": {},
          "output_type": "execute_result"
        }
      ],
      "source": [
        "df['total_bedrooms'].std()"
      ]
    },
    {
      "cell_type": "code",
      "execution_count": null,
      "id": "43205bab-ac28-429a-933c-09f0ec39917b",
      "metadata": {
        "id": "43205bab-ac28-429a-933c-09f0ec39917b",
        "outputId": "c4daa2d1-477f-456c-9283-98444f953ea8"
      },
      "outputs": [
        {
          "data": {
            "text/plain": [
              "1.9751472916456692"
            ]
          },
          "execution_count": 19,
          "metadata": {},
          "output_type": "execute_result"
        }
      ],
      "source": [
        "435.90057705252616 - 433.9254297608805"
      ]
    },
    {
      "cell_type": "code",
      "execution_count": null,
      "id": "3504f832-1b80-4ce1-8e47-be77dc05158f",
      "metadata": {
        "id": "3504f832-1b80-4ce1-8e47-be77dc05158f",
        "outputId": "402bef6b-a310-4569-cc29-4d5c6330f965"
      },
      "outputs": [
        {
          "data": {
            "text/plain": [
              "3.8200000000000003"
            ]
          },
          "execution_count": 20,
          "metadata": {},
          "output_type": "execute_result"
        }
      ],
      "source": [
        "# IQR 구하기\n",
        "Q1 = df['latitude'].quantile(.25)\n",
        "Q3 = df['latitude'].quantile(.75)\n",
        "\n",
        "IQR = Q3 - Q1\n",
        "IQR"
      ]
    },
    {
      "cell_type": "code",
      "execution_count": null,
      "id": "0125c51d-ad25-4b77-a600-59b5be4b75c8",
      "metadata": {
        "id": "0125c51d-ad25-4b77-a600-59b5be4b75c8"
      },
      "outputs": [],
      "source": [
        "# 평균 +- 1.5표준편차\n",
        "\n",
        "mean = df['latitude'].mean()\n",
        "std = df['latitude'].std()"
      ]
    },
    {
      "cell_type": "code",
      "execution_count": null,
      "id": "9e3c8357-c88f-4dfa-9cd4-df55a0799424",
      "metadata": {
        "id": "9e3c8357-c88f-4dfa-9cd4-df55a0799424",
        "outputId": "96b9c5db-c5b7-4859-bd44-8994f6f2a77c"
      },
      "outputs": [
        {
          "data": {
            "text/plain": [
              "35.25426114341085"
            ]
          },
          "execution_count": 22,
          "metadata": {},
          "output_type": "execute_result"
        }
      ],
      "source": [
        "mean"
      ]
    },
    {
      "cell_type": "code",
      "execution_count": null,
      "id": "9b0554f8-f58b-4b8b-8d1c-45296d09838f",
      "metadata": {
        "id": "9b0554f8-f58b-4b8b-8d1c-45296d09838f",
        "outputId": "2b6779dc-72db-474c-81da-9ac35d6d85f9"
      },
      "outputs": [
        {
          "data": {
            "text/plain": [
              "2.086645830860614"
            ]
          },
          "execution_count": 23,
          "metadata": {},
          "output_type": "execute_result"
        }
      ],
      "source": [
        "std"
      ]
    },
    {
      "cell_type": "code",
      "execution_count": null,
      "id": "4f9316e6-16ad-4cd4-b37f-71bdbe4381c8",
      "metadata": {
        "id": "4f9316e6-16ad-4cd4-b37f-71bdbe4381c8"
      },
      "outputs": [],
      "source": [
        "lower, upper = mean - (1.5 * std), mean + (1.5 * std)"
      ]
    },
    {
      "cell_type": "code",
      "execution_count": null,
      "id": "963a9421-0395-4cac-8d49-5854da8cb54c",
      "metadata": {
        "id": "963a9421-0395-4cac-8d49-5854da8cb54c",
        "outputId": "da18d627-a565-41bb-d0b2-b2b8f227ce14"
      },
      "outputs": [
        {
          "data": {
            "text/plain": [
              "(32.12429239711993, 38.38422988970177)"
            ]
          },
          "execution_count": 25,
          "metadata": {},
          "output_type": "execute_result"
        }
      ],
      "source": [
        "lower, upper"
      ]
    },
    {
      "cell_type": "code",
      "execution_count": null,
      "id": "8cce8b1e-19cc-48e7-a715-27ec3c4700d0",
      "metadata": {
        "id": "8cce8b1e-19cc-48e7-a715-27ec3c4700d0"
      },
      "outputs": [],
      "source": [
        "cond1 = df['latitude'] < lower"
      ]
    },
    {
      "cell_type": "code",
      "execution_count": null,
      "id": "8c556f78-8c9a-4dc3-ab3d-71eb22495dbe",
      "metadata": {
        "id": "8c556f78-8c9a-4dc3-ab3d-71eb22495dbe"
      },
      "outputs": [],
      "source": [
        "cond2 = df['latitude'] > upper"
      ]
    },
    {
      "cell_type": "code",
      "execution_count": null,
      "id": "f389260f-5d58-4f5a-8476-2046c6e9442c",
      "metadata": {
        "id": "f389260f-5d58-4f5a-8476-2046c6e9442c"
      },
      "outputs": [],
      "source": [
        "df_cond = df['latitude'][cond1 | cond2]"
      ]
    },
    {
      "cell_type": "code",
      "execution_count": null,
      "id": "0e08395d-e069-46c4-98a8-18c13a3d2ab0",
      "metadata": {
        "id": "0e08395d-e069-46c4-98a8-18c13a3d2ab0",
        "outputId": "45a471c5-26d9-44f6-e0d9-5a6ae8e90fd8"
      },
      "outputs": [
        {
          "data": {
            "text/plain": [
              "64346.46"
            ]
          },
          "execution_count": 40,
          "metadata": {},
          "output_type": "execute_result"
        }
      ],
      "source": [
        "df_cond.sum()"
      ]
    },
    {
      "cell_type": "markdown",
      "id": "caf65583-5b91-4367-be7b-abda9fe36696",
      "metadata": {
        "id": "caf65583-5b91-4367-be7b-abda9fe36696"
      },
      "source": [
        "# 백화점 데이터"
      ]
    },
    {
      "cell_type": "code",
      "execution_count": null,
      "id": "68cc6cd6-14aa-4937-8072-9e2634a87d67",
      "metadata": {
        "id": "68cc6cd6-14aa-4937-8072-9e2634a87d67"
      },
      "outputs": [],
      "source": [
        "df_X_train = pd.read_csv(\"/home/ljy1115/project/X_train_depstore.csv\", sep=',', encoding='cp949')"
      ]
    },
    {
      "cell_type": "code",
      "execution_count": null,
      "id": "417fb12b-431a-4828-8732-80616a42d1da",
      "metadata": {
        "id": "417fb12b-431a-4828-8732-80616a42d1da"
      },
      "outputs": [],
      "source": [
        "df_y_train = pd.read_csv(\"/home/ljy1115/project/y_train_depstore.csv\", sep=',', encoding='cp949')"
      ]
    },
    {
      "cell_type": "code",
      "execution_count": null,
      "id": "affac52e-5412-4402-b948-3c1f443adc92",
      "metadata": {
        "id": "affac52e-5412-4402-b948-3c1f443adc92"
      },
      "outputs": [],
      "source": [
        "df_X_test = pd.read_csv(\"/home/ljy1115/project/X_test_depstore.csv\", sep=',', encoding='cp949')"
      ]
    },
    {
      "cell_type": "code",
      "execution_count": null,
      "id": "d2c37a97-f9a8-4836-92c4-2dd7d8fe702d",
      "metadata": {
        "id": "d2c37a97-f9a8-4836-92c4-2dd7d8fe702d",
        "outputId": "b881569f-b7e1-4f9d-a233-ebe831b65248"
      },
      "outputs": [
        {
          "data": {
            "text/html": [
              "<div>\n",
              "<style scoped>\n",
              "    .dataframe tbody tr th:only-of-type {\n",
              "        vertical-align: middle;\n",
              "    }\n",
              "\n",
              "    .dataframe tbody tr th {\n",
              "        vertical-align: top;\n",
              "    }\n",
              "\n",
              "    .dataframe thead th {\n",
              "        text-align: right;\n",
              "    }\n",
              "</style>\n",
              "<table border=\"1\" class=\"dataframe\">\n",
              "  <thead>\n",
              "    <tr style=\"text-align: right;\">\n",
              "      <th></th>\n",
              "      <th>cust_id</th>\n",
              "      <th>총구매액</th>\n",
              "      <th>최대구매액</th>\n",
              "      <th>환불금액</th>\n",
              "      <th>주구매상품</th>\n",
              "      <th>주구매지점</th>\n",
              "      <th>내점일수</th>\n",
              "      <th>내점당구매건수</th>\n",
              "      <th>주말방문비율</th>\n",
              "      <th>구매주기</th>\n",
              "    </tr>\n",
              "  </thead>\n",
              "  <tbody>\n",
              "    <tr>\n",
              "      <th>0</th>\n",
              "      <td>0</td>\n",
              "      <td>68282840</td>\n",
              "      <td>11264000</td>\n",
              "      <td>6860000.00000</td>\n",
              "      <td>기타</td>\n",
              "      <td>강남점</td>\n",
              "      <td>19</td>\n",
              "      <td>3.89474</td>\n",
              "      <td>0.52703</td>\n",
              "      <td>17</td>\n",
              "    </tr>\n",
              "    <tr>\n",
              "      <th>1</th>\n",
              "      <td>1</td>\n",
              "      <td>2136000</td>\n",
              "      <td>2136000</td>\n",
              "      <td>300000.00000</td>\n",
              "      <td>스포츠</td>\n",
              "      <td>잠실점</td>\n",
              "      <td>2</td>\n",
              "      <td>1.50000</td>\n",
              "      <td>0.00000</td>\n",
              "      <td>1</td>\n",
              "    </tr>\n",
              "    <tr>\n",
              "      <th>2</th>\n",
              "      <td>2</td>\n",
              "      <td>3197000</td>\n",
              "      <td>1639000</td>\n",
              "      <td>NaN</td>\n",
              "      <td>남성 캐주얼</td>\n",
              "      <td>관악점</td>\n",
              "      <td>2</td>\n",
              "      <td>2.00000</td>\n",
              "      <td>0.00000</td>\n",
              "      <td>1</td>\n",
              "    </tr>\n",
              "    <tr>\n",
              "      <th>3</th>\n",
              "      <td>3</td>\n",
              "      <td>16077620</td>\n",
              "      <td>4935000</td>\n",
              "      <td>NaN</td>\n",
              "      <td>기타</td>\n",
              "      <td>광주점</td>\n",
              "      <td>18</td>\n",
              "      <td>2.44444</td>\n",
              "      <td>0.31818</td>\n",
              "      <td>16</td>\n",
              "    </tr>\n",
              "    <tr>\n",
              "      <th>4</th>\n",
              "      <td>4</td>\n",
              "      <td>29050000</td>\n",
              "      <td>24000000</td>\n",
              "      <td>NaN</td>\n",
              "      <td>보석</td>\n",
              "      <td>본  점</td>\n",
              "      <td>2</td>\n",
              "      <td>1.50000</td>\n",
              "      <td>0.00000</td>\n",
              "      <td>85</td>\n",
              "    </tr>\n",
              "  </tbody>\n",
              "</table>\n",
              "</div>"
            ],
            "text/plain": [
              "   cust_id      총구매액     최대구매액          환불금액   주구매상품 주구매지점  내점일수  내점당구매건수  \\\n",
              "0        0  68282840  11264000 6860000.00000      기타   강남점    19  3.89474   \n",
              "1        1   2136000   2136000  300000.00000     스포츠   잠실점     2  1.50000   \n",
              "2        2   3197000   1639000           NaN  남성 캐주얼   관악점     2  2.00000   \n",
              "3        3  16077620   4935000           NaN      기타   광주점    18  2.44444   \n",
              "4        4  29050000  24000000           NaN      보석  본  점     2  1.50000   \n",
              "\n",
              "   주말방문비율  구매주기  \n",
              "0 0.52703    17  \n",
              "1 0.00000     1  \n",
              "2 0.00000     1  \n",
              "3 0.31818    16  \n",
              "4 0.00000    85  "
            ]
          },
          "execution_count": 54,
          "metadata": {},
          "output_type": "execute_result"
        }
      ],
      "source": [
        "df_X_train.head()"
      ]
    },
    {
      "cell_type": "code",
      "execution_count": null,
      "id": "fe32b3a0-3021-40fa-8d06-618349445241",
      "metadata": {
        "id": "fe32b3a0-3021-40fa-8d06-618349445241",
        "outputId": "b8a9aedf-2af1-46e1-9ebe-6eba302b6916"
      },
      "outputs": [
        {
          "data": {
            "text/html": [
              "<div>\n",
              "<style scoped>\n",
              "    .dataframe tbody tr th:only-of-type {\n",
              "        vertical-align: middle;\n",
              "    }\n",
              "\n",
              "    .dataframe tbody tr th {\n",
              "        vertical-align: top;\n",
              "    }\n",
              "\n",
              "    .dataframe thead th {\n",
              "        text-align: right;\n",
              "    }\n",
              "</style>\n",
              "<table border=\"1\" class=\"dataframe\">\n",
              "  <thead>\n",
              "    <tr style=\"text-align: right;\">\n",
              "      <th></th>\n",
              "      <th>cust_id</th>\n",
              "      <th>gender</th>\n",
              "    </tr>\n",
              "  </thead>\n",
              "  <tbody>\n",
              "    <tr>\n",
              "      <th>0</th>\n",
              "      <td>0</td>\n",
              "      <td>0</td>\n",
              "    </tr>\n",
              "    <tr>\n",
              "      <th>1</th>\n",
              "      <td>1</td>\n",
              "      <td>0</td>\n",
              "    </tr>\n",
              "    <tr>\n",
              "      <th>2</th>\n",
              "      <td>2</td>\n",
              "      <td>1</td>\n",
              "    </tr>\n",
              "    <tr>\n",
              "      <th>3</th>\n",
              "      <td>3</td>\n",
              "      <td>1</td>\n",
              "    </tr>\n",
              "    <tr>\n",
              "      <th>4</th>\n",
              "      <td>4</td>\n",
              "      <td>0</td>\n",
              "    </tr>\n",
              "  </tbody>\n",
              "</table>\n",
              "</div>"
            ],
            "text/plain": [
              "   cust_id  gender\n",
              "0        0       0\n",
              "1        1       0\n",
              "2        2       1\n",
              "3        3       1\n",
              "4        4       0"
            ]
          },
          "execution_count": 55,
          "metadata": {},
          "output_type": "execute_result"
        }
      ],
      "source": [
        "df_y_train.head()"
      ]
    },
    {
      "cell_type": "code",
      "execution_count": null,
      "id": "cd3a4ad2-88b0-4a7a-91c4-e715e38ac37c",
      "metadata": {
        "id": "cd3a4ad2-88b0-4a7a-91c4-e715e38ac37c",
        "outputId": "e1a374f8-e5b6-4010-d3b1-0f70c6dfb8e8"
      },
      "outputs": [
        {
          "data": {
            "text/html": [
              "<div>\n",
              "<style scoped>\n",
              "    .dataframe tbody tr th:only-of-type {\n",
              "        vertical-align: middle;\n",
              "    }\n",
              "\n",
              "    .dataframe tbody tr th {\n",
              "        vertical-align: top;\n",
              "    }\n",
              "\n",
              "    .dataframe thead th {\n",
              "        text-align: right;\n",
              "    }\n",
              "</style>\n",
              "<table border=\"1\" class=\"dataframe\">\n",
              "  <thead>\n",
              "    <tr style=\"text-align: right;\">\n",
              "      <th></th>\n",
              "      <th>cust_id</th>\n",
              "      <th>총구매액</th>\n",
              "      <th>최대구매액</th>\n",
              "      <th>환불금액</th>\n",
              "      <th>주구매상품</th>\n",
              "      <th>주구매지점</th>\n",
              "      <th>내점일수</th>\n",
              "      <th>내점당구매건수</th>\n",
              "      <th>주말방문비율</th>\n",
              "      <th>구매주기</th>\n",
              "    </tr>\n",
              "  </thead>\n",
              "  <tbody>\n",
              "    <tr>\n",
              "      <th>0</th>\n",
              "      <td>3500</td>\n",
              "      <td>70900400</td>\n",
              "      <td>22000000</td>\n",
              "      <td>4050000.00000</td>\n",
              "      <td>골프</td>\n",
              "      <td>부산본점</td>\n",
              "      <td>13</td>\n",
              "      <td>1.46154</td>\n",
              "      <td>0.78947</td>\n",
              "      <td>26</td>\n",
              "    </tr>\n",
              "    <tr>\n",
              "      <th>1</th>\n",
              "      <td>3501</td>\n",
              "      <td>310533100</td>\n",
              "      <td>38558000</td>\n",
              "      <td>48034700.00000</td>\n",
              "      <td>농산물</td>\n",
              "      <td>잠실점</td>\n",
              "      <td>90</td>\n",
              "      <td>2.43333</td>\n",
              "      <td>0.36986</td>\n",
              "      <td>3</td>\n",
              "    </tr>\n",
              "    <tr>\n",
              "      <th>2</th>\n",
              "      <td>3502</td>\n",
              "      <td>305264140</td>\n",
              "      <td>14825000</td>\n",
              "      <td>30521000.00000</td>\n",
              "      <td>가공식품</td>\n",
              "      <td>본  점</td>\n",
              "      <td>101</td>\n",
              "      <td>14.62376</td>\n",
              "      <td>0.08328</td>\n",
              "      <td>3</td>\n",
              "    </tr>\n",
              "    <tr>\n",
              "      <th>3</th>\n",
              "      <td>3503</td>\n",
              "      <td>7594080</td>\n",
              "      <td>5225000</td>\n",
              "      <td>NaN</td>\n",
              "      <td>주방용품</td>\n",
              "      <td>부산본점</td>\n",
              "      <td>5</td>\n",
              "      <td>2.00000</td>\n",
              "      <td>0.00000</td>\n",
              "      <td>47</td>\n",
              "    </tr>\n",
              "    <tr>\n",
              "      <th>4</th>\n",
              "      <td>3504</td>\n",
              "      <td>1795790</td>\n",
              "      <td>1411200</td>\n",
              "      <td>NaN</td>\n",
              "      <td>수산품</td>\n",
              "      <td>청량리점</td>\n",
              "      <td>3</td>\n",
              "      <td>2.66667</td>\n",
              "      <td>0.12500</td>\n",
              "      <td>8</td>\n",
              "    </tr>\n",
              "  </tbody>\n",
              "</table>\n",
              "</div>"
            ],
            "text/plain": [
              "   cust_id       총구매액     최대구매액           환불금액 주구매상품 주구매지점  내점일수  내점당구매건수  \\\n",
              "0     3500   70900400  22000000  4050000.00000    골프  부산본점    13  1.46154   \n",
              "1     3501  310533100  38558000 48034700.00000   농산물   잠실점    90  2.43333   \n",
              "2     3502  305264140  14825000 30521000.00000  가공식품  본  점   101 14.62376   \n",
              "3     3503    7594080   5225000            NaN  주방용품  부산본점     5  2.00000   \n",
              "4     3504    1795790   1411200            NaN   수산품  청량리점     3  2.66667   \n",
              "\n",
              "   주말방문비율  구매주기  \n",
              "0 0.78947    26  \n",
              "1 0.36986     3  \n",
              "2 0.08328     3  \n",
              "3 0.00000    47  \n",
              "4 0.12500     8  "
            ]
          },
          "execution_count": 56,
          "metadata": {},
          "output_type": "execute_result"
        }
      ],
      "source": [
        "df_X_test.head()"
      ]
    },
    {
      "cell_type": "code",
      "execution_count": null,
      "id": "483e2258-3ee2-4c68-ad76-5a957e8dc749",
      "metadata": {
        "id": "483e2258-3ee2-4c68-ad76-5a957e8dc749",
        "outputId": "d9ef3984-4594-44b8-a4c0-32ccfe2d4e9b"
      },
      "outputs": [
        {
          "data": {
            "text/plain": [
              "(3500, 10)"
            ]
          },
          "execution_count": 57,
          "metadata": {},
          "output_type": "execute_result"
        }
      ],
      "source": [
        "df_X_train.shape"
      ]
    },
    {
      "cell_type": "code",
      "execution_count": null,
      "id": "2f2316c5-dfd4-4f7e-bceb-825e7d526107",
      "metadata": {
        "id": "2f2316c5-dfd4-4f7e-bceb-825e7d526107",
        "outputId": "b24d0b5b-eb4b-48b3-9a33-f62d3f61db99"
      },
      "outputs": [
        {
          "data": {
            "text/plain": [
              "(2482, 10)"
            ]
          },
          "execution_count": 58,
          "metadata": {},
          "output_type": "execute_result"
        }
      ],
      "source": [
        "df_X_test.shape"
      ]
    },
    {
      "cell_type": "code",
      "execution_count": null,
      "id": "db7bcb41-8a96-4363-8fa4-23e7b92d848e",
      "metadata": {
        "id": "db7bcb41-8a96-4363-8fa4-23e7b92d848e",
        "outputId": "938a69c4-d634-49d3-bf99-735a72f6c94b"
      },
      "outputs": [
        {
          "data": {
            "text/plain": [
              "(3500, 2)"
            ]
          },
          "execution_count": 60,
          "metadata": {},
          "output_type": "execute_result"
        }
      ],
      "source": [
        "df_y_train.shape"
      ]
    },
    {
      "cell_type": "code",
      "execution_count": null,
      "id": "3cb1a9e9-6946-40a4-b327-bc18ef631233",
      "metadata": {
        "id": "3cb1a9e9-6946-40a4-b327-bc18ef631233"
      },
      "outputs": [],
      "source": [
        "df_X = pd.concat([df_X_train, df_X_test], axis = 0)"
      ]
    },
    {
      "cell_type": "code",
      "execution_count": null,
      "id": "7285fce0-3041-49af-b225-1d01a9629b84",
      "metadata": {
        "id": "7285fce0-3041-49af-b225-1d01a9629b84",
        "outputId": "21628f5f-c322-4a32-a7b7-476877d09528"
      },
      "outputs": [
        {
          "data": {
            "text/plain": [
              "(5982, 10)"
            ]
          },
          "execution_count": 63,
          "metadata": {},
          "output_type": "execute_result"
        }
      ],
      "source": [
        "df_X.shape"
      ]
    },
    {
      "cell_type": "code",
      "execution_count": null,
      "id": "604da342-e5d6-4834-8b34-2052e4a1ccff",
      "metadata": {
        "id": "604da342-e5d6-4834-8b34-2052e4a1ccff",
        "outputId": "9634a3b6-71bd-4b2f-b06c-d34022fe2e56"
      },
      "outputs": [
        {
          "data": {
            "text/plain": [
              "Index(['cust_id', '총구매액', '최대구매액', '환불금액', '주구매상품', '주구매지점', '내점일수', '내점당구매건수',\n",
              "       '주말방문비율', '구매주기'],\n",
              "      dtype='object')"
            ]
          },
          "execution_count": 64,
          "metadata": {},
          "output_type": "execute_result"
        }
      ],
      "source": [
        "df_X.columns"
      ]
    },
    {
      "cell_type": "code",
      "execution_count": null,
      "id": "777efc8c-b855-4e88-880f-1f2c83d620b4",
      "metadata": {
        "id": "777efc8c-b855-4e88-880f-1f2c83d620b4"
      },
      "outputs": [],
      "source": [
        "num = df_X.select_dtypes(include='number')\n",
        "cat = df_X.select_dtypes(exclude='number')"
      ]
    },
    {
      "cell_type": "code",
      "execution_count": null,
      "id": "b19a6325-860b-4974-9c4f-2831c2eaba1b",
      "metadata": {
        "id": "b19a6325-860b-4974-9c4f-2831c2eaba1b",
        "outputId": "44e07b6e-5c47-45da-c40c-266a1a8a0e2d"
      },
      "outputs": [
        {
          "data": {
            "text/plain": [
              "Index(['cust_id', '총구매액', '최대구매액', '환불금액', '내점일수', '내점당구매건수', '주말방문비율',\n",
              "       '구매주기'],\n",
              "      dtype='object')"
            ]
          },
          "execution_count": 67,
          "metadata": {},
          "output_type": "execute_result"
        }
      ],
      "source": [
        "num.columns"
      ]
    },
    {
      "cell_type": "code",
      "execution_count": null,
      "id": "09856abe-0eb9-48de-9866-bddfdd8cb1e3",
      "metadata": {
        "id": "09856abe-0eb9-48de-9866-bddfdd8cb1e3",
        "outputId": "d1492428-9469-4b06-9396-d1dac2417994"
      },
      "outputs": [
        {
          "data": {
            "text/plain": [
              "Index(['주구매상품', '주구매지점'], dtype='object')"
            ]
          },
          "execution_count": 68,
          "metadata": {},
          "output_type": "execute_result"
        }
      ],
      "source": [
        "cat.columns"
      ]
    },
    {
      "cell_type": "code",
      "execution_count": null,
      "id": "63116ce8-af76-4b64-a0ae-63b24badf8e1",
      "metadata": {
        "id": "63116ce8-af76-4b64-a0ae-63b24badf8e1",
        "outputId": "1cc92bf6-4673-480f-f0fb-a8af5c340e77"
      },
      "outputs": [
        {
          "data": {
            "text/plain": [
              "cust_id       0\n",
              "총구매액          0\n",
              "최대구매액         0\n",
              "환불금액       3906\n",
              "주구매상품         0\n",
              "주구매지점         0\n",
              "내점일수          0\n",
              "내점당구매건수       0\n",
              "주말방문비율        0\n",
              "구매주기          0\n",
              "dtype: int64"
            ]
          },
          "execution_count": 69,
          "metadata": {},
          "output_type": "execute_result"
        }
      ],
      "source": [
        "df_X.isnull().sum()"
      ]
    },
    {
      "cell_type": "code",
      "execution_count": null,
      "id": "e877d7c4-ccf0-4f58-b353-a4ccfb90ebc6",
      "metadata": {
        "id": "e877d7c4-ccf0-4f58-b353-a4ccfb90ebc6"
      },
      "outputs": [],
      "source": [
        "cond1 = df_X['환불금액'].isnull() == True"
      ]
    },
    {
      "cell_type": "code",
      "execution_count": null,
      "id": "20f5d461-a39a-44d2-91de-750db2ffacc1",
      "metadata": {
        "id": "20f5d461-a39a-44d2-91de-750db2ffacc1",
        "outputId": "caf46578-f24d-4e75-f6a3-b2482cac86d6"
      },
      "outputs": [
        {
          "data": {
            "text/plain": [
              "2      NaN\n",
              "3      NaN\n",
              "4      NaN\n",
              "8      NaN\n",
              "9      NaN\n",
              "        ..\n",
              "2477   NaN\n",
              "2478   NaN\n",
              "2479   NaN\n",
              "2480   NaN\n",
              "2481   NaN\n",
              "Name: 환불금액, Length: 3906, dtype: float64"
            ]
          },
          "execution_count": 72,
          "metadata": {},
          "output_type": "execute_result"
        }
      ],
      "source": [
        "df_X['환불금액'][cond1]"
      ]
    },
    {
      "cell_type": "code",
      "execution_count": null,
      "id": "173b055a-8ff7-4c01-be03-08bd1c0cd9d9",
      "metadata": {
        "id": "173b055a-8ff7-4c01-be03-08bd1c0cd9d9"
      },
      "outputs": [],
      "source": [
        "df_X['환불금액'] = df_X['환불금액'].replace({np.nan: df_X['환불금액'].mean()})"
      ]
    },
    {
      "cell_type": "code",
      "execution_count": null,
      "id": "00d0def1-6ed9-41fa-bfa0-fe1153177acd",
      "metadata": {
        "id": "00d0def1-6ed9-41fa-bfa0-fe1153177acd",
        "outputId": "f0a6904b-38c3-467a-ba2d-42df58f61201"
      },
      "outputs": [
        {
          "data": {
            "text/plain": [
              "cust_id    0\n",
              "총구매액       0\n",
              "최대구매액      0\n",
              "환불금액       0\n",
              "주구매상품      0\n",
              "주구매지점      0\n",
              "내점일수       0\n",
              "내점당구매건수    0\n",
              "주말방문비율     0\n",
              "구매주기       0\n",
              "dtype: int64"
            ]
          },
          "execution_count": 75,
          "metadata": {},
          "output_type": "execute_result"
        }
      ],
      "source": [
        "df_X.isnull().sum()"
      ]
    },
    {
      "cell_type": "code",
      "execution_count": null,
      "id": "79961be6-1558-488a-92a8-52c88b47e561",
      "metadata": {
        "id": "79961be6-1558-488a-92a8-52c88b47e561",
        "outputId": "2bede0c9-83c9-4268-b172-52d119a6f50c"
      },
      "outputs": [
        {
          "data": {
            "image/png": "[encoded data removed]",
            "text/plain": [
              "<Figure size 720x432 with 1 Axes>"
            ]
          },
          "metadata": {},
          "output_type": "display_data"
        },
        {
          "data": {
            "image/png": "[encoded data removed]",
            "text/plain": [
              "<Figure size 720x432 with 1 Axes>"
            ]
          },
          "metadata": {},
          "output_type": "display_data"
        },
        {
          "data": {
            "image/png": "[encoded data removed]",
            "text/plain": [
              "<Figure size 720x432 with 1 Axes>"
            ]
          },
          "metadata": {},
          "output_type": "display_data"
        },
        {
          "data": {
            "image/png": "[encoded data removed]",
            "text/plain": [
              "<Figure size 720x432 with 1 Axes>"
            ]
          },
          "metadata": {},
          "output_type": "display_data"
        },
        {
          "data": {
            "image/png": "[encoded data removed]",
            "text/plain": [
              "<Figure size 720x432 with 1 Axes>"
            ]
          },
          "metadata": {},
          "output_type": "display_data"
        },
        {
          "data": {
            "image/png": "[encoded data removed]",
            "text/plain": [
              "<Figure size 720x432 with 1 Axes>"
            ]
          },
          "metadata": {},
          "output_type": "display_data"
        },
        {
          "data": {
            "image/png": "[encoded data removed]",
            "text/plain": [
              "<Figure size 720x432 with 1 Axes>"
            ]
          },
          "metadata": {},
          "output_type": "display_data"
        },
        {
          "data": {
            "image/png": "[encoded data removed]",
            "text/plain": [
              "<Figure size 720x432 with 1 Axes>"
            ]
          },
          "metadata": {},
          "output_type": "display_data"
        }
      ],
      "source": [
        "for i in num:\n",
        "    plt.figure(figsize=(10,6))\n",
        "    sns.boxplot(data=df_X, x=df_X[i])\n",
        "    plt.title(i)\n",
        "    plt.show"
      ]
    },
    {
      "cell_type": "code",
      "execution_count": null,
      "id": "c15433af-398b-454f-9e39-fc6b0f8cff0d",
      "metadata": {
        "id": "c15433af-398b-454f-9e39-fc6b0f8cff0d",
        "outputId": "ae16b969-8f21-42ff-e98a-109a69d766c4"
      },
      "outputs": [
        {
          "data": {
            "text/html": [
              "<div>\n",
              "<style scoped>\n",
              "    .dataframe tbody tr th:only-of-type {\n",
              "        vertical-align: middle;\n",
              "    }\n",
              "\n",
              "    .dataframe tbody tr th {\n",
              "        vertical-align: top;\n",
              "    }\n",
              "\n",
              "    .dataframe thead th {\n",
              "        text-align: right;\n",
              "    }\n",
              "</style>\n",
              "<table border=\"1\" class=\"dataframe\">\n",
              "  <thead>\n",
              "    <tr style=\"text-align: right;\">\n",
              "      <th></th>\n",
              "      <th>주구매상품</th>\n",
              "      <th>주구매지점</th>\n",
              "    </tr>\n",
              "  </thead>\n",
              "  <tbody>\n",
              "    <tr>\n",
              "      <th>0</th>\n",
              "      <td>기타</td>\n",
              "      <td>강남점</td>\n",
              "    </tr>\n",
              "    <tr>\n",
              "      <th>1</th>\n",
              "      <td>스포츠</td>\n",
              "      <td>잠실점</td>\n",
              "    </tr>\n",
              "    <tr>\n",
              "      <th>2</th>\n",
              "      <td>남성 캐주얼</td>\n",
              "      <td>관악점</td>\n",
              "    </tr>\n",
              "    <tr>\n",
              "      <th>3</th>\n",
              "      <td>기타</td>\n",
              "      <td>광주점</td>\n",
              "    </tr>\n",
              "    <tr>\n",
              "      <th>4</th>\n",
              "      <td>보석</td>\n",
              "      <td>본  점</td>\n",
              "    </tr>\n",
              "    <tr>\n",
              "      <th>...</th>\n",
              "      <td>...</td>\n",
              "      <td>...</td>\n",
              "    </tr>\n",
              "    <tr>\n",
              "      <th>2477</th>\n",
              "      <td>골프</td>\n",
              "      <td>부산본점</td>\n",
              "    </tr>\n",
              "    <tr>\n",
              "      <th>2478</th>\n",
              "      <td>섬유잡화</td>\n",
              "      <td>광주점</td>\n",
              "    </tr>\n",
              "    <tr>\n",
              "      <th>2479</th>\n",
              "      <td>남성 캐주얼</td>\n",
              "      <td>본  점</td>\n",
              "    </tr>\n",
              "    <tr>\n",
              "      <th>2480</th>\n",
              "      <td>육류</td>\n",
              "      <td>본  점</td>\n",
              "    </tr>\n",
              "    <tr>\n",
              "      <th>2481</th>\n",
              "      <td>가공식품</td>\n",
              "      <td>영등포점</td>\n",
              "    </tr>\n",
              "  </tbody>\n",
              "</table>\n",
              "<p>5982 rows × 2 columns</p>\n",
              "</div>"
            ],
            "text/plain": [
              "       주구매상품 주구매지점\n",
              "0         기타   강남점\n",
              "1        스포츠   잠실점\n",
              "2     남성 캐주얼   관악점\n",
              "3         기타   광주점\n",
              "4         보석  본  점\n",
              "...      ...   ...\n",
              "2477      골프  부산본점\n",
              "2478    섬유잡화   광주점\n",
              "2479  남성 캐주얼  본  점\n",
              "2480      육류  본  점\n",
              "2481    가공식품  영등포점\n",
              "\n",
              "[5982 rows x 2 columns]"
            ]
          },
          "execution_count": 78,
          "metadata": {},
          "output_type": "execute_result"
        }
      ],
      "source": [
        "cat"
      ]
    },
    {
      "cell_type": "code",
      "execution_count": null,
      "id": "63a513d4-8a3b-4a14-99be-218e8b14f682",
      "metadata": {
        "id": "63a513d4-8a3b-4a14-99be-218e8b14f682"
      },
      "outputs": [],
      "source": [
        "# drop_first = True\n",
        "categorical = cat.columns\n",
        "df_X = pd.get_dummies(df_X, columns = categorical, prefix = categorical, drop_first = True)"
      ]
    },
    {
      "cell_type": "code",
      "execution_count": null,
      "id": "9b8bf625-8af5-4b26-8e66-886ae478a13a",
      "metadata": {
        "id": "9b8bf625-8af5-4b26-8e66-886ae478a13a",
        "outputId": "20fd03a0-8605-4a5d-e621-83fa79bcb707"
      },
      "outputs": [
        {
          "data": {
            "text/html": [
              "<div>\n",
              "<style scoped>\n",
              "    .dataframe tbody tr th:only-of-type {\n",
              "        vertical-align: middle;\n",
              "    }\n",
              "\n",
              "    .dataframe tbody tr th {\n",
              "        vertical-align: top;\n",
              "    }\n",
              "\n",
              "    .dataframe thead th {\n",
              "        text-align: right;\n",
              "    }\n",
              "</style>\n",
              "<table border=\"1\" class=\"dataframe\">\n",
              "  <thead>\n",
              "    <tr style=\"text-align: right;\">\n",
              "      <th></th>\n",
              "      <th>cust_id</th>\n",
              "      <th>총구매액</th>\n",
              "      <th>최대구매액</th>\n",
              "      <th>환불금액</th>\n",
              "      <th>내점일수</th>\n",
              "      <th>내점당구매건수</th>\n",
              "      <th>주말방문비율</th>\n",
              "      <th>구매주기</th>\n",
              "      <th>주구매상품_가구</th>\n",
              "      <th>주구매상품_건강식품</th>\n",
              "      <th>주구매상품_골프</th>\n",
              "      <th>주구매상품_구두</th>\n",
              "      <th>주구매상품_기타</th>\n",
              "      <th>주구매상품_남성 캐주얼</th>\n",
              "      <th>주구매상품_남성 트랜디</th>\n",
              "      <th>주구매상품_남성정장</th>\n",
              "      <th>주구매상품_농산물</th>\n",
              "      <th>주구매상품_대형가전</th>\n",
              "      <th>주구매상품_디자이너</th>\n",
              "      <th>주구매상품_란제리/내의</th>\n",
              "      <th>주구매상품_명품</th>\n",
              "      <th>주구매상품_모피/피혁</th>\n",
              "      <th>주구매상품_보석</th>\n",
              "      <th>주구매상품_생활잡화</th>\n",
              "      <th>주구매상품_섬유잡화</th>\n",
              "      <th>주구매상품_셔츠</th>\n",
              "      <th>주구매상품_소형가전</th>\n",
              "      <th>주구매상품_수산품</th>\n",
              "      <th>주구매상품_스포츠</th>\n",
              "      <th>주구매상품_시티웨어</th>\n",
              "      <th>주구매상품_식기</th>\n",
              "      <th>주구매상품_아동</th>\n",
              "      <th>주구매상품_악기</th>\n",
              "      <th>주구매상품_액세서리</th>\n",
              "      <th>주구매상품_육류</th>\n",
              "      <th>주구매상품_일용잡화</th>\n",
              "      <th>주구매상품_젓갈/반찬</th>\n",
              "      <th>주구매상품_주류</th>\n",
              "      <th>주구매상품_주방가전</th>\n",
              "      <th>주구매상품_주방용품</th>\n",
              "      <th>주구매상품_차/커피</th>\n",
              "      <th>주구매상품_축산가공</th>\n",
              "      <th>주구매상품_침구/수예</th>\n",
              "      <th>주구매상품_캐주얼</th>\n",
              "      <th>주구매상품_커리어</th>\n",
              "      <th>주구매상품_통신/컴퓨터</th>\n",
              "      <th>주구매상품_트래디셔널</th>\n",
              "      <th>주구매상품_피혁잡화</th>\n",
              "      <th>주구매상품_화장품</th>\n",
              "      <th>주구매지점_관악점</th>\n",
              "      <th>주구매지점_광주점</th>\n",
              "      <th>주구매지점_노원점</th>\n",
              "      <th>주구매지점_대구점</th>\n",
              "      <th>주구매지점_대전점</th>\n",
              "      <th>주구매지점_동래점</th>\n",
              "      <th>주구매지점_미아점</th>\n",
              "      <th>주구매지점_본  점</th>\n",
              "      <th>주구매지점_부산본점</th>\n",
              "      <th>주구매지점_부평점</th>\n",
              "      <th>주구매지점_분당점</th>\n",
              "      <th>주구매지점_상인점</th>\n",
              "      <th>주구매지점_센텀시티점</th>\n",
              "      <th>주구매지점_안양점</th>\n",
              "      <th>주구매지점_영등포점</th>\n",
              "      <th>주구매지점_울산점</th>\n",
              "      <th>주구매지점_인천점</th>\n",
              "      <th>주구매지점_일산점</th>\n",
              "      <th>주구매지점_잠실점</th>\n",
              "      <th>주구매지점_전주점</th>\n",
              "      <th>주구매지점_창원점</th>\n",
              "      <th>주구매지점_청량리점</th>\n",
              "      <th>주구매지점_포항점</th>\n",
              "    </tr>\n",
              "  </thead>\n",
              "  <tbody>\n",
              "    <tr>\n",
              "      <th>0</th>\n",
              "      <td>0</td>\n",
              "      <td>68282840</td>\n",
              "      <td>11264000</td>\n",
              "      <td>6860000.00000</td>\n",
              "      <td>19</td>\n",
              "      <td>3.89474</td>\n",
              "      <td>0.52703</td>\n",
              "      <td>17</td>\n",
              "      <td>0</td>\n",
              "      <td>0</td>\n",
              "      <td>0</td>\n",
              "      <td>0</td>\n",
              "      <td>1</td>\n",
              "      <td>0</td>\n",
              "      <td>0</td>\n",
              "      <td>0</td>\n",
              "      <td>0</td>\n",
              "      <td>0</td>\n",
              "      <td>0</td>\n",
              "      <td>0</td>\n",
              "      <td>0</td>\n",
              "      <td>0</td>\n",
              "      <td>0</td>\n",
              "      <td>0</td>\n",
              "      <td>0</td>\n",
              "      <td>0</td>\n",
              "      <td>0</td>\n",
              "      <td>0</td>\n",
              "      <td>0</td>\n",
              "      <td>0</td>\n",
              "      <td>0</td>\n",
              "      <td>0</td>\n",
              "      <td>0</td>\n",
              "      <td>0</td>\n",
              "      <td>0</td>\n",
              "      <td>0</td>\n",
              "      <td>0</td>\n",
              "      <td>0</td>\n",
              "      <td>0</td>\n",
              "      <td>0</td>\n",
              "      <td>0</td>\n",
              "      <td>0</td>\n",
              "      <td>0</td>\n",
              "      <td>0</td>\n",
              "      <td>0</td>\n",
              "      <td>0</td>\n",
              "      <td>0</td>\n",
              "      <td>0</td>\n",
              "      <td>0</td>\n",
              "      <td>0</td>\n",
              "      <td>0</td>\n",
              "      <td>0</td>\n",
              "      <td>0</td>\n",
              "      <td>0</td>\n",
              "      <td>0</td>\n",
              "      <td>0</td>\n",
              "      <td>0</td>\n",
              "      <td>0</td>\n",
              "      <td>0</td>\n",
              "      <td>0</td>\n",
              "      <td>0</td>\n",
              "      <td>0</td>\n",
              "      <td>0</td>\n",
              "      <td>0</td>\n",
              "      <td>0</td>\n",
              "      <td>0</td>\n",
              "      <td>0</td>\n",
              "      <td>0</td>\n",
              "      <td>0</td>\n",
              "      <td>0</td>\n",
              "      <td>0</td>\n",
              "      <td>0</td>\n",
              "    </tr>\n",
              "    <tr>\n",
              "      <th>1</th>\n",
              "      <td>1</td>\n",
              "      <td>2136000</td>\n",
              "      <td>2136000</td>\n",
              "      <td>300000.00000</td>\n",
              "      <td>2</td>\n",
              "      <td>1.50000</td>\n",
              "      <td>0.00000</td>\n",
              "      <td>1</td>\n",
              "      <td>0</td>\n",
              "      <td>0</td>\n",
              "      <td>0</td>\n",
              "      <td>0</td>\n",
              "      <td>0</td>\n",
              "      <td>0</td>\n",
              "      <td>0</td>\n",
              "      <td>0</td>\n",
              "      <td>0</td>\n",
              "      <td>0</td>\n",
              "      <td>0</td>\n",
              "      <td>0</td>\n",
              "      <td>0</td>\n",
              "      <td>0</td>\n",
              "      <td>0</td>\n",
              "      <td>0</td>\n",
              "      <td>0</td>\n",
              "      <td>0</td>\n",
              "      <td>0</td>\n",
              "      <td>0</td>\n",
              "      <td>1</td>\n",
              "      <td>0</td>\n",
              "      <td>0</td>\n",
              "      <td>0</td>\n",
              "      <td>0</td>\n",
              "      <td>0</td>\n",
              "      <td>0</td>\n",
              "      <td>0</td>\n",
              "      <td>0</td>\n",
              "      <td>0</td>\n",
              "      <td>0</td>\n",
              "      <td>0</td>\n",
              "      <td>0</td>\n",
              "      <td>0</td>\n",
              "      <td>0</td>\n",
              "      <td>0</td>\n",
              "      <td>0</td>\n",
              "      <td>0</td>\n",
              "      <td>0</td>\n",
              "      <td>0</td>\n",
              "      <td>0</td>\n",
              "      <td>0</td>\n",
              "      <td>0</td>\n",
              "      <td>0</td>\n",
              "      <td>0</td>\n",
              "      <td>0</td>\n",
              "      <td>0</td>\n",
              "      <td>0</td>\n",
              "      <td>0</td>\n",
              "      <td>0</td>\n",
              "      <td>0</td>\n",
              "      <td>0</td>\n",
              "      <td>0</td>\n",
              "      <td>0</td>\n",
              "      <td>0</td>\n",
              "      <td>0</td>\n",
              "      <td>0</td>\n",
              "      <td>0</td>\n",
              "      <td>0</td>\n",
              "      <td>1</td>\n",
              "      <td>0</td>\n",
              "      <td>0</td>\n",
              "      <td>0</td>\n",
              "      <td>0</td>\n",
              "    </tr>\n",
              "    <tr>\n",
              "      <th>2</th>\n",
              "      <td>2</td>\n",
              "      <td>3197000</td>\n",
              "      <td>1639000</td>\n",
              "      <td>24694521.07418</td>\n",
              "      <td>2</td>\n",
              "      <td>2.00000</td>\n",
              "      <td>0.00000</td>\n",
              "      <td>1</td>\n",
              "      <td>0</td>\n",
              "      <td>0</td>\n",
              "      <td>0</td>\n",
              "      <td>0</td>\n",
              "      <td>0</td>\n",
              "      <td>1</td>\n",
              "      <td>0</td>\n",
              "      <td>0</td>\n",
              "      <td>0</td>\n",
              "      <td>0</td>\n",
              "      <td>0</td>\n",
              "      <td>0</td>\n",
              "      <td>0</td>\n",
              "      <td>0</td>\n",
              "      <td>0</td>\n",
              "      <td>0</td>\n",
              "      <td>0</td>\n",
              "      <td>0</td>\n",
              "      <td>0</td>\n",
              "      <td>0</td>\n",
              "      <td>0</td>\n",
              "      <td>0</td>\n",
              "      <td>0</td>\n",
              "      <td>0</td>\n",
              "      <td>0</td>\n",
              "      <td>0</td>\n",
              "      <td>0</td>\n",
              "      <td>0</td>\n",
              "      <td>0</td>\n",
              "      <td>0</td>\n",
              "      <td>0</td>\n",
              "      <td>0</td>\n",
              "      <td>0</td>\n",
              "      <td>0</td>\n",
              "      <td>0</td>\n",
              "      <td>0</td>\n",
              "      <td>0</td>\n",
              "      <td>0</td>\n",
              "      <td>0</td>\n",
              "      <td>0</td>\n",
              "      <td>0</td>\n",
              "      <td>1</td>\n",
              "      <td>0</td>\n",
              "      <td>0</td>\n",
              "      <td>0</td>\n",
              "      <td>0</td>\n",
              "      <td>0</td>\n",
              "      <td>0</td>\n",
              "      <td>0</td>\n",
              "      <td>0</td>\n",
              "      <td>0</td>\n",
              "      <td>0</td>\n",
              "      <td>0</td>\n",
              "      <td>0</td>\n",
              "      <td>0</td>\n",
              "      <td>0</td>\n",
              "      <td>0</td>\n",
              "      <td>0</td>\n",
              "      <td>0</td>\n",
              "      <td>0</td>\n",
              "      <td>0</td>\n",
              "      <td>0</td>\n",
              "      <td>0</td>\n",
              "      <td>0</td>\n",
              "    </tr>\n",
              "    <tr>\n",
              "      <th>3</th>\n",
              "      <td>3</td>\n",
              "      <td>16077620</td>\n",
              "      <td>4935000</td>\n",
              "      <td>24694521.07418</td>\n",
              "      <td>18</td>\n",
              "      <td>2.44444</td>\n",
              "      <td>0.31818</td>\n",
              "      <td>16</td>\n",
              "      <td>0</td>\n",
              "      <td>0</td>\n",
              "      <td>0</td>\n",
              "      <td>0</td>\n",
              "      <td>1</td>\n",
              "      <td>0</td>\n",
              "      <td>0</td>\n",
              "      <td>0</td>\n",
              "      <td>0</td>\n",
              "      <td>0</td>\n",
              "      <td>0</td>\n",
              "      <td>0</td>\n",
              "      <td>0</td>\n",
              "      <td>0</td>\n",
              "      <td>0</td>\n",
              "      <td>0</td>\n",
              "      <td>0</td>\n",
              "      <td>0</td>\n",
              "      <td>0</td>\n",
              "      <td>0</td>\n",
              "      <td>0</td>\n",
              "      <td>0</td>\n",
              "      <td>0</td>\n",
              "      <td>0</td>\n",
              "      <td>0</td>\n",
              "      <td>0</td>\n",
              "      <td>0</td>\n",
              "      <td>0</td>\n",
              "      <td>0</td>\n",
              "      <td>0</td>\n",
              "      <td>0</td>\n",
              "      <td>0</td>\n",
              "      <td>0</td>\n",
              "      <td>0</td>\n",
              "      <td>0</td>\n",
              "      <td>0</td>\n",
              "      <td>0</td>\n",
              "      <td>0</td>\n",
              "      <td>0</td>\n",
              "      <td>0</td>\n",
              "      <td>0</td>\n",
              "      <td>0</td>\n",
              "      <td>1</td>\n",
              "      <td>0</td>\n",
              "      <td>0</td>\n",
              "      <td>0</td>\n",
              "      <td>0</td>\n",
              "      <td>0</td>\n",
              "      <td>0</td>\n",
              "      <td>0</td>\n",
              "      <td>0</td>\n",
              "      <td>0</td>\n",
              "      <td>0</td>\n",
              "      <td>0</td>\n",
              "      <td>0</td>\n",
              "      <td>0</td>\n",
              "      <td>0</td>\n",
              "      <td>0</td>\n",
              "      <td>0</td>\n",
              "      <td>0</td>\n",
              "      <td>0</td>\n",
              "      <td>0</td>\n",
              "      <td>0</td>\n",
              "      <td>0</td>\n",
              "    </tr>\n",
              "    <tr>\n",
              "      <th>4</th>\n",
              "      <td>4</td>\n",
              "      <td>29050000</td>\n",
              "      <td>24000000</td>\n",
              "      <td>24694521.07418</td>\n",
              "      <td>2</td>\n",
              "      <td>1.50000</td>\n",
              "      <td>0.00000</td>\n",
              "      <td>85</td>\n",
              "      <td>0</td>\n",
              "      <td>0</td>\n",
              "      <td>0</td>\n",
              "      <td>0</td>\n",
              "      <td>0</td>\n",
              "      <td>0</td>\n",
              "      <td>0</td>\n",
              "      <td>0</td>\n",
              "      <td>0</td>\n",
              "      <td>0</td>\n",
              "      <td>0</td>\n",
              "      <td>0</td>\n",
              "      <td>0</td>\n",
              "      <td>0</td>\n",
              "      <td>1</td>\n",
              "      <td>0</td>\n",
              "      <td>0</td>\n",
              "      <td>0</td>\n",
              "      <td>0</td>\n",
              "      <td>0</td>\n",
              "      <td>0</td>\n",
              "      <td>0</td>\n",
              "      <td>0</td>\n",
              "      <td>0</td>\n",
              "      <td>0</td>\n",
              "      <td>0</td>\n",
              "      <td>0</td>\n",
              "      <td>0</td>\n",
              "      <td>0</td>\n",
              "      <td>0</td>\n",
              "      <td>0</td>\n",
              "      <td>0</td>\n",
              "      <td>0</td>\n",
              "      <td>0</td>\n",
              "      <td>0</td>\n",
              "      <td>0</td>\n",
              "      <td>0</td>\n",
              "      <td>0</td>\n",
              "      <td>0</td>\n",
              "      <td>0</td>\n",
              "      <td>0</td>\n",
              "      <td>0</td>\n",
              "      <td>0</td>\n",
              "      <td>0</td>\n",
              "      <td>0</td>\n",
              "      <td>0</td>\n",
              "      <td>0</td>\n",
              "      <td>0</td>\n",
              "      <td>1</td>\n",
              "      <td>0</td>\n",
              "      <td>0</td>\n",
              "      <td>0</td>\n",
              "      <td>0</td>\n",
              "      <td>0</td>\n",
              "      <td>0</td>\n",
              "      <td>0</td>\n",
              "      <td>0</td>\n",
              "      <td>0</td>\n",
              "      <td>0</td>\n",
              "      <td>0</td>\n",
              "      <td>0</td>\n",
              "      <td>0</td>\n",
              "      <td>0</td>\n",
              "      <td>0</td>\n",
              "    </tr>\n",
              "  </tbody>\n",
              "</table>\n",
              "</div>"
            ],
            "text/plain": [
              "   cust_id      총구매액     최대구매액           환불금액  내점일수  내점당구매건수  주말방문비율  구매주기  \\\n",
              "0        0  68282840  11264000  6860000.00000    19  3.89474 0.52703    17   \n",
              "1        1   2136000   2136000   300000.00000     2  1.50000 0.00000     1   \n",
              "2        2   3197000   1639000 24694521.07418     2  2.00000 0.00000     1   \n",
              "3        3  16077620   4935000 24694521.07418    18  2.44444 0.31818    16   \n",
              "4        4  29050000  24000000 24694521.07418     2  1.50000 0.00000    85   \n",
              "\n",
              "   주구매상품_가구  주구매상품_건강식품  주구매상품_골프  주구매상품_구두  주구매상품_기타  주구매상품_남성 캐주얼  \\\n",
              "0         0           0         0         0         1             0   \n",
              "1         0           0         0         0         0             0   \n",
              "2         0           0         0         0         0             1   \n",
              "3         0           0         0         0         1             0   \n",
              "4         0           0         0         0         0             0   \n",
              "\n",
              "   주구매상품_남성 트랜디  주구매상품_남성정장  주구매상품_농산물  주구매상품_대형가전  주구매상품_디자이너  주구매상품_란제리/내의  \\\n",
              "0             0           0          0           0           0             0   \n",
              "1             0           0          0           0           0             0   \n",
              "2             0           0          0           0           0             0   \n",
              "3             0           0          0           0           0             0   \n",
              "4             0           0          0           0           0             0   \n",
              "\n",
              "   주구매상품_명품  주구매상품_모피/피혁  주구매상품_보석  주구매상품_생활잡화  주구매상품_섬유잡화  주구매상품_셔츠  \\\n",
              "0         0            0         0           0           0         0   \n",
              "1         0            0         0           0           0         0   \n",
              "2         0            0         0           0           0         0   \n",
              "3         0            0         0           0           0         0   \n",
              "4         0            0         1           0           0         0   \n",
              "\n",
              "   주구매상품_소형가전  주구매상품_수산품  주구매상품_스포츠  주구매상품_시티웨어  주구매상품_식기  주구매상품_아동  주구매상품_악기  \\\n",
              "0           0          0          0           0         0         0         0   \n",
              "1           0          0          1           0         0         0         0   \n",
              "2           0          0          0           0         0         0         0   \n",
              "3           0          0          0           0         0         0         0   \n",
              "4           0          0          0           0         0         0         0   \n",
              "\n",
              "   주구매상품_액세서리  주구매상품_육류  주구매상품_일용잡화  주구매상품_젓갈/반찬  주구매상품_주류  주구매상품_주방가전  \\\n",
              "0           0         0           0            0         0           0   \n",
              "1           0         0           0            0         0           0   \n",
              "2           0         0           0            0         0           0   \n",
              "3           0         0           0            0         0           0   \n",
              "4           0         0           0            0         0           0   \n",
              "\n",
              "   주구매상품_주방용품  주구매상품_차/커피  주구매상품_축산가공  주구매상품_침구/수예  주구매상품_캐주얼  주구매상품_커리어  \\\n",
              "0           0           0           0            0          0          0   \n",
              "1           0           0           0            0          0          0   \n",
              "2           0           0           0            0          0          0   \n",
              "3           0           0           0            0          0          0   \n",
              "4           0           0           0            0          0          0   \n",
              "\n",
              "   주구매상품_통신/컴퓨터  주구매상품_트래디셔널  주구매상품_피혁잡화  주구매상품_화장품  주구매지점_관악점  주구매지점_광주점  \\\n",
              "0             0            0           0          0          0          0   \n",
              "1             0            0           0          0          0          0   \n",
              "2             0            0           0          0          1          0   \n",
              "3             0            0           0          0          0          1   \n",
              "4             0            0           0          0          0          0   \n",
              "\n",
              "   주구매지점_노원점  주구매지점_대구점  주구매지점_대전점  주구매지점_동래점  주구매지점_미아점  주구매지점_본  점  \\\n",
              "0          0          0          0          0          0           0   \n",
              "1          0          0          0          0          0           0   \n",
              "2          0          0          0          0          0           0   \n",
              "3          0          0          0          0          0           0   \n",
              "4          0          0          0          0          0           1   \n",
              "\n",
              "   주구매지점_부산본점  주구매지점_부평점  주구매지점_분당점  주구매지점_상인점  주구매지점_센텀시티점  주구매지점_안양점  \\\n",
              "0           0          0          0          0            0          0   \n",
              "1           0          0          0          0            0          0   \n",
              "2           0          0          0          0            0          0   \n",
              "3           0          0          0          0            0          0   \n",
              "4           0          0          0          0            0          0   \n",
              "\n",
              "   주구매지점_영등포점  주구매지점_울산점  주구매지점_인천점  주구매지점_일산점  주구매지점_잠실점  주구매지점_전주점  \\\n",
              "0           0          0          0          0          0          0   \n",
              "1           0          0          0          0          1          0   \n",
              "2           0          0          0          0          0          0   \n",
              "3           0          0          0          0          0          0   \n",
              "4           0          0          0          0          0          0   \n",
              "\n",
              "   주구매지점_창원점  주구매지점_청량리점  주구매지점_포항점  \n",
              "0          0           0          0  \n",
              "1          0           0          0  \n",
              "2          0           0          0  \n",
              "3          0           0          0  \n",
              "4          0           0          0  "
            ]
          },
          "execution_count": 80,
          "metadata": {},
          "output_type": "execute_result"
        }
      ],
      "source": [
        "df_X.head()"
      ]
    },
    {
      "cell_type": "code",
      "execution_count": null,
      "id": "c37b7090-e32e-43e2-80ed-f3b8b73c2bd4",
      "metadata": {
        "id": "c37b7090-e32e-43e2-80ed-f3b8b73c2bd4",
        "outputId": "aa291e24-2407-489c-d50b-85248317551d"
      },
      "outputs": [
        {
          "data": {
            "text/plain": [
              "0    2184\n",
              "1    1316\n",
              "Name: gender, dtype: int64"
            ]
          },
          "execution_count": 84,
          "metadata": {},
          "output_type": "execute_result"
        }
      ],
      "source": [
        "df_y_train['gender'].value_counts()"
      ]
    },
    {
      "cell_type": "code",
      "execution_count": null,
      "id": "689ce95f-ab1d-4750-9284-494717d26fbc",
      "metadata": {
        "id": "689ce95f-ab1d-4750-9284-494717d26fbc",
        "outputId": "86f1b1eb-bfe6-4130-82c6-959a8b29c223"
      },
      "outputs": [
        {
          "data": {
            "text/plain": [
              "(3500, 2)"
            ]
          },
          "execution_count": 85,
          "metadata": {},
          "output_type": "execute_result"
        }
      ],
      "source": [
        "df_y_train.shape"
      ]
    },
    {
      "cell_type": "code",
      "execution_count": null,
      "id": "e0e75802-2f61-486d-96de-0bc3e0b5091b",
      "metadata": {
        "id": "e0e75802-2f61-486d-96de-0bc3e0b5091b"
      },
      "outputs": [],
      "source": [
        "df_X_train2 = df_X.iloc[0:3500,:]"
      ]
    },
    {
      "cell_type": "code",
      "execution_count": null,
      "id": "f1c754e5-edb1-4449-996e-a0e1be8b6a0f",
      "metadata": {
        "id": "f1c754e5-edb1-4449-996e-a0e1be8b6a0f",
        "outputId": "9b4dcbac-48e1-4227-d011-8204c7135ba2"
      },
      "outputs": [
        {
          "data": {
            "text/plain": [
              "(3500, 72)"
            ]
          },
          "execution_count": 87,
          "metadata": {},
          "output_type": "execute_result"
        }
      ],
      "source": [
        "df_X_train2.shape"
      ]
    },
    {
      "cell_type": "code",
      "execution_count": null,
      "id": "6a5021e9-18f6-436b-96d1-775f3203db53",
      "metadata": {
        "id": "6a5021e9-18f6-436b-96d1-775f3203db53"
      },
      "outputs": [],
      "source": [
        "df_tot = pd.concat([df_X_train2, df_y_train], axis=1)"
      ]
    },
    {
      "cell_type": "code",
      "execution_count": null,
      "id": "ae2dbe78-f1e8-4206-bb58-9fd44911f5ac",
      "metadata": {
        "id": "ae2dbe78-f1e8-4206-bb58-9fd44911f5ac",
        "outputId": "4d800177-e2da-49da-a16f-3722566aaece"
      },
      "outputs": [
        {
          "data": {
            "text/plain": [
              "(3500, 74)"
            ]
          },
          "execution_count": 89,
          "metadata": {},
          "output_type": "execute_result"
        }
      ],
      "source": [
        "df_tot.shape"
      ]
    },
    {
      "cell_type": "code",
      "execution_count": null,
      "id": "c29f0117-19d7-4a23-804c-6f8a079d81bc",
      "metadata": {
        "id": "c29f0117-19d7-4a23-804c-6f8a079d81bc"
      },
      "outputs": [],
      "source": [
        "df_tot = df_tot.loc[:, ~df_tot.T.duplicated()]"
      ]
    },
    {
      "cell_type": "code",
      "execution_count": null,
      "id": "624e0376-bd51-4344-963b-610aa110adaf",
      "metadata": {
        "id": "624e0376-bd51-4344-963b-610aa110adaf",
        "outputId": "641231df-f292-4a12-cead-b505e5480e75"
      },
      "outputs": [
        {
          "data": {
            "text/plain": [
              "(3500, 73)"
            ]
          },
          "execution_count": 100,
          "metadata": {},
          "output_type": "execute_result"
        }
      ],
      "source": [
        "df_tot.shape"
      ]
    },
    {
      "cell_type": "code",
      "execution_count": null,
      "id": "cdf0ae6c-4f78-4a8f-955d-a9b76d407ae6",
      "metadata": {
        "id": "cdf0ae6c-4f78-4a8f-955d-a9b76d407ae6",
        "outputId": "0b06b534-1f9e-43f9-bfeb-d0837a5394e8"
      },
      "outputs": [
        {
          "name": "stdout",
          "output_type": "stream",
          "text": [
            "(2800, 72) (700, 72) (2800,) (700,)\n"
          ]
        }
      ],
      "source": [
        "feature_columns = list(df_tot.columns.difference(['gender']))\n",
        "X = df_tot[feature_columns]    # 변인변수들의 데이터 Set\n",
        "y = df_tot['gender']    # 종속변수 데이터를\n",
        "\n",
        "df_X_train, df_X_test, df_y_train, df_y_test = train_test_split(X, y, test_size = 0.2, random_state = 55)    # Test Set을 0.01의 비율로 생성\n",
        "\n",
        "print(df_X_train.shape, df_X_test.shape, df_y_train.shape, df_y_test.shape)"
      ]
    },
    {
      "cell_type": "code",
      "execution_count": null,
      "id": "0bdefefa-79f4-4c96-a909-fb6d5916cfa1",
      "metadata": {
        "id": "0bdefefa-79f4-4c96-a909-fb6d5916cfa1"
      },
      "outputs": [],
      "source": [
        "# 연속형 변수 리스트(standard scaling 적용) 및 범주형 변수 리스트(minmax scaling 적용)\n",
        "\n",
        "# standard_list = ['TOTAL_USED_DAYS',\n",
        "#  'ANALOG_SCRB',\n",
        "#  'DIGITAL_SCRB',\n",
        "#  'TOTAL_INTERNET_SCRB',\n",
        "#  'GIGA_INTERNET_SCRB',\n",
        "#  'CH_HH_AVG_MONTH1',\n",
        "#  'KIDS_USE_PV_MONTH1',\n",
        "#  'KIDS_VOD_CNT_MONTH1']\n",
        "\n",
        "## '해지여부' 컬럼 지워야 함\n",
        "minmax_list = df_X_train.columns"
      ]
    },
    {
      "cell_type": "code",
      "execution_count": null,
      "id": "cb92e70c-49df-4bc3-8276-33c25023dac6",
      "metadata": {
        "id": "cb92e70c-49df-4bc3-8276-33c25023dac6"
      },
      "outputs": [],
      "source": [
        "# 스케일링 적용 변수별 데이터 추출\n",
        "\n",
        "# train_X1 = train_X[standard_list]\n",
        "# test_X1 = test_X[standard_list]\n",
        "train_X2 = df_X_train[minmax_list]\n",
        "test_X2 = df_X_test[minmax_list]"
      ]
    },
    {
      "cell_type": "code",
      "execution_count": null,
      "id": "481095c5-7d46-4f05-bf82-bc5c5921343a",
      "metadata": {
        "id": "481095c5-7d46-4f05-bf82-bc5c5921343a"
      },
      "outputs": [],
      "source": [
        "# 데이터 스케일링 진행\n",
        "\n",
        "# scaler1 = StandardScaler()\n",
        "# train_X1 = scaler1.fit_transform(train_X1)\n",
        "# test_X1 = scaler1.transform(test_X1)\n",
        "\n",
        "scaler2 = MinMaxScaler()\n",
        "train_X2 = scaler2.fit_transform(train_X2)\n",
        "test_X2 = scaler2.fit_transform(test_X2)"
      ]
    },
    {
      "cell_type": "code",
      "execution_count": null,
      "id": "498c2401-2652-4ea1-b06d-b50027e2fc1e",
      "metadata": {
        "id": "498c2401-2652-4ea1-b06d-b50027e2fc1e"
      },
      "outputs": [],
      "source": [
        "# 스케일링 값으로 대체\n",
        "\n",
        "# train_X[standard_list] = train_X1\n",
        "# test_X[standard_list] = test_X1\n",
        "df_X_train[minmax_list] = train_X2\n",
        "df_X_test[minmax_list] = test_X2"
      ]
    },
    {
      "cell_type": "code",
      "execution_count": null,
      "id": "dd1f3e44-8000-404a-a4a1-c149323788ab",
      "metadata": {
        "id": "dd1f3e44-8000-404a-a4a1-c149323788ab"
      },
      "outputs": [],
      "source": [
        "# 오버샘플링 진행\n",
        "oversample = RandomOverSampler(sampling_strategy='minority') # sampling_strategy=0.4 -> 소수집단데이터수/다수집단데이터수 = 0.4\n",
        "df_X_train, df_y_train = oversample.fit_resample(df_X_train, df_y_train)"
      ]
    },
    {
      "cell_type": "code",
      "execution_count": null,
      "id": "d449cdf0-ba69-4f10-ab20-ce907bda717b",
      "metadata": {
        "id": "d449cdf0-ba69-4f10-ab20-ce907bda717b"
      },
      "outputs": [],
      "source": [
        "# 모델 정확도 확인 함수 정의\n",
        "\n",
        "def print_score(true, pred, train = True):\n",
        "    if train:\n",
        "        clf_report = pd.DataFrame(classification_report(true, pred, output_dict = True))\n",
        "        print(\"Train Result:\\n================================================\")\n",
        "        print(f\"Accuracy Score: {accuracy_score(true, pred) * 100:.2f}%\")\n",
        "        print(\"_______________________________________________\")\n",
        "        print(f\"CLASSIFICATION REPORT:\\n{clf_report}\")\n",
        "        print(\"_______________________________________________\")\n",
        "        print(f\"Confusion Matrix: \\n {confusion_matrix(true, pred)}\\n\")\n",
        "        \n",
        "    elif train==False:\n",
        "        clf_report = pd.DataFrame(classification_report(true, pred, output_dict = True))\n",
        "        print(\"Test Result:\\n================================================\")        \n",
        "        print(f\"Accuracy Score: {accuracy_score(true, pred) * 100:.2f}%\")\n",
        "        print(\"_______________________________________________\")\n",
        "        print(f\"CLASSIFICATION REPORT:\\n{clf_report}\")\n",
        "        print(\"_______________________________________________\")\n",
        "        print(f\"Confusion Matrix: \\n {confusion_matrix(true, pred)}\\n\")"
      ]
    },
    {
      "cell_type": "code",
      "execution_count": null,
      "id": "41363966-b976-4baf-9e6a-da18e0b2aef8",
      "metadata": {
        "id": "41363966-b976-4baf-9e6a-da18e0b2aef8",
        "outputId": "8b6b3fb9-e2d2-4c02-cfb8-80dc810ac873"
      },
      "outputs": [
        {
          "data": {
            "text/html": [
              "<style>#sk-container-id-2 {color: black;background-color: white;}#sk-container-id-2 pre{padding: 0;}#sk-container-id-2 div.sk-toggleable {background-color: white;}#sk-container-id-2 label.sk-toggleable__label {cursor: pointer;display: block;width: 100%;margin-bottom: 0;padding: 0.3em;box-sizing: border-box;text-align: center;}#sk-container-id-2 label.sk-toggleable__label-arrow:before {content: \"▸\";float: left;margin-right: 0.25em;color: #696969;}#sk-container-id-2 label.sk-toggleable__label-arrow:hover:before {color: black;}#sk-container-id-2 div.sk-estimator:hover label.sk-toggleable__label-arrow:before {color: black;}#sk-container-id-2 div.sk-toggleable__content {max-height: 0;max-width: 0;overflow: hidden;text-align: left;background-color: #f0f8ff;}#sk-container-id-2 div.sk-toggleable__content pre {margin: 0.2em;color: black;border-radius: 0.25em;background-color: #f0f8ff;}#sk-container-id-2 input.sk-toggleable__control:checked~div.sk-toggleable__content {max-height: 200px;max-width: 100%;overflow: auto;}#sk-container-id-2 input.sk-toggleable__control:checked~label.sk-toggleable__label-arrow:before {content: \"▾\";}#sk-container-id-2 div.sk-estimator input.sk-toggleable__control:checked~label.sk-toggleable__label {background-color: #d4ebff;}#sk-container-id-2 div.sk-label input.sk-toggleable__control:checked~label.sk-toggleable__label {background-color: #d4ebff;}#sk-container-id-2 input.sk-hidden--visually {border: 0;clip: rect(1px 1px 1px 1px);clip: rect(1px, 1px, 1px, 1px);height: 1px;margin: -1px;overflow: hidden;padding: 0;position: absolute;width: 1px;}#sk-container-id-2 div.sk-estimator {font-family: monospace;background-color: #f0f8ff;border: 1px dotted black;border-radius: 0.25em;box-sizing: border-box;margin-bottom: 0.5em;}#sk-container-id-2 div.sk-estimator:hover {background-color: #d4ebff;}#sk-container-id-2 div.sk-parallel-item::after {content: \"\";width: 100%;border-bottom: 1px solid gray;flex-grow: 1;}#sk-container-id-2 div.sk-label:hover label.sk-toggleable__label {background-color: #d4ebff;}#sk-container-id-2 div.sk-serial::before {content: \"\";position: absolute;border-left: 1px solid gray;box-sizing: border-box;top: 0;bottom: 0;left: 50%;z-index: 0;}#sk-container-id-2 div.sk-serial {display: flex;flex-direction: column;align-items: center;background-color: white;padding-right: 0.2em;padding-left: 0.2em;position: relative;}#sk-container-id-2 div.sk-item {position: relative;z-index: 1;}#sk-container-id-2 div.sk-parallel {display: flex;align-items: stretch;justify-content: center;background-color: white;position: relative;}#sk-container-id-2 div.sk-item::before, #sk-container-id-2 div.sk-parallel-item::before {content: \"\";position: absolute;border-left: 1px solid gray;box-sizing: border-box;top: 0;bottom: 0;left: 50%;z-index: -1;}#sk-container-id-2 div.sk-parallel-item {display: flex;flex-direction: column;z-index: 1;position: relative;background-color: white;}#sk-container-id-2 div.sk-parallel-item:first-child::after {align-self: flex-end;width: 50%;}#sk-container-id-2 div.sk-parallel-item:last-child::after {align-self: flex-start;width: 50%;}#sk-container-id-2 div.sk-parallel-item:only-child::after {width: 0;}#sk-container-id-2 div.sk-dashed-wrapped {border: 1px dashed gray;margin: 0 0.4em 0.5em 0.4em;box-sizing: border-box;padding-bottom: 0.4em;background-color: white;}#sk-container-id-2 div.sk-label label {font-family: monospace;font-weight: bold;display: inline-block;line-height: 1.2em;}#sk-container-id-2 div.sk-label-container {text-align: center;}#sk-container-id-2 div.sk-container {/* jupyter's `normalize.less` sets `[hidden] { display: none; }` but bootstrap.min.css set `[hidden] { display: none !important; }` so we also need the `!important` here to be able to override the default hidden behavior on the sphinx rendered scikit-learn.org. See: https://github.com/scikit-learn/scikit-learn/issues/21755 */display: inline-block !important;position: relative;}#sk-container-id-2 div.sk-text-repr-fallback {display: none;}</style><div id=\"sk-container-id-2\" class=\"sk-top-container\"><div class=\"sk-text-repr-fallback\"><pre>LogisticRegression()</pre><b>In a Jupyter environment, please rerun this cell to show the HTML representation or trust the notebook. <br />On GitHub, the HTML representation is unable to render, please try loading this page with nbviewer.org.</b></div><div class=\"sk-container\" hidden><div class=\"sk-item\"><div class=\"sk-estimator sk-toggleable\"><input class=\"sk-toggleable__control sk-hidden--visually\" id=\"sk-estimator-id-2\" type=\"checkbox\" checked><label for=\"sk-estimator-id-2\" class=\"sk-toggleable__label sk-toggleable__label-arrow\">LogisticRegression</label><div class=\"sk-toggleable__content\"><pre>LogisticRegression()</pre></div></div></div></div></div>"
            ],
            "text/plain": [
              "LogisticRegression()"
            ]
          },
          "execution_count": 113,
          "metadata": {},
          "output_type": "execute_result"
        }
      ],
      "source": [
        "# 로지스틱 회귀분석 모델 생성\n",
        "lr_clf = LogisticRegression() \n",
        "\n",
        "# 모델 학습 진행\n",
        "lr_clf.fit(df_X_train, df_y_train)"
      ]
    },
    {
      "cell_type": "code",
      "execution_count": null,
      "id": "306d12ae-af28-4bc2-9858-4d46a4835ee3",
      "metadata": {
        "id": "306d12ae-af28-4bc2-9858-4d46a4835ee3",
        "outputId": "a5ce850a-f580-480f-9c8f-610be50ea8d8"
      },
      "outputs": [
        {
          "name": "stdout",
          "output_type": "stream",
          "text": [
            "Train Result:\n",
            "================================================\n",
            "Accuracy Score: 64.74%\n",
            "_______________________________________________\n",
            "CLASSIFICATION REPORT:\n",
            "                   0          1  accuracy  macro avg  weighted avg\n",
            "precision    0.65043    0.64457   0.64744    0.64750       0.64750\n",
            "recall       0.63750    0.65739   0.64744    0.64744       0.64744\n",
            "f1-score     0.64390    0.65091   0.64744    0.64741       0.64741\n",
            "support   1760.00000 1760.00000   0.64744 3520.00000    3520.00000\n",
            "_______________________________________________\n",
            "Confusion Matrix: \n",
            " [[1122  638]\n",
            " [ 603 1157]]\n",
            "\n",
            "Test Result:\n",
            "================================================\n",
            "Accuracy Score: 61.29%\n",
            "_______________________________________________\n",
            "CLASSIFICATION REPORT:\n",
            "                  0         1  accuracy  macro avg  weighted avg\n",
            "precision   0.72434   0.50696   0.61286    0.61565       0.63863\n",
            "recall      0.58255   0.65942   0.61286    0.62098       0.61286\n",
            "f1-score    0.64575   0.57323   0.61286    0.60949       0.61716\n",
            "support   424.00000 276.00000   0.61286  700.00000     700.00000\n",
            "_______________________________________________\n",
            "Confusion Matrix: \n",
            " [[247 177]\n",
            " [ 94 182]]\n",
            "\n"
          ]
        }
      ],
      "source": [
        "# 모델 정확도 확인\n",
        "train_y_pred = lr_clf.predict(df_X_train)\n",
        "test_y_pred = lr_clf.predict(df_X_test)\n",
        "\n",
        "print_score(df_y_train, train_y_pred, train = True)\n",
        "print_score(df_y_test, test_y_pred, train = False)"
      ]
    },
    {
      "cell_type": "code",
      "execution_count": null,
      "id": "668f1816-4d72-4e22-b0a3-cd53f208ab0d",
      "metadata": {
        "id": "668f1816-4d72-4e22-b0a3-cd53f208ab0d"
      },
      "outputs": [],
      "source": [
        "# [27] X_submission 으로 cust_id와 예측한 남자일 확률을 파일로 저장하기\n",
        "submission = pd.DataFrame()\n",
        "submission['cust_id'] = pd.RangeIndex(3500, 3500+len(df_X_test))\n",
        "submission['gender'] = lr_clf.predict_proba(df_X_test)[:, 1]\n",
        "submission.to_csv('/home/ljy1115/df_submission.csv', index=False)"
      ]
    },
    {
      "cell_type": "code",
      "execution_count": null,
      "id": "e9d6d68d-048a-44b7-9b39-709f793d94d5",
      "metadata": {
        "id": "e9d6d68d-048a-44b7-9b39-709f793d94d5",
        "outputId": "53a56c47-ee22-47fa-ddc6-f88256edca78"
      },
      "outputs": [
        {
          "data": {
            "text/html": [
              "<div>\n",
              "<style scoped>\n",
              "    .dataframe tbody tr th:only-of-type {\n",
              "        vertical-align: middle;\n",
              "    }\n",
              "\n",
              "    .dataframe tbody tr th {\n",
              "        vertical-align: top;\n",
              "    }\n",
              "\n",
              "    .dataframe thead th {\n",
              "        text-align: right;\n",
              "    }\n",
              "</style>\n",
              "<table border=\"1\" class=\"dataframe\">\n",
              "  <thead>\n",
              "    <tr style=\"text-align: right;\">\n",
              "      <th></th>\n",
              "      <th>cust_id</th>\n",
              "      <th>gender</th>\n",
              "    </tr>\n",
              "  </thead>\n",
              "  <tbody>\n",
              "    <tr>\n",
              "      <th>0</th>\n",
              "      <td>3500</td>\n",
              "      <td>0.34697</td>\n",
              "    </tr>\n",
              "    <tr>\n",
              "      <th>1</th>\n",
              "      <td>3501</td>\n",
              "      <td>0.39051</td>\n",
              "    </tr>\n",
              "    <tr>\n",
              "      <th>2</th>\n",
              "      <td>3502</td>\n",
              "      <td>0.32615</td>\n",
              "    </tr>\n",
              "    <tr>\n",
              "      <th>3</th>\n",
              "      <td>3503</td>\n",
              "      <td>0.24113</td>\n",
              "    </tr>\n",
              "    <tr>\n",
              "      <th>4</th>\n",
              "      <td>3504</td>\n",
              "      <td>0.83464</td>\n",
              "    </tr>\n",
              "  </tbody>\n",
              "</table>\n",
              "</div>"
            ],
            "text/plain": [
              "   cust_id  gender\n",
              "0     3500 0.34697\n",
              "1     3501 0.39051\n",
              "2     3502 0.32615\n",
              "3     3503 0.24113\n",
              "4     3504 0.83464"
            ]
          },
          "execution_count": 116,
          "metadata": {},
          "output_type": "execute_result"
        }
      ],
      "source": [
        "submission.head()"
      ]
    },
    {
      "cell_type": "code",
      "execution_count": null,
      "id": "6a4fd01c-a9fd-4ec4-943f-18fe04be11d0",
      "metadata": {
        "id": "6a4fd01c-a9fd-4ec4-943f-18fe04be11d0",
        "outputId": "bbc83947-3b8a-4fbc-a138-328a1df92e5d"
      },
      "outputs": [
        {
          "data": {
            "image/png": "[encoded data removed]",
            "text/plain": [
              "<Figure size 432x288 with 1 Axes>"
            ]
          },
          "metadata": {},
          "output_type": "display_data"
        }
      ],
      "source": [
        "importance = lr_clf.coef_[0]\n",
        "#importance is a list so you can plot it.\n",
        "feat_importances = pd.Series(importance)\n",
        "feat_importances.nlargest(20).plot(kind='barh',title = 'Feature Importance');"
      ]
    },
    {
      "cell_type": "code",
      "execution_count": null,
      "id": "1497243a-5267-41e6-b3f2-5549c1ef70de",
      "metadata": {
        "id": "1497243a-5267-41e6-b3f2-5549c1ef70de",
        "outputId": "b494bdd2-f8e3-4c69-87e2-0c2ab2c385d4"
      },
      "outputs": [
        {
          "data": {
            "text/plain": [
              "array([[-0.18201582, -0.06024321, -0.69327773, -2.06293467,  0.23088095,\n",
              "         0.18406954,  0.23571248,  0.10993481, -0.29282793,  1.22871668,\n",
              "         0.45847837,  1.27191397, -0.59866201, -0.2384727 , -1.36596225,\n",
              "        -0.6871036 ,  0.06478027, -0.5007089 ,  0.05157261,  0.45862319,\n",
              "        -0.00680696,  0.34307226, -0.19576127, -0.42681588,  0.34307088,\n",
              "        -1.2182397 ,  0.45999883,  0.02959373,  0.68905875, -0.59458374,\n",
              "        -0.26965348, -0.77646013,  0.10675522,  0.86015281,  0.95906926,\n",
              "        -0.50911059, -0.11129966, -0.08235195, -1.27833371, -0.24337479,\n",
              "        -0.39105603,  0.61686104,  0.19550709, -0.17726648, -0.78757777,\n",
              "         0.33576646,  0.45046157,  0.09274513,  1.09491598,  0.48370006,\n",
              "         0.06856194,  0.4965126 ,  0.30641264, -0.07399606, -0.09553832,\n",
              "         0.27527027, -0.12831136,  0.5060833 ,  0.50104303,  0.41975218,\n",
              "         0.34311992,  1.11154836,  0.07608623,  0.08558544,  1.494633  ,\n",
              "        -0.39470692,  0.31348541,  0.75076558,  0.42862352, -1.45736614,\n",
              "        -0.93544688,  0.89167611]])"
            ]
          },
          "execution_count": 124,
          "metadata": {},
          "output_type": "execute_result"
        }
      ],
      "source": [
        "lr_clf.coef_"
      ]
    },
    {
      "cell_type": "code",
      "execution_count": null,
      "id": "d42ca84c-8c37-4856-8a25-4c7cd3648639",
      "metadata": {
        "id": "d42ca84c-8c37-4856-8a25-4c7cd3648639",
        "outputId": "28cc1c50-bdc0-49b6-83f3-f9aab52c3a56"
      },
      "outputs": [
        {
          "data": {
            "text/plain": [
              "array([0.26701526])"
            ]
          },
          "execution_count": 127,
          "metadata": {},
          "output_type": "execute_result"
        }
      ],
      "source": [
        "lr_clf.intercept_"
      ]
    },
    {
      "cell_type": "code",
      "execution_count": null,
      "id": "965c25d8-30f5-4fd4-bc30-997173536c09",
      "metadata": {
        "id": "965c25d8-30f5-4fd4-bc30-997173536c09"
      },
      "outputs": [],
      "source": [
        "test_y_prob = lr_clf.predict_proba(df_X_test)\n",
        "threshold_list = [0.05, 0.1, 0.15, 0.2, 0.25, 0.3, 0.35, 0.4, 0.45, 0.5, 0.55, 0.6, 0.65, 0.7, 0.75, 0.8, 0.85, 0.9, 0.95, 0.99]\n",
        "df_thres = pd.DataFrame(index = threshold_list, columns = ['accuracy', 'recall'])\n",
        "\n",
        "for thres in threshold_list :\n",
        "  test_y_pred_prob = np.zeros(len(test_y_prob))\n",
        "\n",
        "  for i in range(len(test_y_prob)) :\n",
        "    if test_y_prob[i][1] > thres :\n",
        "      test_y_pred_prob[i] = 1\n",
        "  \n",
        "  tn = confusion_matrix(df_y_test, test_y_pred_prob)[0][0]\n",
        "  fp = confusion_matrix(df_y_test, test_y_pred_prob)[0][1]\n",
        "  fn = confusion_matrix(df_y_test, test_y_pred_prob)[1][0]\n",
        "  tp = confusion_matrix(df_y_test, test_y_pred_prob)[1][1]\n",
        "\n",
        "  accuracy = (tp + tn) / (tp + fn + fp + tn)\n",
        "  recall = tp / (tp + fn)\n",
        "\n",
        "  df_thres.loc[thres, 'accuracy'] = accuracy\n",
        "  df_thres.loc[thres, 'recall'] = recall"
      ]
    },
    {
      "cell_type": "code",
      "execution_count": null,
      "id": "abc68b8e-afa1-4c31-98d5-7e9440210737",
      "metadata": {
        "id": "abc68b8e-afa1-4c31-98d5-7e9440210737",
        "outputId": "41397030-4bda-4f31-e102-8dc76a121df3"
      },
      "outputs": [
        {
          "data": {
            "image/png": "[encoded data removed]",
            "text/plain": [
              "<Figure size 864x432 with 1 Axes>"
            ]
          },
          "metadata": {},
          "output_type": "display_data"
        }
      ],
      "source": [
        "# 시각화\n",
        "fig, ax1 = plt.subplots(figsize = (12, 6))\n",
        "\n",
        "plt.plot(df_thres.index, df_thres['accuracy'], color = 'red')\n",
        "plt.plot(df_thres.index, df_thres['recall'], color = 'blue')\n",
        "\n",
        "plt.xlabel('threshold')\n",
        "plt.ylabel('score')\n",
        "plt.grid(True)\n",
        "plt.show()"
      ]
    },
    {
      "cell_type": "markdown",
      "id": "63556550-55f4-4495-a514-7fef8c5393b4",
      "metadata": {
        "id": "63556550-55f4-4495-a514-7fef8c5393b4"
      },
      "source": [
        "### LR 모델링 및 스코어링"
      ]
    },
    {
      "cell_type": "code",
      "execution_count": null,
      "id": "17680087-58ba-43c2-9d0e-64f0e60a9d8a",
      "metadata": {
        "id": "17680087-58ba-43c2-9d0e-64f0e60a9d8a"
      },
      "outputs": [],
      "source": [
        "# 모델\n",
        "from sklearn.linear_model import LogisticRegression\n",
        "lr_clf1 = LogisticRegression()\n",
        "lr_clf1.fit(df_X_train, df_y_train)\n",
        "coef = lr_clf1.coef_.reshape(-1)\n",
        "lr_pred = lr_clf1.predict(df_X_test)\n",
        "lr_pred_proba = lr_clf1.predict_proba(df_X_test)[:,1]"
      ]
    },
    {
      "cell_type": "code",
      "execution_count": null,
      "id": "fba4028e-78e9-4ebd-ae3c-2b99f40f49cb",
      "metadata": {
        "id": "fba4028e-78e9-4ebd-ae3c-2b99f40f49cb",
        "outputId": "67276c60-f2ce-4282-f3fc-944249ba1387"
      },
      "outputs": [
        {
          "name": "stdout",
          "output_type": "stream",
          "text": [
            "              precision    recall  f1-score   support\n",
            "\n",
            "           0       0.72      0.58      0.65       424\n",
            "           1       0.51      0.66      0.57       276\n",
            "\n",
            "    accuracy                           0.61       700\n",
            "   macro avg       0.62      0.62      0.61       700\n",
            "weighted avg       0.64      0.61      0.62       700\n",
            "\n"
          ]
        }
      ],
      "source": [
        "from sklearn.metrics import *\n",
        "print(classification_report(df_y_test, lr_pred))"
      ]
    },
    {
      "cell_type": "code",
      "execution_count": null,
      "id": "7b7cbffd-cd7e-48a8-9cdc-0b1baa74ffa3",
      "metadata": {
        "id": "7b7cbffd-cd7e-48a8-9cdc-0b1baa74ffa3",
        "outputId": "265db2db-0898-4ba0-fbc9-050b751d40c5"
      },
      "outputs": [
        {
          "data": {
            "text/plain": [
              "array([0.34697269, 0.39051196, 0.32614652, 0.24113479, 0.83464481,\n",
              "       0.59097991, 0.36786159, 0.33599531, 0.26637776, 0.57040814,\n",
              "       0.41989145, 0.67802539, 0.69072783, 0.1981049 , 0.65655528,\n",
              "       0.48096389, 0.24541117, 0.40148025, 0.29281399, 0.63639515,\n",
              "       0.39497339, 0.44152067, 0.48829905, 0.14469972, 0.55330794,\n",
              "       0.6478308 , 0.32412957, 0.48323466, 0.65918744, 0.26709356,\n",
              "       0.21935785, 0.39412187, 0.44327212, 0.58661023, 0.59308606,\n",
              "       0.2460254 , 0.57063398, 0.7141831 , 0.21711147, 0.70197005,\n",
              "       0.63702269, 0.46992726, 0.63244109, 0.59296845, 0.53640809,\n",
              "       0.50908755, 0.70555473, 0.417912  , 0.31660595, 0.60369917,\n",
              "       0.45533878, 0.23574788, 0.34272196, 0.69008964, 0.62521384,\n",
              "       0.27349016, 0.63138948, 0.35791056, 0.49872984, 0.63327977,\n",
              "       0.61195939, 0.41424146, 0.28833232, 0.35379957, 0.53502414,\n",
              "       0.33833909, 0.52245318, 0.47791058, 0.35280189, 0.68577799,\n",
              "       0.60929148, 0.28087046, 0.60686241, 0.54515351, 0.57429692,\n",
              "       0.40459871, 0.40040418, 0.73130442, 0.45530108, 0.21712735,\n",
              "       0.21762433, 0.65785147, 0.41439532, 0.30558805, 0.24342253,\n",
              "       0.56132423, 0.37952888, 0.44704997, 0.56289219, 0.61559658,\n",
              "       0.45233729, 0.50158965, 0.39316327, 0.69825234, 0.61842897,\n",
              "       0.51325412, 0.53781168, 0.33893296, 0.55135869, 0.51899073,\n",
              "       0.57847742, 0.64616838, 0.71666038, 0.30724027, 0.72672716,\n",
              "       0.51497393, 0.51216501, 0.33905935, 0.45198265, 0.60861387,\n",
              "       0.57485916, 0.65928625, 0.45621015, 0.56775573, 0.31460628,\n",
              "       0.24372081, 0.29802803, 0.34297341, 0.35713679, 0.54510022,\n",
              "       0.79633368, 0.83051422, 0.64182828, 0.5626505 , 0.57229599,\n",
              "       0.45844742, 0.40936431, 0.68885631, 0.70629917, 0.63573582,\n",
              "       0.69089051, 0.64803305, 0.53038677, 0.58911902, 0.59010796,\n",
              "       0.41381961, 0.54686514, 0.50307525, 0.26697059, 0.59886208,\n",
              "       0.3602249 , 0.58414849, 0.33138782, 0.65802516, 0.73685671,\n",
              "       0.76218093, 0.27052242, 0.45572356, 0.44577819, 0.43481425,\n",
              "       0.42144067, 0.51554151, 0.62882997, 0.56622972, 0.45963866,\n",
              "       0.45570645, 0.70013554, 0.56818454, 0.69847197, 0.45656809,\n",
              "       0.3497817 , 0.41552229, 0.54417166, 0.41770956, 0.38797961,\n",
              "       0.58338723, 0.79108259, 0.37122687, 0.47037075, 0.54927539,\n",
              "       0.19569789, 0.58114223, 0.72828483, 0.29893308, 0.55280087,\n",
              "       0.2396397 , 0.37546761, 0.26123015, 0.25074982, 0.68501332,\n",
              "       0.50296445, 0.61179688, 0.71859026, 0.60975249, 0.57882496,\n",
              "       0.8725046 , 0.42965432, 0.32166018, 0.46455526, 0.4642048 ,\n",
              "       0.35625309, 0.39821724, 0.34598663, 0.5830118 , 0.54964647,\n",
              "       0.2743199 , 0.44120372, 0.58377353, 0.23977178, 0.55563852,\n",
              "       0.48094139, 0.59874623, 0.58853134, 0.45454732, 0.27165581,\n",
              "       0.17257484, 0.50088198, 0.42605271, 0.26069192, 0.46541771,\n",
              "       0.45820847, 0.16579072, 0.30193791, 0.30617891, 0.58574219,\n",
              "       0.51447936, 0.24538961, 0.67743307, 0.68768422, 0.5415412 ,\n",
              "       0.58001659, 0.60275377, 0.2889878 , 0.49878029, 0.41666601,\n",
              "       0.47440245, 0.60463843, 0.81221926, 0.83531831, 0.19793417,\n",
              "       0.3567769 , 0.57065131, 0.58125914, 0.33363645, 0.64209072,\n",
              "       0.41960733, 0.43332072, 0.1537114 , 0.59228015, 0.73203535,\n",
              "       0.69338307, 0.57215243, 0.4810764 , 0.89927518, 0.70830397,\n",
              "       0.33374631, 0.16360853, 0.45434441, 0.69906464, 0.63841475,\n",
              "       0.44497099, 0.55391408, 0.40312817, 0.62431324, 0.58529738,\n",
              "       0.5255534 , 0.57409771, 0.44361355, 0.2419413 , 0.12697627,\n",
              "       0.6016224 , 0.47990041, 0.60654198, 0.45687439, 0.42000596,\n",
              "       0.54443324, 0.57900041, 0.21803693, 0.55859413, 0.40235362,\n",
              "       0.19650542, 0.48064021, 0.51677139, 0.53857026, 0.29991618,\n",
              "       0.61033954, 0.44311383, 0.54140119, 0.57603912, 0.58859945,\n",
              "       0.71299349, 0.59889143, 0.78489197, 0.40178724, 0.57693963,\n",
              "       0.35207194, 0.47885372, 0.55167698, 0.54069512, 0.41761387,\n",
              "       0.51943767, 0.53328042, 0.52091076, 0.36909568, 0.25278851,\n",
              "       0.54015706, 0.73025022, 0.50087442, 0.29704723, 0.52773943,\n",
              "       0.7163904 , 0.47639087, 0.33484192, 0.55213832, 0.26178484,\n",
              "       0.37446668, 0.57476265, 0.17184497, 0.32750448, 0.43167088,\n",
              "       0.42391632, 0.31094668, 0.32823334, 0.65781721, 0.61871349,\n",
              "       0.34613322, 0.41682012, 0.5498241 , 0.5527344 , 0.57131776,\n",
              "       0.4451453 , 0.40617378, 0.59531451, 0.32734485, 0.37779167,\n",
              "       0.05003118, 0.63135981, 0.55881006, 0.75669422, 0.68305933,\n",
              "       0.575791  , 0.38151855, 0.38981595, 0.33565283, 0.64405692,\n",
              "       0.67376401, 0.3677131 , 0.80160715, 0.47494528, 0.47083346,\n",
              "       0.42305267, 0.57419766, 0.30766398, 0.63838412, 0.43663672,\n",
              "       0.49941524, 0.61768986, 0.34259843, 0.2678703 , 0.79264833,\n",
              "       0.45170568, 0.76102266, 0.38367268, 0.25703934, 0.44803928,\n",
              "       0.55560776, 0.50050712, 0.5743895 , 0.5462911 , 0.46565033,\n",
              "       0.60366926, 0.55218043, 0.48672027, 0.30830596, 0.23013821,\n",
              "       0.61085822, 0.64530871, 0.49667862, 0.62640173, 0.50032367,\n",
              "       0.48095552, 0.25532978, 0.34112522, 0.51407883, 0.22098298,\n",
              "       0.60196298, 0.66678482, 0.24161059, 0.25603098, 0.3954485 ,\n",
              "       0.86808906, 0.29948941, 0.50039581, 0.47843839, 0.28674491,\n",
              "       0.38766027, 0.84261951, 0.62180166, 0.63256991, 0.4275682 ,\n",
              "       0.38205847, 0.5156549 , 0.36765987, 0.41380959, 0.66707444,\n",
              "       0.81496231, 0.70037793, 0.53502722, 0.48136943, 0.59652418,\n",
              "       0.52557525, 0.46202452, 0.3147045 , 0.52960565, 0.53041798,\n",
              "       0.58038362, 0.63425165, 0.48999878, 0.04981356, 0.67219489,\n",
              "       0.63062823, 0.61232734, 0.6834148 , 0.52082731, 0.84842998,\n",
              "       0.41985938, 0.29008922, 0.52300718, 0.5972522 , 0.5397286 ,\n",
              "       0.21679376, 0.44199881, 0.41843344, 0.56542526, 0.54062488,\n",
              "       0.19402442, 0.67209596, 0.56282177, 0.5387186 , 0.55465108,\n",
              "       0.59092604, 0.52773376, 0.55438347, 0.40657233, 0.37618381,\n",
              "       0.40586085, 0.39106811, 0.37499626, 0.23826259, 0.5181063 ,\n",
              "       0.35643302, 0.3331307 , 0.64016239, 0.55883008, 0.65321297,\n",
              "       0.52945007, 0.64547149, 0.69467904, 0.40639666, 0.36324597,\n",
              "       0.27337053, 0.29776652, 0.47666059, 0.39924656, 0.29422641,\n",
              "       0.40434168, 0.42774772, 0.53202987, 0.1109222 , 0.27375949,\n",
              "       0.40865132, 0.21199721, 0.56249559, 0.76873013, 0.59180602,\n",
              "       0.29835036, 0.50622722, 0.41885443, 0.63493343, 0.53883362,\n",
              "       0.48951041, 0.55123462, 0.36834926, 0.53507931, 0.33650267,\n",
              "       0.37902443, 0.46255398, 0.18467664, 0.68279034, 0.30421232,\n",
              "       0.32659673, 0.51378742, 0.52796407, 0.62229205, 0.64670889,\n",
              "       0.60893819, 0.63760447, 0.44731215, 0.59745779, 0.36733487,\n",
              "       0.574405  , 0.49557712, 0.21632032, 0.58269318, 0.19097468,\n",
              "       0.60088883, 0.51087384, 0.3729117 , 0.63971395, 0.62932651,\n",
              "       0.52724773, 0.42878886, 0.2897876 , 0.56105427, 0.49215438,\n",
              "       0.49506518, 0.34180014, 0.21213224, 0.37294574, 0.62327477,\n",
              "       0.78377639, 0.37292583, 0.53265882, 0.7878439 , 0.63877652,\n",
              "       0.63380069, 0.38199738, 0.65242512, 0.32846281, 0.61753256,\n",
              "       0.62108676, 0.32506915, 0.33329683, 0.47619528, 0.85380611,\n",
              "       0.51320032, 0.28792755, 0.50005163, 0.44549156, 0.28977896,\n",
              "       0.6522932 , 0.42185805, 0.54294042, 0.23512472, 0.55183648,\n",
              "       0.66652649, 0.19624067, 0.42545826, 0.54307489, 0.58043552,\n",
              "       0.36177106, 0.59527653, 0.65222946, 0.62341714, 0.43431653,\n",
              "       0.46746688, 0.41532608, 0.27784317, 0.63787347, 0.52947865,\n",
              "       0.29117781, 0.66250148, 0.44707275, 0.56910034, 0.13215647,\n",
              "       0.45804796, 0.56616341, 0.21892097, 0.56605917, 0.56594223,\n",
              "       0.50643211, 0.3402441 , 0.80299271, 0.43299218, 0.19909525,\n",
              "       0.56020655, 0.28123018, 0.36216498, 0.52177412, 0.53438921,\n",
              "       0.50542897, 0.4795752 , 0.58251739, 0.74579553, 0.3733371 ,\n",
              "       0.39891684, 0.29497762, 0.28510691, 0.4372886 , 0.51680994,\n",
              "       0.5522092 , 0.43394968, 0.58291283, 0.32176115, 0.50164575,\n",
              "       0.56588799, 0.37313538, 0.43974764, 0.41972756, 0.63960804,\n",
              "       0.55881981, 0.73062257, 0.52506628, 0.59011394, 0.35177878,\n",
              "       0.51993724, 0.41123799, 0.60481265, 0.56889615, 0.5472021 ,\n",
              "       0.31230716, 0.59090275, 0.54513671, 0.51794709, 0.52649606,\n",
              "       0.43304282, 0.37551066, 0.39253295, 0.82089553, 0.32291732,\n",
              "       0.50561144, 0.61875622, 0.32414439, 0.61618231, 0.52025785,\n",
              "       0.49500126, 0.34890823, 0.36143154, 0.6087027 , 0.80961061,\n",
              "       0.63494051, 0.36457803, 0.90565549, 0.52504975, 0.40493011,\n",
              "       0.43154328, 0.48655341, 0.53586887, 0.10086252, 0.55831153,\n",
              "       0.83873318, 0.2853152 , 0.11205713, 0.28973273, 0.54883767,\n",
              "       0.32487308, 0.58743142, 0.78919914, 0.53111942, 0.28686928,\n",
              "       0.61282364, 0.67689231, 0.82641787, 0.31051522, 0.3641665 ,\n",
              "       0.6603999 , 0.43627789, 0.58717544, 0.65312289, 0.57140151,\n",
              "       0.70387953, 0.33184755, 0.3350534 , 0.55723105, 0.62097001,\n",
              "       0.15565745, 0.43493627, 0.50790411, 0.95397034, 0.38775309,\n",
              "       0.60936008, 0.18746553, 0.21499911, 0.52559585, 0.68592573,\n",
              "       0.34454912, 0.43306497, 0.62600904, 0.44079162, 0.62923503,\n",
              "       0.58684895, 0.52854845, 0.5740913 , 0.25704994, 0.54306208,\n",
              "       0.55134353, 0.72014243, 0.29581339, 0.81778502, 0.60240289,\n",
              "       0.46062496, 0.31313742, 0.68634657, 0.23465295, 0.53329803,\n",
              "       0.56957946, 0.53485198, 0.48619761, 0.48144752, 0.51145689,\n",
              "       0.84124881, 0.27547294, 0.36068208, 0.3300973 , 0.52743962,\n",
              "       0.42743283, 0.66724226, 0.34570721, 0.48482104, 0.44773848])"
            ]
          },
          "execution_count": 135,
          "metadata": {},
          "output_type": "execute_result"
        }
      ],
      "source": [
        "lr_pred_proba"
      ]
    },
    {
      "cell_type": "code",
      "execution_count": null,
      "id": "ecf6aea1-7f85-404f-869c-4e833a742677",
      "metadata": {
        "id": "ecf6aea1-7f85-404f-869c-4e833a742677"
      },
      "outputs": [],
      "source": [
        "y_test2 = df_y_test.reset_index(drop = True)\n",
        "cross = pd.concat([y_test2, pd.DataFrame(lr_pred)],axis =1)\n",
        "cross.columns = ['true','pred']"
      ]
    },
    {
      "cell_type": "code",
      "execution_count": null,
      "id": "32b309da-92e5-40fe-a8d1-fbb4ad77988a",
      "metadata": {
        "id": "32b309da-92e5-40fe-a8d1-fbb4ad77988a"
      },
      "outputs": [],
      "source": [
        "cross['cm'] = np.where((cross['true']== 1) & (cross['pred']==1), 'TP', np.where((cross['true']== 1) & (cross['pred']==0),'FN', np.where((cross['true']== 0) & (cross['pred']==1), 'FP',np.where((cross['true']== 0) & (cross['pred']==0), 'TN',0))))\n",
        "conf_mat = dict(cross['cm'].value_counts())"
      ]
    },
    {
      "cell_type": "code",
      "execution_count": null,
      "id": "2597672d-6a09-477d-a1c9-02730ff6b5eb",
      "metadata": {
        "id": "2597672d-6a09-477d-a1c9-02730ff6b5eb",
        "outputId": "cf15939f-bd61-40d9-8cae-496232dd3076"
      },
      "outputs": [
        {
          "data": {
            "text/plain": [
              "{'TN': 247, 'TP': 182, 'FP': 177, 'FN': 94}"
            ]
          },
          "execution_count": 138,
          "metadata": {},
          "output_type": "execute_result"
        }
      ],
      "source": [
        "conf_mat"
      ]
    },
    {
      "cell_type": "code",
      "execution_count": null,
      "id": "b6b3e692-f3bc-4c39-a2f3-537620778097",
      "metadata": {
        "id": "b6b3e692-f3bc-4c39-a2f3-537620778097",
        "outputId": "42de0164-3d4b-4045-99f2-baf4229c0c3a"
      },
      "outputs": [
        {
          "name": "stdout",
          "output_type": "stream",
          "text": [
            "accuracy :  0.6128571428571429\n",
            "precision :  0.5069637883008357\n",
            "recall :  0.6594202898550725\n",
            "f1_score :  0.5732283464566928\n"
          ]
        }
      ],
      "source": [
        "accuracy = ( conf_mat['TN'] + conf_mat['TP'] ) / ( conf_mat['TN']+conf_mat['TP'] + conf_mat['FN']+conf_mat['FP'] )\n",
        "precision = conf_mat['TP'] / (conf_mat['TP'] + conf_mat['FP'])\n",
        "recall = conf_mat['TP'] / (conf_mat['TP'] + conf_mat['FN'])\n",
        "f1_score = 2*recall*precision / (recall+precision)\n",
        "\n",
        "print('accuracy : ', accuracy)\n",
        "print('precision : ', precision)\n",
        "print('recall : ', recall)\n",
        "print('f1_score : ', f1_score)"
      ]
    },
    {
      "cell_type": "code",
      "execution_count": null,
      "id": "b6da4ef0-ed0f-4bfe-b114-942314a8164f",
      "metadata": {
        "id": "b6da4ef0-ed0f-4bfe-b114-942314a8164f",
        "outputId": "6b1eebc1-86f5-4ae3-8c8c-52bee26768f5"
      },
      "outputs": [
        {
          "name": "stderr",
          "output_type": "stream",
          "text": [
            "/home/ljy1115/.local/lib/python3.8/site-packages/sklearn/utils/deprecation.py:87: FutureWarning: Function plot_confusion_matrix is deprecated; Function `plot_confusion_matrix` is deprecated in 1.0 and will be removed in 1.2. Use one of the class methods: ConfusionMatrixDisplay.from_predictions or ConfusionMatrixDisplay.from_estimator.\n",
            "  warnings.warn(msg, category=FutureWarning)\n",
            "/home/ljy1115/.local/lib/python3.8/site-packages/sklearn/utils/deprecation.py:87: FutureWarning: Function plot_roc_curve is deprecated; Function :func:`plot_roc_curve` is deprecated in 1.0 and will be removed in 1.2. Use one of the class methods: :meth:`sklearn.metric.RocCurveDisplay.from_predictions` or :meth:`sklearn.metric.RocCurveDisplay.from_estimator`.\n",
            "  warnings.warn(msg, category=FutureWarning)\n"
          ]
        },
        {
          "data": {
            "image/png": "[encoded data removed]",
            "text/plain": [
              "<Figure size 432x288 with 2 Axes>"
            ]
          },
          "metadata": {},
          "output_type": "display_data"
        },
        {
          "data": {
            "image/png": "[encoded data removed]",
            "text/plain": [
              "<Figure size 432x288 with 1 Axes>"
            ]
          },
          "metadata": {},
          "output_type": "display_data"
        }
      ],
      "source": [
        "# confusion matrix, AUC-ROC 커브 생성\n",
        "# AUC 0.8이상이면 good\n",
        "\n",
        "disp = plot_confusion_matrix(lr_clf, df_X_test, df_y_test, cmap='Blues', values_format='d', display_labels=['Good', 'Bad'])\n",
        "disp = plot_roc_curve(lr_clf, df_X_test, df_y_test)"
      ]
    },
    {
      "cell_type": "code",
      "execution_count": null,
      "id": "82a8763a-4715-4cd7-ba6c-6a494366c419",
      "metadata": {
        "id": "82a8763a-4715-4cd7-ba6c-6a494366c419"
      },
      "outputs": [],
      "source": [
        ""
      ]
    },
    {
      "cell_type": "code",
      "execution_count": null,
      "id": "1f9cae7f-f716-4729-b171-222b9e215de1",
      "metadata": {
        "id": "1f9cae7f-f716-4729-b171-222b9e215de1"
      },
      "outputs": [],
      "source": [
        "# Train Set 및 Test Set 추출\n",
        "selected = df_X_train.columns\n",
        "\n",
        "df_X_train2 = df_X_train[selected]\n",
        "df_X_test2 = df_X_test[selected]"
      ]
    },
    {
      "cell_type": "code",
      "execution_count": null,
      "id": "5e363f53-4d0c-4979-86d4-2834c9a91298",
      "metadata": {
        "id": "5e363f53-4d0c-4979-86d4-2834c9a91298",
        "outputId": "e1c65914-f184-4ec0-99a3-1689f5c1499e"
      },
      "outputs": [
        {
          "name": "stderr",
          "output_type": "stream",
          "text": [
            "/home/ljy1115/.local/lib/python3.8/site-packages/sklearn/ensemble/_forest.py:427: FutureWarning: `max_features='auto'` has been deprecated in 1.1 and will be removed in 1.3. To keep the past behaviour, explicitly set `max_features='sqrt'` or remove this parameter as it is also the default value for RandomForestClassifiers and ExtraTreesClassifiers.\n",
            "  warn(\n"
          ]
        },
        {
          "name": "stdout",
          "output_type": "stream",
          "text": [
            "Train Result:\n",
            "================================================\n",
            "Accuracy Score: 72.67%\n",
            "_______________________________________________\n",
            "CLASSIFICATION REPORT:\n",
            "                   0          1  accuracy  macro avg  weighted avg\n",
            "precision    0.74419    0.71156   0.72670    0.72787       0.72787\n",
            "recall       0.69091    0.76250   0.72670    0.72670       0.72670\n",
            "f1-score     0.71656    0.73615   0.72670    0.72635       0.72635\n",
            "support   1760.00000 1760.00000   0.72670 3520.00000    3520.00000\n",
            "_______________________________________________\n",
            "Confusion Matrix: \n",
            " [[1216  544]\n",
            " [ 418 1342]]\n",
            "\n",
            "Test Result:\n",
            "================================================\n",
            "Accuracy Score: 62.57%\n",
            "_______________________________________________\n",
            "CLASSIFICATION REPORT:\n",
            "                  0         1  accuracy  macro avg  weighted avg\n",
            "precision   0.68409   0.52692   0.62571    0.60551       0.62212\n",
            "recall      0.70991   0.49638   0.62571    0.60314       0.62571\n",
            "f1-score    0.69676   0.51119   0.62571    0.60398       0.62359\n",
            "support   424.00000 276.00000   0.62571  700.00000     700.00000\n",
            "_______________________________________________\n",
            "Confusion Matrix: \n",
            " [[301 123]\n",
            " [139 137]]\n",
            "\n"
          ]
        }
      ],
      "source": [
        "# Random Forest 모델 생성\n",
        "# rf_clf = RandomForestClassifier(n_estimators = 100, max_depth = 8, max_features = 'auto', min_samples_split = 6, random_state = 123)    # n_estimators는 생성할 Tree의 개수. 개수가 많을수록 정확도가 올라가지만 모델 학습 시간이 길어짐\n",
        "rf_clf = RandomForestClassifier(n_estimators = 100, max_depth = 8, max_features = 'auto', min_samples_split = 6, random_state = 123)    # n_estimators는 생성할 Tree의 개수. 개수가 많을수록 정확도가 올라가지만 모델 학습 시간이 길어짐\n",
        "\n",
        "# 모델 학습 진행\n",
        "rf_clf.fit(df_X_train2, df_y_train)\n",
        "\n",
        "# 모델 정확도 확인\n",
        "train_y_pred = rf_clf.predict(df_X_train2)\n",
        "test_y_pred = rf_clf.predict(df_X_test2)\n",
        "\n",
        "print_score(df_y_train, train_y_pred, train = True)\n",
        "print_score(df_y_test, test_y_pred, train = False)"
      ]
    },
    {
      "cell_type": "code",
      "execution_count": null,
      "id": "1939081d-c095-45d1-a953-194b3a15bd18",
      "metadata": {
        "id": "1939081d-c095-45d1-a953-194b3a15bd18",
        "outputId": "2a23ac0b-2072-4cc0-b212-d4048d19a080"
      },
      "outputs": [
        {
          "data": {
            "image/png": "[encoded data removed]",
            "text/plain": [
              "<Figure size 720x576 with 1 Axes>"
            ]
          },
          "metadata": {},
          "output_type": "display_data"
        }
      ],
      "source": [
        "ftr_importances_values = rf_clf.feature_importances_\n",
        "ftr_importances = pd.Series(ftr_importances_values, index = df_X_test.columns)\n",
        "ftr_importances = ftr_importances.sort_values(ascending=False)\n",
        "\n",
        "plt.figure(figsize=(10, 8))\n",
        "plt.title('Feature Importances')\n",
        "sns.barplot(x = ftr_importances, y = ftr_importances.index);"
      ]
    },
    {
      "cell_type": "code",
      "execution_count": null,
      "id": "2075cbf6-8ece-4360-b1c5-167cfeac54ac",
      "metadata": {
        "id": "2075cbf6-8ece-4360-b1c5-167cfeac54ac"
      },
      "outputs": [],
      "source": [
        "from sklearn.tree import DecisionTreeClassifier\n",
        "from sklearn.ensemble import RandomForestClassifier\n",
        "from sklearn.datasets import load_breast_cancer\n",
        "from sklearn.model_selection import train_test_split"
      ]
    },
    {
      "cell_type": "code",
      "execution_count": null,
      "id": "d1c52d5a-8319-48e2-bb2d-d49d55b7a5ca",
      "metadata": {
        "id": "d1c52d5a-8319-48e2-bb2d-d49d55b7a5ca"
      },
      "outputs": [],
      "source": [
        "# 모델\n",
        "from sklearn.ensemble import RandomForestClassifier\n",
        "rf = RandomForestClassifier()\n",
        "rf.fit(df_X_train, df_y_train)\n",
        "# coef = rf.coef_.reshape(-1)\n",
        "lr_pred = rf.predict(df_X_test)\n",
        "lr_pred_proba = rf.predict_proba(df_X_test)[:,1]"
      ]
    },
    {
      "cell_type": "code",
      "execution_count": null,
      "id": "ee6f58fb-e854-4638-9c2a-42f9625d6fdb",
      "metadata": {
        "id": "ee6f58fb-e854-4638-9c2a-42f9625d6fdb",
        "outputId": "3f319f9b-c8de-49c3-efbf-5c5d0b9bafc2"
      },
      "outputs": [
        {
          "name": "stdout",
          "output_type": "stream",
          "text": [
            "              precision    recall  f1-score   support\n",
            "\n",
            "           0       0.65      0.86      0.74       424\n",
            "           1       0.58      0.29      0.39       276\n",
            "\n",
            "    accuracy                           0.64       700\n",
            "   macro avg       0.61      0.58      0.56       700\n",
            "weighted avg       0.62      0.64      0.60       700\n",
            "\n"
          ]
        }
      ],
      "source": [
        "from sklearn.metrics import *\n",
        "print(classification_report(df_y_test, lr_pred))"
      ]
    },
    {
      "cell_type": "code",
      "execution_count": null,
      "id": "f474ebb3-c279-4448-afde-1bc3a821886a",
      "metadata": {
        "id": "f474ebb3-c279-4448-afde-1bc3a821886a"
      },
      "outputs": [],
      "source": [
        "y_test2 = df_y_test.reset_index(drop = True)\n",
        "cross = pd.concat([y_test2, pd.DataFrame(lr_pred)],axis =1)\n",
        "cross.columns = ['true','pred']"
      ]
    },
    {
      "cell_type": "code",
      "execution_count": null,
      "id": "6519d41d-a11b-4865-90eb-62917f1e3390",
      "metadata": {
        "id": "6519d41d-a11b-4865-90eb-62917f1e3390"
      },
      "outputs": [],
      "source": [
        "cross['cm'] = np.where((cross['true']== 1) & (cross['pred']==1), 'TP', np.where((cross['true']== 1) & (cross['pred']==0),'FN', np.where((cross['true']== 0) & (cross['pred']==1), 'FP',np.where((cross['true']== 0) & (cross['pred']==0), 'TN',0))))\n",
        "conf_mat = dict(cross['cm'].value_counts())"
      ]
    },
    {
      "cell_type": "code",
      "execution_count": null,
      "id": "da810399-4da6-4ce3-8594-a89fb657764b",
      "metadata": {
        "id": "da810399-4da6-4ce3-8594-a89fb657764b",
        "outputId": "91d665f6-4866-4a4a-b7ea-fa1a8df13b5b"
      },
      "outputs": [
        {
          "data": {
            "text/plain": [
              "{'TN': 365, 'FN': 196, 'TP': 80, 'FP': 59}"
            ]
          },
          "execution_count": 151,
          "metadata": {},
          "output_type": "execute_result"
        }
      ],
      "source": [
        "conf_mat"
      ]
    },
    {
      "cell_type": "code",
      "execution_count": null,
      "id": "7480d59b-ad36-4b32-a5df-7508322d9202",
      "metadata": {
        "id": "7480d59b-ad36-4b32-a5df-7508322d9202",
        "outputId": "387319db-191e-4f85-e262-098342c28667"
      },
      "outputs": [
        {
          "name": "stdout",
          "output_type": "stream",
          "text": [
            "accuracy :  0.6357142857142857\n",
            "precision :  0.5755395683453237\n",
            "recall :  0.2898550724637681\n",
            "f1_score :  0.3855421686746988\n"
          ]
        }
      ],
      "source": [
        "accuracy = ( conf_mat['TN'] + conf_mat['TP'] ) / ( conf_mat['TN']+conf_mat['TP'] + conf_mat['FN']+conf_mat['FP'] )\n",
        "precision = conf_mat['TP'] / (conf_mat['TP'] + conf_mat['FP'])\n",
        "recall = conf_mat['TP'] / (conf_mat['TP'] + conf_mat['FN'])\n",
        "f1_score = 2*recall*precision / (recall+precision)\n",
        "\n",
        "print('accuracy : ', accuracy)\n",
        "print('precision : ', precision)\n",
        "print('recall : ', recall)\n",
        "print('f1_score : ', f1_score)"
      ]
    },
    {
      "cell_type": "code",
      "execution_count": null,
      "id": "efcf6af6-d71b-43d6-bf39-ec1cbd4c5c14",
      "metadata": {
        "id": "efcf6af6-d71b-43d6-bf39-ec1cbd4c5c14"
      },
      "outputs": [],
      "source": [
        "from sklearn.ensemble import GradientBoostingClassifier"
      ]
    },
    {
      "cell_type": "code",
      "execution_count": null,
      "id": "d00ef8dd-8caa-4afa-944e-2a3dd16618f9",
      "metadata": {
        "id": "d00ef8dd-8caa-4afa-944e-2a3dd16618f9"
      },
      "outputs": [],
      "source": [
        "# 모델\n",
        "from sklearn.ensemble import GradientBoostingClassifier\n",
        "rf = GradientBoostingClassifier()\n",
        "rf.fit(df_X_train, df_y_train)\n",
        "# coef = rf.coef_.reshape(-1)\n",
        "lr_pred = rf.predict(df_X_test)\n",
        "lr_pred_proba = rf.predict_proba(df_X_test)[:,1]"
      ]
    },
    {
      "cell_type": "code",
      "execution_count": null,
      "id": "1336c332-a2ea-42d0-bca0-3c531b193c1d",
      "metadata": {
        "id": "1336c332-a2ea-42d0-bca0-3c531b193c1d",
        "outputId": "f3ed0daf-2646-45d7-8704-55a3e58bfd15"
      },
      "outputs": [
        {
          "name": "stdout",
          "output_type": "stream",
          "text": [
            "              precision    recall  f1-score   support\n",
            "\n",
            "           0       0.66      0.80      0.72       424\n",
            "           1       0.54      0.36      0.43       276\n",
            "\n",
            "    accuracy                           0.63       700\n",
            "   macro avg       0.60      0.58      0.58       700\n",
            "weighted avg       0.61      0.63      0.61       700\n",
            "\n"
          ]
        }
      ],
      "source": [
        "from sklearn.metrics import *\n",
        "print(classification_report(df_y_test, lr_pred))"
      ]
    },
    {
      "cell_type": "code",
      "execution_count": null,
      "id": "e9225a48-f106-4159-a76d-7f43dac913f2",
      "metadata": {
        "id": "e9225a48-f106-4159-a76d-7f43dac913f2"
      },
      "outputs": [],
      "source": [
        "y_test2 = df_y_test.reset_index(drop = True)\n",
        "cross = pd.concat([y_test2, pd.DataFrame(lr_pred)],axis =1)\n",
        "cross.columns = ['true','pred']"
      ]
    },
    {
      "cell_type": "code",
      "execution_count": null,
      "id": "e4e79cf3-66c8-4a14-a6f2-12a6483c9de2",
      "metadata": {
        "id": "e4e79cf3-66c8-4a14-a6f2-12a6483c9de2"
      },
      "outputs": [],
      "source": [
        "cross['cm'] = np.where((cross['true']== 1) & (cross['pred']==1), 'TP', np.where((cross['true']== 1) & (cross['pred']==0),'FN', np.where((cross['true']== 0) & (cross['pred']==1), 'FP',np.where((cross['true']== 0) & (cross['pred']==0), 'TN',0))))\n",
        "conf_mat = dict(cross['cm'].value_counts())"
      ]
    },
    {
      "cell_type": "code",
      "execution_count": null,
      "id": "6354d1b8-ce40-47fb-a0b0-d82b08ea76d9",
      "metadata": {
        "id": "6354d1b8-ce40-47fb-a0b0-d82b08ea76d9",
        "outputId": "1b294dce-732c-4b9a-f8d0-3fa24f5b1612"
      },
      "outputs": [
        {
          "data": {
            "text/plain": [
              "{'TN': 338, 'FN': 176, 'TP': 100, 'FP': 86}"
            ]
          },
          "execution_count": 161,
          "metadata": {},
          "output_type": "execute_result"
        }
      ],
      "source": [
        "conf_mat"
      ]
    },
    {
      "cell_type": "code",
      "execution_count": null,
      "id": "9214dfd2-2950-43c9-b5bf-277036147453",
      "metadata": {
        "id": "9214dfd2-2950-43c9-b5bf-277036147453",
        "outputId": "154e2452-0e1e-4b22-8428-0f6270a09cf8"
      },
      "outputs": [
        {
          "name": "stdout",
          "output_type": "stream",
          "text": [
            "accuracy :  0.6257142857142857\n",
            "precision :  0.5376344086021505\n",
            "recall :  0.36231884057971014\n",
            "f1_score :  0.43290043290043284\n"
          ]
        }
      ],
      "source": [
        "accuracy = ( conf_mat['TN'] + conf_mat['TP'] ) / ( conf_mat['TN']+conf_mat['TP'] + conf_mat['FN']+conf_mat['FP'] )\n",
        "precision = conf_mat['TP'] / (conf_mat['TP'] + conf_mat['FP'])\n",
        "recall = conf_mat['TP'] / (conf_mat['TP'] + conf_mat['FN'])\n",
        "f1_score = 2*recall*precision / (recall+precision)\n",
        "\n",
        "print('accuracy : ', accuracy)\n",
        "print('precision : ', precision)\n",
        "print('recall : ', recall)\n",
        "print('f1_score : ', f1_score)"
      ]
    },
    {
      "cell_type": "code",
      "execution_count": null,
      "id": "63652851-3837-4ef1-8102-d1591dad9fa7",
      "metadata": {
        "id": "63652851-3837-4ef1-8102-d1591dad9fa7",
        "outputId": "94d9568b-9572-4ed4-af25-802fd5bc3c3d"
      },
      "outputs": [
        {
          "data": {
            "text/html": [
              "<style>#sk-container-id-3 {color: black;background-color: white;}#sk-container-id-3 pre{padding: 0;}#sk-container-id-3 div.sk-toggleable {background-color: white;}#sk-container-id-3 label.sk-toggleable__label {cursor: pointer;display: block;width: 100%;margin-bottom: 0;padding: 0.3em;box-sizing: border-box;text-align: center;}#sk-container-id-3 label.sk-toggleable__label-arrow:before {content: \"▸\";float: left;margin-right: 0.25em;color: #696969;}#sk-container-id-3 label.sk-toggleable__label-arrow:hover:before {color: black;}#sk-container-id-3 div.sk-estimator:hover label.sk-toggleable__label-arrow:before {color: black;}#sk-container-id-3 div.sk-toggleable__content {max-height: 0;max-width: 0;overflow: hidden;text-align: left;background-color: #f0f8ff;}#sk-container-id-3 div.sk-toggleable__content pre {margin: 0.2em;color: black;border-radius: 0.25em;background-color: #f0f8ff;}#sk-container-id-3 input.sk-toggleable__control:checked~div.sk-toggleable__content {max-height: 200px;max-width: 100%;overflow: auto;}#sk-container-id-3 input.sk-toggleable__control:checked~label.sk-toggleable__label-arrow:before {content: \"▾\";}#sk-container-id-3 div.sk-estimator input.sk-toggleable__control:checked~label.sk-toggleable__label {background-color: #d4ebff;}#sk-container-id-3 div.sk-label input.sk-toggleable__control:checked~label.sk-toggleable__label {background-color: #d4ebff;}#sk-container-id-3 input.sk-hidden--visually {border: 0;clip: rect(1px 1px 1px 1px);clip: rect(1px, 1px, 1px, 1px);height: 1px;margin: -1px;overflow: hidden;padding: 0;position: absolute;width: 1px;}#sk-container-id-3 div.sk-estimator {font-family: monospace;background-color: #f0f8ff;border: 1px dotted black;border-radius: 0.25em;box-sizing: border-box;margin-bottom: 0.5em;}#sk-container-id-3 div.sk-estimator:hover {background-color: #d4ebff;}#sk-container-id-3 div.sk-parallel-item::after {content: \"\";width: 100%;border-bottom: 1px solid gray;flex-grow: 1;}#sk-container-id-3 div.sk-label:hover label.sk-toggleable__label {background-color: #d4ebff;}#sk-container-id-3 div.sk-serial::before {content: \"\";position: absolute;border-left: 1px solid gray;box-sizing: border-box;top: 0;bottom: 0;left: 50%;z-index: 0;}#sk-container-id-3 div.sk-serial {display: flex;flex-direction: column;align-items: center;background-color: white;padding-right: 0.2em;padding-left: 0.2em;position: relative;}#sk-container-id-3 div.sk-item {position: relative;z-index: 1;}#sk-container-id-3 div.sk-parallel {display: flex;align-items: stretch;justify-content: center;background-color: white;position: relative;}#sk-container-id-3 div.sk-item::before, #sk-container-id-3 div.sk-parallel-item::before {content: \"\";position: absolute;border-left: 1px solid gray;box-sizing: border-box;top: 0;bottom: 0;left: 50%;z-index: -1;}#sk-container-id-3 div.sk-parallel-item {display: flex;flex-direction: column;z-index: 1;position: relative;background-color: white;}#sk-container-id-3 div.sk-parallel-item:first-child::after {align-self: flex-end;width: 50%;}#sk-container-id-3 div.sk-parallel-item:last-child::after {align-self: flex-start;width: 50%;}#sk-container-id-3 div.sk-parallel-item:only-child::after {width: 0;}#sk-container-id-3 div.sk-dashed-wrapped {border: 1px dashed gray;margin: 0 0.4em 0.5em 0.4em;box-sizing: border-box;padding-bottom: 0.4em;background-color: white;}#sk-container-id-3 div.sk-label label {font-family: monospace;font-weight: bold;display: inline-block;line-height: 1.2em;}#sk-container-id-3 div.sk-label-container {text-align: center;}#sk-container-id-3 div.sk-container {/* jupyter's `normalize.less` sets `[hidden] { display: none; }` but bootstrap.min.css set `[hidden] { display: none !important; }` so we also need the `!important` here to be able to override the default hidden behavior on the sphinx rendered scikit-learn.org. See: https://github.com/scikit-learn/scikit-learn/issues/21755 */display: inline-block !important;position: relative;}#sk-container-id-3 div.sk-text-repr-fallback {display: none;}</style><div id=\"sk-container-id-3\" class=\"sk-top-container\"><div class=\"sk-text-repr-fallback\"><pre>XGBClassifier(base_score=0.5, booster=&#x27;gbtree&#x27;, callbacks=None,\n",
              "              colsample_bylevel=1, colsample_bynode=1, colsample_bytree=1,\n",
              "              early_stopping_rounds=None, enable_categorical=False,\n",
              "              eval_metric=None, gamma=0, gpu_id=-1, grow_policy=&#x27;depthwise&#x27;,\n",
              "              importance_type=None, interaction_constraints=&#x27;&#x27;,\n",
              "              learning_rate=0.300000012, max_bin=256, max_cat_to_onehot=4,\n",
              "              max_delta_step=0, max_depth=6, max_leaves=0, min_child_weight=1,\n",
              "              missing=nan, monotone_constraints=&#x27;()&#x27;, n_estimators=100,\n",
              "              n_jobs=0, num_parallel_tree=1, predictor=&#x27;auto&#x27;,\n",
              "              random_state=2357, reg_alpha=0, reg_lambda=1, ...)</pre><b>In a Jupyter environment, please rerun this cell to show the HTML representation or trust the notebook. <br />On GitHub, the HTML representation is unable to render, please try loading this page with nbviewer.org.</b></div><div class=\"sk-container\" hidden><div class=\"sk-item\"><div class=\"sk-estimator sk-toggleable\"><input class=\"sk-toggleable__control sk-hidden--visually\" id=\"sk-estimator-id-3\" type=\"checkbox\" checked><label for=\"sk-estimator-id-3\" class=\"sk-toggleable__label sk-toggleable__label-arrow\">XGBClassifier</label><div class=\"sk-toggleable__content\"><pre>XGBClassifier(base_score=0.5, booster=&#x27;gbtree&#x27;, callbacks=None,\n",
              "              colsample_bylevel=1, colsample_bynode=1, colsample_bytree=1,\n",
              "              early_stopping_rounds=None, enable_categorical=False,\n",
              "              eval_metric=None, gamma=0, gpu_id=-1, grow_policy=&#x27;depthwise&#x27;,\n",
              "              importance_type=None, interaction_constraints=&#x27;&#x27;,\n",
              "              learning_rate=0.300000012, max_bin=256, max_cat_to_onehot=4,\n",
              "              max_delta_step=0, max_depth=6, max_leaves=0, min_child_weight=1,\n",
              "              missing=nan, monotone_constraints=&#x27;()&#x27;, n_estimators=100,\n",
              "              n_jobs=0, num_parallel_tree=1, predictor=&#x27;auto&#x27;,\n",
              "              random_state=2357, reg_alpha=0, reg_lambda=1, ...)</pre></div></div></div></div></div>"
            ],
            "text/plain": [
              "XGBClassifier(base_score=0.5, booster='gbtree', callbacks=None,\n",
              "              colsample_bylevel=1, colsample_bynode=1, colsample_bytree=1,\n",
              "              early_stopping_rounds=None, enable_categorical=False,\n",
              "              eval_metric=None, gamma=0, gpu_id=-1, grow_policy='depthwise',\n",
              "              importance_type=None, interaction_constraints='',\n",
              "              learning_rate=0.300000012, max_bin=256, max_cat_to_onehot=4,\n",
              "              max_delta_step=0, max_depth=6, max_leaves=0, min_child_weight=1,\n",
              "              missing=nan, monotone_constraints='()', n_estimators=100,\n",
              "              n_jobs=0, num_parallel_tree=1, predictor='auto',\n",
              "              random_state=2357, reg_alpha=0, reg_lambda=1, ...)"
            ]
          },
          "execution_count": 164,
          "metadata": {},
          "output_type": "execute_result"
        }
      ],
      "source": [
        "xgb = XGBClassifier(random_state = 2357)\n",
        "xgb.fit(df_X_train, df_y_train)"
      ]
    },
    {
      "cell_type": "code",
      "execution_count": null,
      "id": "daadafbe-3bed-41aa-884c-07b18e95d63b",
      "metadata": {
        "id": "daadafbe-3bed-41aa-884c-07b18e95d63b",
        "outputId": "0d6cadd5-1877-4f0a-a504-5d6873e13e7a"
      },
      "outputs": [
        {
          "name": "stdout",
          "output_type": "stream",
          "text": [
            "Score on training set: 0.965\n",
            "Score on test set: 0.636\n"
          ]
        }
      ],
      "source": [
        "#train 데이터 설명력\n",
        "print(\"Score on training set: {:.3f}\".format(xgb.score(df_X_train, df_y_train)))\n",
        "#test데이터 설명력\n",
        "print(\"Score on test set: {:.3f}\".format(xgb.score(df_X_test, df_y_test)))"
      ]
    },
    {
      "cell_type": "code",
      "execution_count": null,
      "id": "b87e128d-48e3-4589-bf24-bfbd24c1587f",
      "metadata": {
        "id": "b87e128d-48e3-4589-bf24-bfbd24c1587f",
        "outputId": "9b4083cc-bc9e-4a2d-da82-d923acb88903"
      },
      "outputs": [
        {
          "name": "stdout",
          "output_type": "stream",
          "text": [
            "Confusion Matrix : \n",
            " [[1683   77]\n",
            " [  45 1715]]\n",
            "\n",
            " Classification Report : \n",
            "               precision    recall  f1-score   support\n",
            "\n",
            "           0       0.97      0.96      0.97      1760\n",
            "           1       0.96      0.97      0.97      1760\n",
            "\n",
            "    accuracy                           0.97      3520\n",
            "   macro avg       0.97      0.97      0.97      3520\n",
            "weighted avg       0.97      0.97      0.97      3520\n",
            "\n"
          ]
        }
      ],
      "source": [
        "y_train_pred = xgb.predict(df_X_train)\n",
        "\n",
        "print('Confusion Matrix : \\n {}'.format(confusion_matrix(df_y_train, y_train_pred)))\n",
        "print('\\n Classification Report : \\n {}' .format(classification_report(df_y_train,y_train_pred)))"
      ]
    },
    {
      "cell_type": "code",
      "execution_count": null,
      "id": "c9de331c-b605-4a1c-b022-7866c69fc826",
      "metadata": {
        "id": "c9de331c-b605-4a1c-b022-7866c69fc826",
        "outputId": "0994679c-70ab-4d83-cded-6ee85a1f7f89"
      },
      "outputs": [
        {
          "name": "stdout",
          "output_type": "stream",
          "text": [
            "Confusion Matrix : \n",
            " [[286 138]\n",
            " [117 159]]\n",
            "\n",
            " Classification Report : \n",
            "               precision    recall  f1-score   support\n",
            "\n",
            "           0       0.71      0.67      0.69       424\n",
            "           1       0.54      0.58      0.55       276\n",
            "\n",
            "    accuracy                           0.64       700\n",
            "   macro avg       0.62      0.63      0.62       700\n",
            "weighted avg       0.64      0.64      0.64       700\n",
            "\n"
          ]
        }
      ],
      "source": [
        "y_test_pred = xgb.predict(df_X_test)\n",
        "\n",
        "print('Confusion Matrix : \\n {}'.format(confusion_matrix(df_y_test, y_test_pred)))\n",
        "print('\\n Classification Report : \\n {}' .format(classification_report(df_y_test,y_test_pred)))"
      ]
    },
    {
      "cell_type": "code",
      "execution_count": null,
      "id": "d6e10041-f501-4044-8769-83ae7d396fba",
      "metadata": {
        "id": "d6e10041-f501-4044-8769-83ae7d396fba",
        "outputId": "bfaf2e02-1c70-41dd-c3f2-d3c6a971386e"
      },
      "outputs": [
        {
          "data": {
            "image/png": "[encoded data removed]",
            "text/plain": [
              "<Figure size 504x504 with 1 Axes>"
            ]
          },
          "metadata": {},
          "output_type": "display_data"
        }
      ],
      "source": [
        "# tn, fp, fn, tp = confusion_matrix(y_test, y_test_pred).ravel()\n",
        "\n",
        "y_test_prob = xgb.predict_proba(df_X_test)[:, 1]\n",
        "\n",
        "# roc_curve\n",
        "fpr, tpr, thresholds = roc_curve(df_y_test, y_test_prob)\n",
        "roc_auc_logit = auc(fpr,tpr)\n",
        "plt.figure(figsize=(7,7))\n",
        "plt.style.use('seaborn-darkgrid')\n",
        "\n",
        "plt.plot(fpr, tpr, label='ROC curve (area= %0.2f)' % roc_auc_logit)\n",
        "\n",
        "##그래프에 직선 추가하기\n",
        "plt.style.use('seaborn-darkgrid')\n",
        "\n",
        "plt.plot([0,1],[0,1],color='navy', linestyle='--')\n",
        "\n",
        "#x축과 y축 구간 설정하기\n",
        "plt.xlim([0,1])\n",
        "plt.ylim([0,1.05])\n",
        "\n",
        "#축 이름 및 그래프 타이틀, 레전드 추가하기\n",
        "plt.xlabel('False Positive Rate')\n",
        "plt.ylabel('True Positive Rate')\n",
        "plt.title('Receiver Operating Characteristic Curve :SVM')\n",
        "plt.legend(loc=\"lower right\")\n",
        "\n",
        "plt.show()"
      ]
    },
    {
      "cell_type": "code",
      "execution_count": null,
      "id": "bc6e262d-012c-4faa-985b-ce972e3938ba",
      "metadata": {
        "id": "bc6e262d-012c-4faa-985b-ce972e3938ba",
        "outputId": "64158c55-124b-490b-9ce1-22b401c0072b"
      },
      "outputs": [
        {
          "data": {
            "text/plain": [
              "Text(0, 0.5, '변수')"
            ]
          },
          "execution_count": 169,
          "metadata": {},
          "output_type": "execute_result"
        },
        {
          "data": {
            "image/png": "[encoded data removed]",
            "text/plain": [
              "<Figure size 432x288 with 1 Axes>"
            ]
          },
          "metadata": {},
          "output_type": "display_data"
        }
      ],
      "source": [
        "feature_important = xgb.get_booster().get_score(importance_type='weight')\n",
        "keys = list(feature_important.keys())\n",
        "values = list(feature_important.values())\n",
        "\n",
        "data = pd.DataFrame(data=values, index=keys, columns=[\"score\"]).sort_values(by = \"score\", ascending=False)\n",
        "data.sort_values('score', ascending=False, inplace=True)\n",
        "data = data.head(10)\n",
        "coordinates=range(len(data))\n",
        "plt.barh(y=coordinates, width=data['score'])\n",
        "plt.yticks(coordinates, data.index, fontproperties = fontprop)\n",
        "plt.xlabel('변수 중요도', fontproperties = fontprop)\n",
        "plt.ylabel('변수', fontproperties = fontprop)"
      ]
    },
    {
      "cell_type": "code",
      "execution_count": null,
      "id": "570c734e-e443-41ee-990e-a7d921f78f06",
      "metadata": {
        "id": "570c734e-e443-41ee-990e-a7d921f78f06"
      },
      "outputs": [],
      "source": [
        "# 보험가입여부 예측"
      ]
    },
    {
      "cell_type": "code",
      "execution_count": null,
      "id": "f2525beb-95f8-42d0-9c26-5f52c2c4e9cd",
      "metadata": {
        "id": "f2525beb-95f8-42d0-9c26-5f52c2c4e9cd"
      },
      "outputs": [],
      "source": [
        "df = pd.read_csv(\"/home/ljy1115/project/travel_insurance_train03.csv\")"
      ]
    },
    {
      "cell_type": "code",
      "execution_count": null,
      "id": "9eefaad0-2213-41ff-a881-7127fa24d9cc",
      "metadata": {
        "id": "9eefaad0-2213-41ff-a881-7127fa24d9cc"
      },
      "outputs": [],
      "source": [
        "# df = pd.concat([train, test], axis = 0)"
      ]
    },
    {
      "cell_type": "code",
      "execution_count": null,
      "id": "875c71f3-0d95-4ca3-b5e3-25eb5383fefb",
      "metadata": {
        "id": "875c71f3-0d95-4ca3-b5e3-25eb5383fefb",
        "outputId": "d7793335-b2fb-4436-84a0-7406363cd9a8"
      },
      "outputs": [
        {
          "name": "stdout",
          "output_type": "stream",
          "text": [
            "<class 'pandas.core.frame.DataFrame'>\n",
            "RangeIndex: 1490 entries, 0 to 1489\n",
            "Data columns (total 10 columns):\n",
            " #   Column               Non-Null Count  Dtype \n",
            "---  ------               --------------  ----- \n",
            " 0   Unnamed: 0           1490 non-null   int64 \n",
            " 1   Age                  1490 non-null   int64 \n",
            " 2   Employment Type      1490 non-null   object\n",
            " 3   GraduateOrNot        1490 non-null   object\n",
            " 4   AnnualIncome         1490 non-null   int64 \n",
            " 5   FamilyMembers        1490 non-null   int64 \n",
            " 6   ChronicDiseases      1490 non-null   int64 \n",
            " 7   FrequentFlyer        1490 non-null   object\n",
            " 8   EverTravelledAbroad  1490 non-null   object\n",
            " 9   TravelInsurance      1490 non-null   int64 \n",
            "dtypes: int64(6), object(4)\n",
            "memory usage: 116.5+ KB\n"
          ]
        }
      ],
      "source": [
        "df.info()"
      ]
    },
    {
      "cell_type": "code",
      "execution_count": null,
      "id": "e9e8ad90-7b40-4c71-843e-8c06d10d6e20",
      "metadata": {
        "id": "e9e8ad90-7b40-4c71-843e-8c06d10d6e20"
      },
      "outputs": [],
      "source": [
        "df = df.drop('Unnamed: 0', axis=1)"
      ]
    },
    {
      "cell_type": "code",
      "execution_count": null,
      "id": "781d96cc-fa9b-4809-a584-634eb1ea025e",
      "metadata": {
        "id": "781d96cc-fa9b-4809-a584-634eb1ea025e",
        "outputId": "846a20e7-a6e1-4197-a284-51d08739da4a"
      },
      "outputs": [
        {
          "data": {
            "text/plain": [
              "Age                    0\n",
              "Employment Type        0\n",
              "GraduateOrNot          0\n",
              "AnnualIncome           0\n",
              "FamilyMembers          0\n",
              "ChronicDiseases        0\n",
              "FrequentFlyer          0\n",
              "EverTravelledAbroad    0\n",
              "TravelInsurance        0\n",
              "dtype: int64"
            ]
          },
          "execution_count": 227,
          "metadata": {},
          "output_type": "execute_result"
        }
      ],
      "source": [
        "df.isnull().sum()"
      ]
    },
    {
      "cell_type": "code",
      "execution_count": null,
      "id": "b98e2ffe-96fb-4396-8905-0d3767217031",
      "metadata": {
        "id": "b98e2ffe-96fb-4396-8905-0d3767217031"
      },
      "outputs": [],
      "source": [
        "# 숫자변수 확인\n",
        "num = df.select_dtypes(include='number')\n",
        "# 범주변수 확인\n",
        "cat = df.select_dtypes(exclude='number')"
      ]
    },
    {
      "cell_type": "code",
      "execution_count": null,
      "id": "1f1c0621-d515-4dcb-a54c-d285fb54e8db",
      "metadata": {
        "id": "1f1c0621-d515-4dcb-a54c-d285fb54e8db"
      },
      "outputs": [],
      "source": [
        "# drop_first = True\n",
        "categorical = cat.columns\n",
        "df = pd.get_dummies(df, columns = categorical, prefix = categorical, drop_first = True)"
      ]
    },
    {
      "cell_type": "code",
      "execution_count": null,
      "id": "ca2484e7-d18f-4876-bf3d-3062261887e0",
      "metadata": {
        "id": "ca2484e7-d18f-4876-bf3d-3062261887e0",
        "outputId": "88b70c00-5263-403d-c2e5-b18aa0ddb5d6"
      },
      "outputs": [
        {
          "data": {
            "text/html": [
              "<div>\n",
              "<style scoped>\n",
              "    .dataframe tbody tr th:only-of-type {\n",
              "        vertical-align: middle;\n",
              "    }\n",
              "\n",
              "    .dataframe tbody tr th {\n",
              "        vertical-align: top;\n",
              "    }\n",
              "\n",
              "    .dataframe thead th {\n",
              "        text-align: right;\n",
              "    }\n",
              "</style>\n",
              "<table border=\"1\" class=\"dataframe\">\n",
              "  <thead>\n",
              "    <tr style=\"text-align: right;\">\n",
              "      <th></th>\n",
              "      <th>Age</th>\n",
              "      <th>AnnualIncome</th>\n",
              "      <th>FamilyMembers</th>\n",
              "      <th>ChronicDiseases</th>\n",
              "      <th>TravelInsurance</th>\n",
              "      <th>Employment Type_Private Sector/Self Employed</th>\n",
              "      <th>GraduateOrNot_Yes</th>\n",
              "      <th>FrequentFlyer_Yes</th>\n",
              "      <th>EverTravelledAbroad_Yes</th>\n",
              "    </tr>\n",
              "  </thead>\n",
              "  <tbody>\n",
              "    <tr>\n",
              "      <th>0</th>\n",
              "      <td>26</td>\n",
              "      <td>1400000</td>\n",
              "      <td>3</td>\n",
              "      <td>1</td>\n",
              "      <td>0</td>\n",
              "      <td>1</td>\n",
              "      <td>1</td>\n",
              "      <td>0</td>\n",
              "      <td>1</td>\n",
              "    </tr>\n",
              "    <tr>\n",
              "      <th>1</th>\n",
              "      <td>28</td>\n",
              "      <td>1100000</td>\n",
              "      <td>4</td>\n",
              "      <td>1</td>\n",
              "      <td>1</td>\n",
              "      <td>1</td>\n",
              "      <td>1</td>\n",
              "      <td>0</td>\n",
              "      <td>0</td>\n",
              "    </tr>\n",
              "    <tr>\n",
              "      <th>2</th>\n",
              "      <td>33</td>\n",
              "      <td>1400000</td>\n",
              "      <td>4</td>\n",
              "      <td>0</td>\n",
              "      <td>1</td>\n",
              "      <td>1</td>\n",
              "      <td>1</td>\n",
              "      <td>0</td>\n",
              "      <td>1</td>\n",
              "    </tr>\n",
              "    <tr>\n",
              "      <th>3</th>\n",
              "      <td>28</td>\n",
              "      <td>800000</td>\n",
              "      <td>3</td>\n",
              "      <td>1</td>\n",
              "      <td>0</td>\n",
              "      <td>1</td>\n",
              "      <td>1</td>\n",
              "      <td>0</td>\n",
              "      <td>0</td>\n",
              "    </tr>\n",
              "    <tr>\n",
              "      <th>4</th>\n",
              "      <td>33</td>\n",
              "      <td>1000000</td>\n",
              "      <td>5</td>\n",
              "      <td>0</td>\n",
              "      <td>1</td>\n",
              "      <td>0</td>\n",
              "      <td>1</td>\n",
              "      <td>0</td>\n",
              "      <td>1</td>\n",
              "    </tr>\n",
              "  </tbody>\n",
              "</table>\n",
              "</div>"
            ],
            "text/plain": [
              "   Age  AnnualIncome  FamilyMembers  ChronicDiseases  TravelInsurance  \\\n",
              "0   26       1400000              3                1                0   \n",
              "1   28       1100000              4                1                1   \n",
              "2   33       1400000              4                0                1   \n",
              "3   28        800000              3                1                0   \n",
              "4   33       1000000              5                0                1   \n",
              "\n",
              "   Employment Type_Private Sector/Self Employed  GraduateOrNot_Yes  \\\n",
              "0                                             1                  1   \n",
              "1                                             1                  1   \n",
              "2                                             1                  1   \n",
              "3                                             1                  1   \n",
              "4                                             0                  1   \n",
              "\n",
              "   FrequentFlyer_Yes  EverTravelledAbroad_Yes  \n",
              "0                  0                        1  \n",
              "1                  0                        0  \n",
              "2                  0                        1  \n",
              "3                  0                        0  \n",
              "4                  0                        1  "
            ]
          },
          "execution_count": 230,
          "metadata": {},
          "output_type": "execute_result"
        }
      ],
      "source": [
        "df.head()"
      ]
    },
    {
      "cell_type": "code",
      "execution_count": null,
      "id": "25e024c2-665c-43ef-ba68-86117e2eca86",
      "metadata": {
        "id": "25e024c2-665c-43ef-ba68-86117e2eca86",
        "outputId": "ab7c5fed-f592-4134-9d85-a4bd2989ca27"
      },
      "outputs": [
        {
          "data": {
            "text/plain": [
              "Index(['Age', 'AnnualIncome', 'FamilyMembers', 'ChronicDiseases',\n",
              "       'TravelInsurance', 'Employment Type_Private Sector/Self Employed',\n",
              "       'GraduateOrNot_Yes', 'FrequentFlyer_Yes', 'EverTravelledAbroad_Yes'],\n",
              "      dtype='object')"
            ]
          },
          "execution_count": 231,
          "metadata": {},
          "output_type": "execute_result"
        }
      ],
      "source": [
        "df.columns"
      ]
    },
    {
      "cell_type": "code",
      "execution_count": null,
      "id": "50c8ed3a-8038-4f2d-822e-87db43d2d577",
      "metadata": {
        "id": "50c8ed3a-8038-4f2d-822e-87db43d2d577",
        "outputId": "8138a2d3-5c0a-4521-bba2-9687c3d80065"
      },
      "outputs": [
        {
          "name": "stdout",
          "output_type": "stream",
          "text": [
            "(1192, 8) (298, 8) (1192,) (298,)\n"
          ]
        }
      ],
      "source": [
        "# train / test split\n",
        "feature_columns = list(df.columns.difference(['TravelInsurance']))\n",
        "X = df[feature_columns]    # 변인변수들의 데이터 Set\n",
        "y = df['TravelInsurance']    # 종속변수 데이터를\n",
        "\n",
        "train_X, test_X, train_y, test_y = train_test_split(X, y, test_size = 0.2, random_state = 55)    # Test Set을 0.2의 비율로 생성\n",
        "\n",
        "print(train_X.shape, test_X.shape, train_y.shape, test_y.shape)"
      ]
    },
    {
      "cell_type": "code",
      "execution_count": null,
      "id": "4bd4d492-2305-4e9a-b437-bacaecc5770d",
      "metadata": {
        "id": "4bd4d492-2305-4e9a-b437-bacaecc5770d",
        "outputId": "d04f21f5-925a-473b-b570-451e1272ed32"
      },
      "outputs": [
        {
          "data": {
            "text/plain": [
              "['Age',\n",
              " 'AnnualIncome',\n",
              " 'FamilyMembers',\n",
              " 'ChronicDiseases',\n",
              " 'Employment Type_Private Sector/Self Employed',\n",
              " 'GraduateOrNot_Yes',\n",
              " 'FrequentFlyer_Yes',\n",
              " 'EverTravelledAbroad_Yes']"
            ]
          },
          "execution_count": 233,
          "metadata": {},
          "output_type": "execute_result"
        }
      ],
      "source": [
        "minmax_list = df.columns.tolist()\n",
        "minmax_list.remove('TravelInsurance')\n",
        "minmax_list"
      ]
    },
    {
      "cell_type": "code",
      "execution_count": null,
      "id": "17cefe11-6542-477f-b3bb-1e59e294f142",
      "metadata": {
        "id": "17cefe11-6542-477f-b3bb-1e59e294f142"
      },
      "outputs": [],
      "source": [
        "# 스케일링 적용 변수별 데이터 추출\n",
        "\n",
        "# train_X1 = train_X[standard_list]\n",
        "# test_X1 = test_X[standard_list]\n",
        "train_X2 = train_X[minmax_list]\n",
        "test_X2 = test_X[minmax_list]"
      ]
    },
    {
      "cell_type": "code",
      "execution_count": null,
      "id": "d2e2e058-7e4b-499f-816b-750669efe421",
      "metadata": {
        "id": "d2e2e058-7e4b-499f-816b-750669efe421"
      },
      "outputs": [],
      "source": [
        "# 데이터 스케일링 진행\n",
        "\n",
        "# scaler1 = StandardScaler()\n",
        "# train_X1 = scaler1.fit_transform(train_X1)\n",
        "# test_X1 = scaler1.transform(test_X1)\n",
        "\n",
        "scaler2 = MinMaxScaler()\n",
        "train_X2 = scaler2.fit_transform(train_X2)\n",
        "test_X2 = scaler2.fit_transform(test_X2)"
      ]
    },
    {
      "cell_type": "code",
      "execution_count": null,
      "id": "28cc585a-4339-4c3a-8c7e-83c9322a2f6a",
      "metadata": {
        "id": "28cc585a-4339-4c3a-8c7e-83c9322a2f6a"
      },
      "outputs": [],
      "source": [
        "# 스케일링 값으로 대체\n",
        "\n",
        "# train_X[standard_list] = train_X1\n",
        "# test_X[standard_list] = test_X1\n",
        "train_X[minmax_list] = train_X2\n",
        "test_X[minmax_list] = test_X2"
      ]
    },
    {
      "cell_type": "code",
      "execution_count": null,
      "id": "5614915f-07af-40d5-9eef-dd0fc8350ca5",
      "metadata": {
        "id": "5614915f-07af-40d5-9eef-dd0fc8350ca5"
      },
      "outputs": [],
      "source": [
        "# 모델\n",
        "from sklearn.linear_model import LogisticRegression\n",
        "lr_clf2 = LogisticRegression()\n",
        "lr_clf2.fit(train_X, train_y)\n",
        "coef = lr_clf2.coef_.reshape(-1) # coef 구함\n",
        "lr_pred = lr_clf2.predict(test_X)\n",
        "lr_pred_proba = lr_clf2.predict_proba(test_X)[:,1]"
      ]
    },
    {
      "cell_type": "code",
      "execution_count": null,
      "id": "1559ae58-71a8-44ed-abae-0b5cde7da30e",
      "metadata": {
        "id": "1559ae58-71a8-44ed-abae-0b5cde7da30e",
        "outputId": "94328c5a-2687-48ec-e895-175ba8c3450e"
      },
      "outputs": [
        {
          "name": "stdout",
          "output_type": "stream",
          "text": [
            "              precision    recall  f1-score   support\n",
            "\n",
            "           0       0.74      0.90      0.81       183\n",
            "           1       0.75      0.50      0.60       115\n",
            "\n",
            "    accuracy                           0.74       298\n",
            "   macro avg       0.74      0.70      0.70       298\n",
            "weighted avg       0.74      0.74      0.73       298\n",
            "\n"
          ]
        }
      ],
      "source": [
        "from sklearn.metrics import *\n",
        "print(classification_report(test_y, lr_pred))"
      ]
    },
    {
      "cell_type": "markdown",
      "id": "1ccdc65b-d9b4-4a14-a7a4-8ea16e245776",
      "metadata": {
        "id": "1ccdc65b-d9b4-4a14-a7a4-8ea16e245776"
      },
      "source": [
        "### LR 변수 중요도"
      ]
    },
    {
      "cell_type": "code",
      "execution_count": null,
      "id": "8245ebb9-ff32-4a0b-981d-4f1ee7181649",
      "metadata": {
        "id": "8245ebb9-ff32-4a0b-981d-4f1ee7181649"
      },
      "outputs": [],
      "source": [
        "#feature_weights\n",
        "df_features = pd.DataFrame(columns=['col','weight'])\n",
        "for idx, w in sorted(enumerate(coef), key=lambda x:-x[1])[:100]:\n",
        "    df_features = df_features.append(pd.DataFrame([[train_X.columns[idx],w]],columns=['col','weight']),ignore_index=True)\n",
        "df_features=df_features.sort_values(by=['weight'],ascending=False).reset_index(drop=True)\n",
        "df_features['log_value'] = np.exp(df_features.weight)"
      ]
    },
    {
      "cell_type": "code",
      "execution_count": null,
      "id": "35f3e407-804b-4be1-92be-d23f5ce67d82",
      "metadata": {
        "id": "35f3e407-804b-4be1-92be-d23f5ce67d82",
        "outputId": "39f46c25-289b-4b40-b370-49b44778501b"
      },
      "outputs": [
        {
          "data": {
            "text/plain": [
              "<AxesSubplot:xlabel='weight', ylabel='col'>"
            ]
          },
          "execution_count": 240,
          "metadata": {},
          "output_type": "execute_result"
        },
        {
          "data": {
            "image/png": "[encoded data removed]",
            "text/plain": [
              "<Figure size 720x1440 with 1 Axes>"
            ]
          },
          "metadata": {},
          "output_type": "display_data"
        }
      ],
      "source": [
        "#plot\n",
        "plt.figure(figsize=(10,20))\n",
        "sns.barplot(data=df_features,x='weight',y='col')\n",
        "# plt.show()"
      ]
    },
    {
      "cell_type": "code",
      "execution_count": null,
      "id": "09a5eae8-fbfd-4cc1-a4b5-745174b483d3",
      "metadata": {
        "id": "09a5eae8-fbfd-4cc1-a4b5-745174b483d3"
      },
      "outputs": [],
      "source": [
        ""
      ]
    }
  ],
  "metadata": {
    "kernelspec": {
      "display_name": "Python 3 (ipykernel)",
      "language": "python",
      "name": "python3"
    },
    "language_info": {
      "codemirror_mode": {
        "name": "ipython",
        "version": 3
      },
      "file_extension": ".py",
      "mimetype": "text/x-python",
      "name": "python",
      "nbconvert_exporter": "python",
      "pygments_lexer": "ipython3",
      "version": "3.8.10"
    },
    "colab": {
      "name": "modeling_t_4.ipynb",
      "provenance": [],
      "include_colab_link": true
    }
  },
  "nbformat": 4,
  "nbformat_minor": 5
}